{
 "cells": [
  {
   "cell_type": "markdown",
   "metadata": {},
   "source": [
    "# 서포트벡터머신"
   ]
  },
  {
   "cell_type": "code",
   "execution_count": 1,
   "metadata": {},
   "outputs": [],
   "source": [
    "import pandas as pd\n",
    "\n",
    "import matplotlib.pyplot as plt\n",
    "import matplotlib\n",
    "\n",
    "from sklearn.preprocessing import StandardScaler\n",
    "from sklearn.model_selection import train_test_split\n",
    "\n",
    "from sklearn.svm import SVC\n",
    "from sklearn.model_selection import GridSearchCV\n",
    "from sklearn.metrics import confusion_matrix\n",
    "\n"
   ]
  },
  {
   "cell_type": "code",
   "execution_count": 2,
   "metadata": {},
   "outputs": [],
   "source": [
    "df_raw=pd.read_csv('/home/pirl/test/4 weeks/유방암.csv')"
   ]
  },
  {
   "cell_type": "code",
   "execution_count": 3,
   "metadata": {},
   "outputs": [
    {
     "data": {
      "text/plain": [
       "diagnosis                  0\n",
       "mean radius                0\n",
       "mean texture               0\n",
       "mean perimeter             0\n",
       "mean area                  0\n",
       "mean smoothness            0\n",
       "mean compactness           0\n",
       "mean concavity             0\n",
       "mean concave points        0\n",
       "mean symmetry              0\n",
       "mean fractal dimension     0\n",
       "radius error               0\n",
       "texture error              0\n",
       "perimeter error            0\n",
       "area error                 0\n",
       "smoothness error           0\n",
       "compactness error          0\n",
       "concavity error            0\n",
       "concave points error       0\n",
       "symmetry error             0\n",
       "fractal dimension error    0\n",
       "worst radius               0\n",
       "worst texture              0\n",
       "worst perimeter            0\n",
       "worst area                 0\n",
       "worst smoothness           0\n",
       "worst compactness          0\n",
       "worst concavity            0\n",
       "worst concave points       0\n",
       "worst symmetry             0\n",
       "worst fractal dimension    0\n",
       "dtype: int64"
      ]
     },
     "execution_count": 3,
     "metadata": {},
     "output_type": "execute_result"
    }
   ],
   "source": [
    "df_raw.isnull().sum()"
   ]
  },
  {
   "cell_type": "code",
   "execution_count": 4,
   "metadata": {},
   "outputs": [
    {
     "name": "stdout",
     "output_type": "stream",
     "text": [
      "train data X size:(227, 30)\n",
      "train data Y size:(227,)\n",
      "validation data X size:(171, 30)\n",
      "validation data Y size:(171,)\n",
      "test data X size:(171, 30)\n",
      "test data Y size:(171,)\n"
     ]
    }
   ],
   "source": [
    "df_raw_y=df_raw['diagnosis']\n",
    "df_raw_x=df_raw.drop('diagnosis', axis=1, inplace=False)\n",
    "\n",
    "df_train_x,df_test_x,df_train_y,df_test_y=train_test_split(df_raw_x,df_raw_y,test_size=0.6, random_state=1234)\n",
    "df_validation_x,df_test_x,df_validation_y,df_test_y=train_test_split(df_test_x,df_test_y,test_size=0.5, random_state=1234)\n",
    "print(\"train data X size:{}\".format(df_train_x.shape))\n",
    "print(\"train data Y size:{}\".format(df_train_y.shape))\n",
    "print(\"validation data X size:{}\".format(df_validation_x.shape))\n",
    "print(\"validation data Y size:{}\".format(df_validation_y.shape))\n",
    "print(\"test data X size:{}\".format(df_test_x.shape))\n",
    "print(\"test data Y size:{}\".format(df_test_y.shape))"
   ]
  },
  {
   "cell_type": "code",
   "execution_count": 5,
   "metadata": {},
   "outputs": [
    {
     "name": "stdout",
     "output_type": "stream",
     "text": [
      "Accuracy on training set:1.000\n",
      "Accuracy on validation set:0.667\n"
     ]
    },
    {
     "name": "stderr",
     "output_type": "stream",
     "text": [
      "/home/pirl/anaconda3/lib/python3.7/site-packages/sklearn/svm/base.py:193: FutureWarning: The default value of gamma will change from 'auto' to 'scale' in version 0.22 to account better for unscaled features. Set gamma explicitly to 'auto' or 'scale' to avoid this warning.\n",
      "  \"avoid this warning.\", FutureWarning)\n"
     ]
    }
   ],
   "source": [
    "svm_uncustomized=SVC(random_state=1234)\n",
    "svm_uncustomized.fit(df_train_x,df_train_y)\n",
    "\n",
    "print(\"Accuracy on training set:{:.3f}\".format(svm_uncustomized.score(df_train_x, df_train_y)))\n",
    "\n",
    "print(\"Accuracy on validation set:{:.3f}\".format(svm_uncustomized.score(df_validation_x, df_validation_y)))\n"
   ]
  },
  {
   "cell_type": "code",
   "execution_count": 6,
   "metadata": {},
   "outputs": [
    {
     "data": {
      "text/plain": [
       "SVC(C=1.0, cache_size=200, class_weight=None, coef0=0.0,\n",
       "    decision_function_shape='ovr', degree=3, gamma='auto_deprecated',\n",
       "    kernel='rbf', max_iter=-1, probability=False, random_state=1234,\n",
       "    shrinking=True, tol=0.001, verbose=False)"
      ]
     },
     "execution_count": 6,
     "metadata": {},
     "output_type": "execute_result"
    }
   ],
   "source": [
    "svm_uncustomized"
   ]
  },
  {
   "cell_type": "code",
   "execution_count": 7,
   "metadata": {},
   "outputs": [
    {
     "name": "stderr",
     "output_type": "stream",
     "text": [
      "/home/pirl/anaconda3/lib/python3.7/site-packages/sklearn/svm/base.py:193: FutureWarning: The default value of gamma will change from 'auto' to 'scale' in version 0.22 to account better for unscaled features. Set gamma explicitly to 'auto' or 'scale' to avoid this warning.\n",
      "  \"avoid this warning.\", FutureWarning)\n",
      "/home/pirl/anaconda3/lib/python3.7/site-packages/sklearn/svm/base.py:193: FutureWarning: The default value of gamma will change from 'auto' to 'scale' in version 0.22 to account better for unscaled features. Set gamma explicitly to 'auto' or 'scale' to avoid this warning.\n",
      "  \"avoid this warning.\", FutureWarning)\n",
      "/home/pirl/anaconda3/lib/python3.7/site-packages/sklearn/svm/base.py:193: FutureWarning: The default value of gamma will change from 'auto' to 'scale' in version 0.22 to account better for unscaled features. Set gamma explicitly to 'auto' or 'scale' to avoid this warning.\n",
      "  \"avoid this warning.\", FutureWarning)\n",
      "/home/pirl/anaconda3/lib/python3.7/site-packages/sklearn/svm/base.py:193: FutureWarning: The default value of gamma will change from 'auto' to 'scale' in version 0.22 to account better for unscaled features. Set gamma explicitly to 'auto' or 'scale' to avoid this warning.\n",
      "  \"avoid this warning.\", FutureWarning)\n"
     ]
    },
    {
     "data": {
      "text/html": [
       "<div>\n",
       "<style scoped>\n",
       "    .dataframe tbody tr th:only-of-type {\n",
       "        vertical-align: middle;\n",
       "    }\n",
       "\n",
       "    .dataframe tbody tr th {\n",
       "        vertical-align: top;\n",
       "    }\n",
       "\n",
       "    .dataframe thead th {\n",
       "        text-align: right;\n",
       "    }\n",
       "</style>\n",
       "<table border=\"1\" class=\"dataframe\">\n",
       "  <thead>\n",
       "    <tr style=\"text-align: right;\">\n",
       "      <th></th>\n",
       "      <th>C</th>\n",
       "      <th>TrainAccuracy</th>\n",
       "      <th>ValidationAccuracy</th>\n",
       "    </tr>\n",
       "  </thead>\n",
       "  <tbody>\n",
       "    <tr>\n",
       "      <td>0</td>\n",
       "      <td>0.01</td>\n",
       "      <td>0.621</td>\n",
       "      <td>0.667</td>\n",
       "    </tr>\n",
       "    <tr>\n",
       "      <td>1</td>\n",
       "      <td>0.10</td>\n",
       "      <td>0.621</td>\n",
       "      <td>0.667</td>\n",
       "    </tr>\n",
       "    <tr>\n",
       "      <td>2</td>\n",
       "      <td>1.00</td>\n",
       "      <td>1.000</td>\n",
       "      <td>0.667</td>\n",
       "    </tr>\n",
       "    <tr>\n",
       "      <td>3</td>\n",
       "      <td>10.00</td>\n",
       "      <td>1.000</td>\n",
       "      <td>0.667</td>\n",
       "    </tr>\n",
       "  </tbody>\n",
       "</table>\n",
       "</div>"
      ],
      "text/plain": [
       "       C  TrainAccuracy  ValidationAccuracy\n",
       "0   0.01          0.621               0.667\n",
       "1   0.10          0.621               0.667\n",
       "2   1.00          1.000               0.667\n",
       "3  10.00          1.000               0.667"
      ]
     },
     "execution_count": 7,
     "metadata": {},
     "output_type": "execute_result"
    }
   ],
   "source": [
    "train_accuracy=[]; validation_accuracy=[]\n",
    "\n",
    "para_c=[10**c for c in range(-2,2)]\n",
    "\n",
    "for v_C in para_c:\n",
    "    svm=SVC(C=v_C, random_state=1234)\n",
    "    svm.fit(df_train_x,df_train_y)\n",
    "    train_accuracy.append(svm.score(df_train_x,df_train_y))\n",
    "    validation_accuracy.append(svm.score(df_validation_x,df_validation_y))\n",
    "    \n",
    "df_accuracy_c=pd.DataFrame()\n",
    "df_accuracy_c['C']=para_c\n",
    "df_accuracy_c['TrainAccuracy']=train_accuracy\n",
    "df_accuracy_c['ValidationAccuracy']=validation_accuracy\n",
    "\n",
    "df_accuracy_c.round(3)\n"
   ]
  },
  {
   "cell_type": "code",
   "execution_count": 8,
   "metadata": {},
   "outputs": [
    {
     "data": {
      "text/plain": [
       "<matplotlib.legend.Legend at 0x7f0f5c333dd0>"
      ]
     },
     "execution_count": 8,
     "metadata": {},
     "output_type": "execute_result"
    },
    {
     "data": {
      "image/png": "[encoded data removed]",
      "text/plain": [
       "<Figure size 432x288 with 1 Axes>"
      ]
     },
     "metadata": {
      "needs_background": "light"
     },
     "output_type": "display_data"
    }
   ],
   "source": [
    "plt.plot(para_c,train_accuracy,linestyle='-', label='Train Accuracy')\n",
    "plt.plot(para_c,validation_accuracy,linestyle='--', label='Validation Accuracy')\n",
    "plt.ylabel('accuracy'); plt.xlabel('C')\n",
    "plt.legend()"
   ]
  },
  {
   "cell_type": "code",
   "execution_count": 9,
   "metadata": {},
   "outputs": [],
   "source": [
    "C=0.1\n",
    "#C가 1 이상이면 train 데이터 이용한 모델의 정확도는 1로 과대적합. validation 정확도는 변화 없음."
   ]
  },
  {
   "cell_type": "code",
   "execution_count": 10,
   "metadata": {},
   "outputs": [
    {
     "data": {
      "text/html": [
       "<div>\n",
       "<style scoped>\n",
       "    .dataframe tbody tr th:only-of-type {\n",
       "        vertical-align: middle;\n",
       "    }\n",
       "\n",
       "    .dataframe tbody tr th {\n",
       "        vertical-align: top;\n",
       "    }\n",
       "\n",
       "    .dataframe thead th {\n",
       "        text-align: right;\n",
       "    }\n",
       "</style>\n",
       "<table border=\"1\" class=\"dataframe\">\n",
       "  <thead>\n",
       "    <tr style=\"text-align: right;\">\n",
       "      <th></th>\n",
       "      <th>gamma</th>\n",
       "      <th>TrainAccuracy</th>\n",
       "      <th>ValidationAccuracy</th>\n",
       "    </tr>\n",
       "  </thead>\n",
       "  <tbody>\n",
       "    <tr>\n",
       "      <td>0</td>\n",
       "      <td>0.01</td>\n",
       "      <td>0.621</td>\n",
       "      <td>0.667</td>\n",
       "    </tr>\n",
       "    <tr>\n",
       "      <td>1</td>\n",
       "      <td>0.10</td>\n",
       "      <td>0.621</td>\n",
       "      <td>0.667</td>\n",
       "    </tr>\n",
       "    <tr>\n",
       "      <td>2</td>\n",
       "      <td>1.00</td>\n",
       "      <td>0.621</td>\n",
       "      <td>0.667</td>\n",
       "    </tr>\n",
       "    <tr>\n",
       "      <td>3</td>\n",
       "      <td>10.00</td>\n",
       "      <td>0.621</td>\n",
       "      <td>0.667</td>\n",
       "    </tr>\n",
       "  </tbody>\n",
       "</table>\n",
       "</div>"
      ],
      "text/plain": [
       "   gamma  TrainAccuracy  ValidationAccuracy\n",
       "0   0.01          0.621               0.667\n",
       "1   0.10          0.621               0.667\n",
       "2   1.00          0.621               0.667\n",
       "3  10.00          0.621               0.667"
      ]
     },
     "execution_count": 10,
     "metadata": {},
     "output_type": "execute_result"
    }
   ],
   "source": [
    "train_accuracy=[]; validation_accuracy=[]\n",
    "\n",
    "para_gamma=[10**gamma for gamma in range(-2,2)]\n",
    "\n",
    "for v_gamma in para_gamma:\n",
    "    svm=SVC(gamma=v_gamma, C=0.1, random_state=1234)\n",
    "    svm.fit(df_train_x,df_train_y)\n",
    "    train_accuracy.append(svm.score(df_train_x,df_train_y))\n",
    "    validation_accuracy.append(svm.score(df_validation_x,df_validation_y))\n",
    "    \n",
    "df_accuracy_gamma=pd.DataFrame()\n",
    "df_accuracy_gamma['gamma']=para_c\n",
    "df_accuracy_gamma['TrainAccuracy']=train_accuracy\n",
    "df_accuracy_gamma['ValidationAccuracy']=validation_accuracy\n",
    "\n",
    "df_accuracy_gamma.round(3)"
   ]
  },
  {
   "cell_type": "code",
   "execution_count": 11,
   "metadata": {},
   "outputs": [
    {
     "data": {
      "text/plain": [
       "<matplotlib.legend.Legend at 0x7f0f5c26ccd0>"
      ]
     },
     "execution_count": 11,
     "metadata": {},
     "output_type": "execute_result"
    },
    {
     "data": {
      "image/png": "[encoded data removed]",
      "text/plain": [
       "<Figure size 432x288 with 1 Axes>"
      ]
     },
     "metadata": {
      "needs_background": "light"
     },
     "output_type": "display_data"
    }
   ],
   "source": [
    "plt.plot(para_gamma, train_accuracy, linestyle='-',label='Train Accuracy')\n",
    "plt.plot(para_gamma, validation_accuracy, linestyle='--',label='Validation Accuracy')\n",
    "plt.ylabel('accuracy');plt.xlabel('gamma')\n",
    "plt.legend()"
   ]
  },
  {
   "cell_type": "code",
   "execution_count": 12,
   "metadata": {},
   "outputs": [],
   "source": [
    "# gamma 변화는 정확도에 영향을 미치지 않음"
   ]
  },
  {
   "cell_type": "code",
   "execution_count": 13,
   "metadata": {},
   "outputs": [
    {
     "data": {
      "text/html": [
       "<div>\n",
       "<style scoped>\n",
       "    .dataframe tbody tr th:only-of-type {\n",
       "        vertical-align: middle;\n",
       "    }\n",
       "\n",
       "    .dataframe tbody tr th {\n",
       "        vertical-align: top;\n",
       "    }\n",
       "\n",
       "    .dataframe thead th {\n",
       "        text-align: right;\n",
       "    }\n",
       "</style>\n",
       "<table border=\"1\" class=\"dataframe\">\n",
       "  <thead>\n",
       "    <tr style=\"text-align: right;\">\n",
       "      <th></th>\n",
       "      <th>mean radius</th>\n",
       "      <th>mean texture</th>\n",
       "      <th>mean perimeter</th>\n",
       "      <th>mean area</th>\n",
       "      <th>mean smoothness</th>\n",
       "      <th>mean compactness</th>\n",
       "      <th>mean concavity</th>\n",
       "      <th>mean concave points</th>\n",
       "      <th>mean symmetry</th>\n",
       "      <th>mean fractal dimension</th>\n",
       "      <th>...</th>\n",
       "      <th>worst radius</th>\n",
       "      <th>worst texture</th>\n",
       "      <th>worst perimeter</th>\n",
       "      <th>worst area</th>\n",
       "      <th>worst smoothness</th>\n",
       "      <th>worst compactness</th>\n",
       "      <th>worst concavity</th>\n",
       "      <th>worst concave points</th>\n",
       "      <th>worst symmetry</th>\n",
       "      <th>worst fractal dimension</th>\n",
       "    </tr>\n",
       "  </thead>\n",
       "  <tbody>\n",
       "    <tr>\n",
       "      <td>0</td>\n",
       "      <td>1.097064</td>\n",
       "      <td>-2.073335</td>\n",
       "      <td>1.269934</td>\n",
       "      <td>0.984375</td>\n",
       "      <td>1.568466</td>\n",
       "      <td>3.283515</td>\n",
       "      <td>2.652874</td>\n",
       "      <td>2.532475</td>\n",
       "      <td>2.217515</td>\n",
       "      <td>2.255747</td>\n",
       "      <td>...</td>\n",
       "      <td>1.886690</td>\n",
       "      <td>-1.359293</td>\n",
       "      <td>2.303601</td>\n",
       "      <td>2.001237</td>\n",
       "      <td>1.307686</td>\n",
       "      <td>2.616665</td>\n",
       "      <td>2.109526</td>\n",
       "      <td>2.296076</td>\n",
       "      <td>2.750622</td>\n",
       "      <td>1.937015</td>\n",
       "    </tr>\n",
       "    <tr>\n",
       "      <td>1</td>\n",
       "      <td>1.829821</td>\n",
       "      <td>-0.353632</td>\n",
       "      <td>1.685955</td>\n",
       "      <td>1.908708</td>\n",
       "      <td>-0.826962</td>\n",
       "      <td>-0.487072</td>\n",
       "      <td>-0.023846</td>\n",
       "      <td>0.548144</td>\n",
       "      <td>0.001392</td>\n",
       "      <td>-0.868652</td>\n",
       "      <td>...</td>\n",
       "      <td>1.805927</td>\n",
       "      <td>-0.369203</td>\n",
       "      <td>1.535126</td>\n",
       "      <td>1.890489</td>\n",
       "      <td>-0.375612</td>\n",
       "      <td>-0.430444</td>\n",
       "      <td>-0.146749</td>\n",
       "      <td>1.087084</td>\n",
       "      <td>-0.243890</td>\n",
       "      <td>0.281190</td>\n",
       "    </tr>\n",
       "    <tr>\n",
       "      <td>2</td>\n",
       "      <td>1.579888</td>\n",
       "      <td>0.456187</td>\n",
       "      <td>1.566503</td>\n",
       "      <td>1.558884</td>\n",
       "      <td>0.942210</td>\n",
       "      <td>1.052926</td>\n",
       "      <td>1.363478</td>\n",
       "      <td>2.037231</td>\n",
       "      <td>0.939685</td>\n",
       "      <td>-0.398008</td>\n",
       "      <td>...</td>\n",
       "      <td>1.511870</td>\n",
       "      <td>-0.023974</td>\n",
       "      <td>1.347475</td>\n",
       "      <td>1.456285</td>\n",
       "      <td>0.527407</td>\n",
       "      <td>1.082932</td>\n",
       "      <td>0.854974</td>\n",
       "      <td>1.955000</td>\n",
       "      <td>1.152255</td>\n",
       "      <td>0.201391</td>\n",
       "    </tr>\n",
       "    <tr>\n",
       "      <td>3</td>\n",
       "      <td>-0.768909</td>\n",
       "      <td>0.253732</td>\n",
       "      <td>-0.592687</td>\n",
       "      <td>-0.764464</td>\n",
       "      <td>3.283553</td>\n",
       "      <td>3.402909</td>\n",
       "      <td>1.915897</td>\n",
       "      <td>1.451707</td>\n",
       "      <td>2.867383</td>\n",
       "      <td>4.910919</td>\n",
       "      <td>...</td>\n",
       "      <td>-0.281464</td>\n",
       "      <td>0.133984</td>\n",
       "      <td>-0.249939</td>\n",
       "      <td>-0.550021</td>\n",
       "      <td>3.394275</td>\n",
       "      <td>3.893397</td>\n",
       "      <td>1.989588</td>\n",
       "      <td>2.175786</td>\n",
       "      <td>6.046041</td>\n",
       "      <td>4.935010</td>\n",
       "    </tr>\n",
       "    <tr>\n",
       "      <td>4</td>\n",
       "      <td>1.750297</td>\n",
       "      <td>-1.151816</td>\n",
       "      <td>1.776573</td>\n",
       "      <td>1.826229</td>\n",
       "      <td>0.280372</td>\n",
       "      <td>0.539340</td>\n",
       "      <td>1.371011</td>\n",
       "      <td>1.428493</td>\n",
       "      <td>-0.009560</td>\n",
       "      <td>-0.562450</td>\n",
       "      <td>...</td>\n",
       "      <td>1.298575</td>\n",
       "      <td>-1.466770</td>\n",
       "      <td>1.338539</td>\n",
       "      <td>1.220724</td>\n",
       "      <td>0.220556</td>\n",
       "      <td>-0.313395</td>\n",
       "      <td>0.613179</td>\n",
       "      <td>0.729259</td>\n",
       "      <td>-0.868353</td>\n",
       "      <td>-0.397100</td>\n",
       "    </tr>\n",
       "  </tbody>\n",
       "</table>\n",
       "<p>5 rows × 30 columns</p>\n",
       "</div>"
      ],
      "text/plain": [
       "   mean radius  mean texture  mean perimeter  mean area  mean smoothness  \\\n",
       "0     1.097064     -2.073335        1.269934   0.984375         1.568466   \n",
       "1     1.829821     -0.353632        1.685955   1.908708        -0.826962   \n",
       "2     1.579888      0.456187        1.566503   1.558884         0.942210   \n",
       "3    -0.768909      0.253732       -0.592687  -0.764464         3.283553   \n",
       "4     1.750297     -1.151816        1.776573   1.826229         0.280372   \n",
       "\n",
       "   mean compactness  mean concavity  mean concave points  mean symmetry  \\\n",
       "0          3.283515        2.652874             2.532475       2.217515   \n",
       "1         -0.487072       -0.023846             0.548144       0.001392   \n",
       "2          1.052926        1.363478             2.037231       0.939685   \n",
       "3          3.402909        1.915897             1.451707       2.867383   \n",
       "4          0.539340        1.371011             1.428493      -0.009560   \n",
       "\n",
       "   mean fractal dimension  ...  worst radius  worst texture  worst perimeter  \\\n",
       "0                2.255747  ...      1.886690      -1.359293         2.303601   \n",
       "1               -0.868652  ...      1.805927      -0.369203         1.535126   \n",
       "2               -0.398008  ...      1.511870      -0.023974         1.347475   \n",
       "3                4.910919  ...     -0.281464       0.133984        -0.249939   \n",
       "4               -0.562450  ...      1.298575      -1.466770         1.338539   \n",
       "\n",
       "   worst area  worst smoothness  worst compactness  worst concavity  \\\n",
       "0    2.001237          1.307686           2.616665         2.109526   \n",
       "1    1.890489         -0.375612          -0.430444        -0.146749   \n",
       "2    1.456285          0.527407           1.082932         0.854974   \n",
       "3   -0.550021          3.394275           3.893397         1.989588   \n",
       "4    1.220724          0.220556          -0.313395         0.613179   \n",
       "\n",
       "   worst concave points  worst symmetry  worst fractal dimension  \n",
       "0              2.296076        2.750622                 1.937015  \n",
       "1              1.087084       -0.243890                 0.281190  \n",
       "2              1.955000        1.152255                 0.201391  \n",
       "3              2.175786        6.046041                 4.935010  \n",
       "4              0.729259       -0.868353                -0.397100  \n",
       "\n",
       "[5 rows x 30 columns]"
      ]
     },
     "execution_count": 13,
     "metadata": {},
     "output_type": "execute_result"
    }
   ],
   "source": [
    "v_feature_name=df_train_x.columns\n",
    "\n",
    "scaler=StandardScaler()\n",
    "df_scaled=scaler.fit_transform(df_raw_x)\n",
    "df_scaled=pd.DataFrame(df_scaled, columns=v_feature_name)\n",
    "df_scaled.head()"
   ]
  },
  {
   "cell_type": "code",
   "execution_count": 14,
   "metadata": {},
   "outputs": [
    {
     "name": "stdout",
     "output_type": "stream",
     "text": [
      "train data X size:(227, 30)\n",
      "validation data X size:(171, 30)\n",
      "test data X size:(171, 30)\n"
     ]
    }
   ],
   "source": [
    "df_scaled_train_x,df_scaled_test_x=train_test_split(df_scaled,test_size=0.6,random_state=1234)\n",
    "df_scaled_validation_x,df_scaled_test_x=train_test_split(df_scaled_test_x, test_size=0.5, random_state=1234)\n",
    "print('train data X size:{}'.format(df_scaled_train_x.shape))\n",
    "print(\"validation data X size:{}\".format(df_scaled_validation_x.shape))\n",
    "print('test data X size:{}'.format(df_scaled_test_x.shape))\n",
    "\n",
    "\n",
    "\n",
    "\n",
    "\n"
   ]
  },
  {
   "cell_type": "code",
   "execution_count": 15,
   "metadata": {},
   "outputs": [
    {
     "name": "stdout",
     "output_type": "stream",
     "text": [
      "Accuracy on training set:0.996\n",
      "Accuracy on validation set:0.936\n"
     ]
    },
    {
     "name": "stderr",
     "output_type": "stream",
     "text": [
      "/home/pirl/anaconda3/lib/python3.7/site-packages/sklearn/svm/base.py:193: FutureWarning: The default value of gamma will change from 'auto' to 'scale' in version 0.22 to account better for unscaled features. Set gamma explicitly to 'auto' or 'scale' to avoid this warning.\n",
      "  \"avoid this warning.\", FutureWarning)\n"
     ]
    }
   ],
   "source": [
    "svm_scaled=SVC(random_state=1234)\n",
    "svm_scaled.fit(df_scaled_train_x, df_train_y)\n",
    "\n",
    "print(\"Accuracy on training set:{:.3f}\".format(svm_scaled.score(df_scaled_train_x,df_train_y)))\n",
    "\n",
    "print(\"Accuracy on validation set:{:.3f}\".format(svm_scaled.score(df_scaled_validation_x,df_validation_y)))\n",
    "\n",
    "\n"
   ]
  },
  {
   "cell_type": "code",
   "execution_count": 16,
   "metadata": {},
   "outputs": [],
   "source": [
    "#scale 변환 전 training set의 정확도는 1로 더 높았지만 validation set의 정확도는 0.667에서 0.936으로 scale변환 후 더 증가한 것을 알 수 있다."
   ]
  },
  {
   "cell_type": "code",
   "execution_count": 17,
   "metadata": {},
   "outputs": [
    {
     "name": "stderr",
     "output_type": "stream",
     "text": [
      "/home/pirl/anaconda3/lib/python3.7/site-packages/sklearn/svm/base.py:193: FutureWarning: The default value of gamma will change from 'auto' to 'scale' in version 0.22 to account better for unscaled features. Set gamma explicitly to 'auto' or 'scale' to avoid this warning.\n",
      "  \"avoid this warning.\", FutureWarning)\n",
      "/home/pirl/anaconda3/lib/python3.7/site-packages/sklearn/svm/base.py:193: FutureWarning: The default value of gamma will change from 'auto' to 'scale' in version 0.22 to account better for unscaled features. Set gamma explicitly to 'auto' or 'scale' to avoid this warning.\n",
      "  \"avoid this warning.\", FutureWarning)\n",
      "/home/pirl/anaconda3/lib/python3.7/site-packages/sklearn/svm/base.py:193: FutureWarning: The default value of gamma will change from 'auto' to 'scale' in version 0.22 to account better for unscaled features. Set gamma explicitly to 'auto' or 'scale' to avoid this warning.\n",
      "  \"avoid this warning.\", FutureWarning)\n",
      "/home/pirl/anaconda3/lib/python3.7/site-packages/sklearn/svm/base.py:193: FutureWarning: The default value of gamma will change from 'auto' to 'scale' in version 0.22 to account better for unscaled features. Set gamma explicitly to 'auto' or 'scale' to avoid this warning.\n",
      "  \"avoid this warning.\", FutureWarning)\n"
     ]
    },
    {
     "data": {
      "text/html": [
       "<div>\n",
       "<style scoped>\n",
       "    .dataframe tbody tr th:only-of-type {\n",
       "        vertical-align: middle;\n",
       "    }\n",
       "\n",
       "    .dataframe tbody tr th {\n",
       "        vertical-align: top;\n",
       "    }\n",
       "\n",
       "    .dataframe thead th {\n",
       "        text-align: right;\n",
       "    }\n",
       "</style>\n",
       "<table border=\"1\" class=\"dataframe\">\n",
       "  <thead>\n",
       "    <tr style=\"text-align: right;\">\n",
       "      <th></th>\n",
       "      <th>C</th>\n",
       "      <th>TrainAccuracy</th>\n",
       "      <th>ValidationAccuracy</th>\n",
       "    </tr>\n",
       "  </thead>\n",
       "  <tbody>\n",
       "    <tr>\n",
       "      <td>0</td>\n",
       "      <td>0.01</td>\n",
       "      <td>0.621</td>\n",
       "      <td>0.667</td>\n",
       "    </tr>\n",
       "    <tr>\n",
       "      <td>1</td>\n",
       "      <td>0.10</td>\n",
       "      <td>0.965</td>\n",
       "      <td>0.912</td>\n",
       "    </tr>\n",
       "    <tr>\n",
       "      <td>2</td>\n",
       "      <td>1.00</td>\n",
       "      <td>0.996</td>\n",
       "      <td>0.936</td>\n",
       "    </tr>\n",
       "    <tr>\n",
       "      <td>3</td>\n",
       "      <td>10.00</td>\n",
       "      <td>0.996</td>\n",
       "      <td>0.959</td>\n",
       "    </tr>\n",
       "  </tbody>\n",
       "</table>\n",
       "</div>"
      ],
      "text/plain": [
       "       C  TrainAccuracy  ValidationAccuracy\n",
       "0   0.01          0.621               0.667\n",
       "1   0.10          0.965               0.912\n",
       "2   1.00          0.996               0.936\n",
       "3  10.00          0.996               0.959"
      ]
     },
     "execution_count": 17,
     "metadata": {},
     "output_type": "execute_result"
    }
   ],
   "source": [
    "train_accuracy=[]; validation_accuracy=[]\n",
    "\n",
    "para_c=[10**c for c in range(-2,2)]\n",
    "\n",
    "for v_C in para_c:\n",
    "    svm=SVC(C=v_C, random_state=1234)\n",
    "    svm.fit(df_scaled_train_x,df_train_y)\n",
    "    train_accuracy.append(svm.score(df_scaled_train_x,df_train_y))\n",
    "    validation_accuracy.append(svm.score(df_scaled_validation_x,df_validation_y))\n",
    "    \n",
    "df_accuracy_c=pd.DataFrame()\n",
    "df_accuracy_c['C']=para_c\n",
    "df_accuracy_c['TrainAccuracy']=train_accuracy\n",
    "df_accuracy_c['ValidationAccuracy']=validation_accuracy\n",
    "\n",
    "df_accuracy_c.round(3)\n"
   ]
  },
  {
   "cell_type": "code",
   "execution_count": 18,
   "metadata": {},
   "outputs": [
    {
     "data": {
      "text/plain": [
       "<matplotlib.legend.Legend at 0x7f0f5c202090>"
      ]
     },
     "execution_count": 18,
     "metadata": {},
     "output_type": "execute_result"
    },
    {
     "data": {
      "image/png": "[encoded data removed]",
      "text/plain": [
       "<Figure size 432x288 with 1 Axes>"
      ]
     },
     "metadata": {
      "needs_background": "light"
     },
     "output_type": "display_data"
    }
   ],
   "source": [
    "plt.plot(para_c,train_accuracy,linestyle='-', label='Train Accuracy')\n",
    "plt.plot(para_c,validation_accuracy,linestyle='--', label='Validation Accuracy')\n",
    "plt.ylabel('accuracy'); plt.xlabel('C')\n",
    "plt.legend()"
   ]
  },
  {
   "cell_type": "code",
   "execution_count": 19,
   "metadata": {},
   "outputs": [],
   "source": [
    "C=10\n",
    "#C=10일때 모델의 정확도가 증가함."
   ]
  },
  {
   "cell_type": "code",
   "execution_count": 20,
   "metadata": {},
   "outputs": [
    {
     "data": {
      "text/html": [
       "<div>\n",
       "<style scoped>\n",
       "    .dataframe tbody tr th:only-of-type {\n",
       "        vertical-align: middle;\n",
       "    }\n",
       "\n",
       "    .dataframe tbody tr th {\n",
       "        vertical-align: top;\n",
       "    }\n",
       "\n",
       "    .dataframe thead th {\n",
       "        text-align: right;\n",
       "    }\n",
       "</style>\n",
       "<table border=\"1\" class=\"dataframe\">\n",
       "  <thead>\n",
       "    <tr style=\"text-align: right;\">\n",
       "      <th></th>\n",
       "      <th>gamma</th>\n",
       "      <th>TrainAccuracy</th>\n",
       "      <th>ValidationAccuracy</th>\n",
       "    </tr>\n",
       "  </thead>\n",
       "  <tbody>\n",
       "    <tr>\n",
       "      <td>0</td>\n",
       "      <td>0.01</td>\n",
       "      <td>0.996</td>\n",
       "      <td>0.959</td>\n",
       "    </tr>\n",
       "    <tr>\n",
       "      <td>1</td>\n",
       "      <td>0.10</td>\n",
       "      <td>1.000</td>\n",
       "      <td>0.912</td>\n",
       "    </tr>\n",
       "    <tr>\n",
       "      <td>2</td>\n",
       "      <td>1.00</td>\n",
       "      <td>1.000</td>\n",
       "      <td>0.667</td>\n",
       "    </tr>\n",
       "    <tr>\n",
       "      <td>3</td>\n",
       "      <td>10.00</td>\n",
       "      <td>1.000</td>\n",
       "      <td>0.667</td>\n",
       "    </tr>\n",
       "  </tbody>\n",
       "</table>\n",
       "</div>"
      ],
      "text/plain": [
       "   gamma  TrainAccuracy  ValidationAccuracy\n",
       "0   0.01          0.996               0.959\n",
       "1   0.10          1.000               0.912\n",
       "2   1.00          1.000               0.667\n",
       "3  10.00          1.000               0.667"
      ]
     },
     "execution_count": 20,
     "metadata": {},
     "output_type": "execute_result"
    }
   ],
   "source": [
    "train_accuracy=[]; validation_accuracy=[]\n",
    "\n",
    "para_gamma=[10**gamma for gamma in range(-2,2)]\n",
    "\n",
    "for v_gamma in para_gamma:\n",
    "    svm=SVC(gamma=v_gamma, C=10, random_state=1234)\n",
    "    svm.fit(df_scaled_train_x,df_train_y)\n",
    "    train_accuracy.append(svm.score(df_scaled_train_x,df_train_y))\n",
    "    validation_accuracy.append(svm.score(df_scaled_validation_x,df_validation_y))\n",
    "    \n",
    "df_accuracy_gamma=pd.DataFrame()\n",
    "df_accuracy_gamma['gamma']=para_c\n",
    "df_accuracy_gamma['TrainAccuracy']=train_accuracy\n",
    "df_accuracy_gamma['ValidationAccuracy']=validation_accuracy\n",
    "\n",
    "df_accuracy_gamma.round(3)"
   ]
  },
  {
   "cell_type": "code",
   "execution_count": 21,
   "metadata": {},
   "outputs": [
    {
     "data": {
      "text/plain": [
       "<matplotlib.legend.Legend at 0x7f0f5c185890>"
      ]
     },
     "execution_count": 21,
     "metadata": {},
     "output_type": "execute_result"
    },
    {
     "data": {
      "image/png": "[encoded data removed]",
      "text/plain": [
       "<Figure size 432x288 with 1 Axes>"
      ]
     },
     "metadata": {
      "needs_background": "light"
     },
     "output_type": "display_data"
    }
   ],
   "source": [
    "plt.plot(para_gamma, train_accuracy, linestyle='-',label='Train Accuracy')\n",
    "plt.plot(para_gamma, validation_accuracy, linestyle='--',label='Validation Accuracy')\n",
    "plt.ylabel('accuracy');plt.xlabel('gamma')\n",
    "plt.legend()"
   ]
  },
  {
   "cell_type": "code",
   "execution_count": 22,
   "metadata": {},
   "outputs": [],
   "source": [
    "gamma=0.01\n",
    "#0.01보다 크면 과대적합되며 validation set의 정확도도 떨어짐."
   ]
  },
  {
   "cell_type": "code",
   "execution_count": 23,
   "metadata": {},
   "outputs": [
    {
     "name": "stdout",
     "output_type": "stream",
     "text": [
      "Accuracy on training set:0.996\n",
      "\n",
      "Accuracy on validation set:0.959\n",
      "\n",
      "Confusion matrix:\n",
      "[[113   1]\n",
      " [  6  51]]\n"
     ]
    }
   ],
   "source": [
    "svc_final=SVC(gamma=0.01,C=10, random_state=1234)\n",
    "\n",
    "svc_final.fit(df_scaled_train_x, df_train_y)\n",
    "y_pred=svc_final.predict(df_scaled_validation_x)\n",
    "\n",
    "print('Accuracy on training set:{0:.3f}\\n'.format(svc_final.score(df_scaled_train_x,df_train_y)))\n",
    "\n",
    "print('Accuracy on validation set:{0:.3f}\\n'.format(svc_final.score(df_scaled_validation_x,df_validation_y)))\n",
    "print(\"Confusion matrix:\\n{}\".format(confusion_matrix(df_validation_y,y_pred)))"
   ]
  },
  {
   "cell_type": "code",
   "execution_count": 24,
   "metadata": {},
   "outputs": [
    {
     "name": "stderr",
     "output_type": "stream",
     "text": [
      "/home/pirl/anaconda3/lib/python3.7/site-packages/sklearn/model_selection/_split.py:1978: FutureWarning: The default value of cv will change from 3 to 5 in version 0.22. Specify it explicitly to silence this warning.\n",
      "  warnings.warn(CV_WARNING, FutureWarning)\n"
     ]
    },
    {
     "name": "stdout",
     "output_type": "stream",
     "text": [
      "best estimator model:\n",
      "SVC(C=1, cache_size=200, class_weight=None, coef0=0.0,\n",
      "    decision_function_shape='ovr', degree=3, gamma=0.01, kernel='rbf',\n",
      "    max_iter=-1, probability=False, random_state=1234, shrinking=True,\n",
      "    tol=0.001, verbose=False)\n",
      "\n",
      "best parameter:\n",
      "{'C': 1, 'gamma': 0.01}\n",
      "\n",
      "best score:\n",
      "0.969\n"
     ]
    }
   ],
   "source": [
    "estimator=SVC(random_state=1234)\n",
    "\n",
    "param_grid={'C':para_c, 'gamma':para_gamma}\n",
    "\n",
    "grid_rf=GridSearchCV(estimator,param_grid,scoring='accuracy', n_jobs=-1)\n",
    "grid_rf.fit(df_scaled_train_x,df_train_y)\n",
    "\n",
    "print('best estimator model:\\n{}'.format(grid_rf.best_estimator_))\n",
    "print(\"\\nbest parameter:\\n{}\".format(grid_rf.best_params_))\n",
    "print(\"\\nbest score:\\n{}\".format(grid_rf.best_score_.round(3)))"
   ]
  },
  {
   "cell_type": "code",
   "execution_count": 25,
   "metadata": {},
   "outputs": [
    {
     "name": "stdout",
     "output_type": "stream",
     "text": [
      "Accuracy on test set:0.959\n",
      "\n",
      "Confusion matrix:\n",
      "[[102   0]\n",
      " [  7  62]]\n"
     ]
    }
   ],
   "source": [
    "y_pred=svc_final.predict(df_scaled_test_x)\n",
    "print('Accuracy on test set:{0:.3f}\\n'.format(svc_final.score(df_scaled_test_x,df_test_y)))\n",
    "print(\"Confusion matrix:\\n{}\".format(confusion_matrix(df_test_y,y_pred)))"
   ]
  },
  {
   "cell_type": "code",
   "execution_count": 26,
   "metadata": {},
   "outputs": [
    {
     "data": {
      "text/plain": [
       "'\\nAccuracy on training set:0.996\\nAccuracy on validation set:0.959\\nAccuracy on test set:0.947\\nConfusion matrix:\\n[[102   0]\\n [  9  60]]\\n \\n최종적으로 C=10,gamma=0.01로 parameter를 선택하였으며 test set의 정확도는 0.947로 높은 편이다.\\nconfusion matrix를 살펴보면, 악성인데 양성으로 예측한개수는 0이고, 양성인데 악성으로 잘못 예측한 것은 9이다.\\n유방암인데 유방암이 아니라고 예측한 경우는 없으므로, 비교적 모델이 잘 만들어졌다고 볼 수 있을 것 같다.\\n'"
      ]
     },
     "execution_count": 26,
     "metadata": {},
     "output_type": "execute_result"
    }
   ],
   "source": [
    "'''\n",
    "Accuracy on training set:0.996\n",
    "Accuracy on validation set:0.959\n",
    "Accuracy on test set:0.947\n",
    "Confusion matrix:\n",
    "[[102   0]\n",
    " [  9  60]]\n",
    " \n",
    "최종적으로 C=10,gamma=0.01로 parameter를 선택하였으며 test set의 정확도는 0.947로 높은 편이다.\n",
    "confusion matrix를 살펴보면, 악성인데 양성으로 예측한개수는 0이고, 양성인데 악성으로 잘못 예측한 것은 9이다.\n",
    "유방암인데 유방암이 아니라고 예측한 경우는 없으므로, 비교적 모델이 잘 만들어졌다고 볼 수 있을 것 같다.\n",
    "'''"
   ]
  },
  {
   "cell_type": "markdown",
   "metadata": {},
   "source": [
    "# knn"
   ]
  },
  {
   "cell_type": "code",
   "execution_count": 27,
   "metadata": {},
   "outputs": [],
   "source": [
    "import pandas as pd\n",
    "\n",
    "import matplotlib.pyplot as plt\n",
    "import matplotlib\n",
    "\n",
    "from sklearn.preprocessing import StandardScaler\n",
    "from sklearn.model_selection import train_test_split\n",
    "\n",
    "from sklearn.neighbors import KNeighborsClassifier\n",
    "from sklearn.model_selection import GridSearchCV\n",
    "from sklearn.metrics import confusion_matrix\n",
    "\n",
    "import seaborn as sns"
   ]
  },
  {
   "cell_type": "code",
   "execution_count": 28,
   "metadata": {},
   "outputs": [],
   "source": [
    "df_raw=pd.read_csv('/home/pirl/test/4 weeks/유방암.csv')"
   ]
  },
  {
   "cell_type": "code",
   "execution_count": 29,
   "metadata": {},
   "outputs": [
    {
     "data": {
      "text/plain": [
       "diagnosis                  0\n",
       "mean radius                0\n",
       "mean texture               0\n",
       "mean perimeter             0\n",
       "mean area                  0\n",
       "mean smoothness            0\n",
       "mean compactness           0\n",
       "mean concavity             0\n",
       "mean concave points        0\n",
       "mean symmetry              0\n",
       "mean fractal dimension     0\n",
       "radius error               0\n",
       "texture error              0\n",
       "perimeter error            0\n",
       "area error                 0\n",
       "smoothness error           0\n",
       "compactness error          0\n",
       "concavity error            0\n",
       "concave points error       0\n",
       "symmetry error             0\n",
       "fractal dimension error    0\n",
       "worst radius               0\n",
       "worst texture              0\n",
       "worst perimeter            0\n",
       "worst area                 0\n",
       "worst smoothness           0\n",
       "worst compactness          0\n",
       "worst concavity            0\n",
       "worst concave points       0\n",
       "worst symmetry             0\n",
       "worst fractal dimension    0\n",
       "dtype: int64"
      ]
     },
     "execution_count": 29,
     "metadata": {},
     "output_type": "execute_result"
    }
   ],
   "source": [
    "df_raw.isnull().sum()"
   ]
  },
  {
   "cell_type": "code",
   "execution_count": 30,
   "metadata": {},
   "outputs": [
    {
     "name": "stdout",
     "output_type": "stream",
     "text": [
      "train data X size:(227, 30)\n",
      "train data Y size:(227,)\n",
      "validation data X size:(171, 30)\n",
      "validation data Y size:(171,)\n",
      "test data X size:(171, 30)\n",
      "test data Y size:(171,)\n"
     ]
    }
   ],
   "source": [
    "df_raw_y=df_raw['diagnosis']\n",
    "df_raw_x=df_raw.drop('diagnosis', axis=1, inplace=False)\n",
    "\n",
    "df_train_x,df_test_x,df_train_y,df_test_y=train_test_split(df_raw_x,df_raw_y,test_size=0.6, random_state=1234)\n",
    "df_validation_x,df_test_x,df_validation_y,df_test_y=train_test_split(df_test_x,df_test_y,test_size=0.5, random_state=1234)\n",
    "print(\"train data X size:{}\".format(df_train_x.shape))\n",
    "print(\"train data Y size:{}\".format(df_train_y.shape))\n",
    "print(\"validation data X size:{}\".format(df_validation_x.shape))\n",
    "print(\"validation data Y size:{}\".format(df_validation_y.shape))\n",
    "print(\"test data X size:{}\".format(df_test_x.shape))\n",
    "print(\"test data Y size:{}\".format(df_test_y.shape))"
   ]
  },
  {
   "cell_type": "code",
   "execution_count": 31,
   "metadata": {},
   "outputs": [
    {
     "name": "stdout",
     "output_type": "stream",
     "text": [
      "Accuracy on training set:0.943\n",
      "Accuracy on validation set:0.947\n"
     ]
    }
   ],
   "source": [
    "knn_uncustomized=KNeighborsClassifier()\n",
    "knn_uncustomized.fit(df_train_x,df_train_y)\n",
    "\n",
    "\n",
    "\n",
    "print(\"Accuracy on training set:{:.3f}\".format(knn_uncustomized.score(df_train_x, df_train_y)))\n",
    "\n",
    "print(\"Accuracy on validation set:{:.3f}\".format(knn_uncustomized.score(df_validation_x, df_validation_y)))\n",
    "\n",
    "      "
   ]
  },
  {
   "cell_type": "code",
   "execution_count": 32,
   "metadata": {},
   "outputs": [
    {
     "data": {
      "text/plain": [
       "KNeighborsClassifier(algorithm='auto', leaf_size=30, metric='minkowski',\n",
       "                     metric_params=None, n_jobs=None, n_neighbors=5, p=2,\n",
       "                     weights='uniform')"
      ]
     },
     "execution_count": 32,
     "metadata": {},
     "output_type": "execute_result"
    }
   ],
   "source": [
    "knn_uncustomized"
   ]
  },
  {
   "cell_type": "code",
   "execution_count": 33,
   "metadata": {},
   "outputs": [
    {
     "data": {
      "text/html": [
       "<div>\n",
       "<style scoped>\n",
       "    .dataframe tbody tr th:only-of-type {\n",
       "        vertical-align: middle;\n",
       "    }\n",
       "\n",
       "    .dataframe tbody tr th {\n",
       "        vertical-align: top;\n",
       "    }\n",
       "\n",
       "    .dataframe thead th {\n",
       "        text-align: right;\n",
       "    }\n",
       "</style>\n",
       "<table border=\"1\" class=\"dataframe\">\n",
       "  <thead>\n",
       "    <tr style=\"text-align: right;\">\n",
       "      <th></th>\n",
       "      <th>Neighbors</th>\n",
       "      <th>TrainAccuracy</th>\n",
       "      <th>ValidationAccuracy</th>\n",
       "    </tr>\n",
       "  </thead>\n",
       "  <tbody>\n",
       "    <tr>\n",
       "      <td>0</td>\n",
       "      <td>3</td>\n",
       "      <td>0.960</td>\n",
       "      <td>0.918</td>\n",
       "    </tr>\n",
       "    <tr>\n",
       "      <td>1</td>\n",
       "      <td>4</td>\n",
       "      <td>0.947</td>\n",
       "      <td>0.901</td>\n",
       "    </tr>\n",
       "    <tr>\n",
       "      <td>2</td>\n",
       "      <td>5</td>\n",
       "      <td>0.943</td>\n",
       "      <td>0.947</td>\n",
       "    </tr>\n",
       "    <tr>\n",
       "      <td>3</td>\n",
       "      <td>6</td>\n",
       "      <td>0.947</td>\n",
       "      <td>0.930</td>\n",
       "    </tr>\n",
       "    <tr>\n",
       "      <td>4</td>\n",
       "      <td>7</td>\n",
       "      <td>0.938</td>\n",
       "      <td>0.936</td>\n",
       "    </tr>\n",
       "    <tr>\n",
       "      <td>5</td>\n",
       "      <td>8</td>\n",
       "      <td>0.943</td>\n",
       "      <td>0.942</td>\n",
       "    </tr>\n",
       "    <tr>\n",
       "      <td>6</td>\n",
       "      <td>9</td>\n",
       "      <td>0.938</td>\n",
       "      <td>0.936</td>\n",
       "    </tr>\n",
       "    <tr>\n",
       "      <td>7</td>\n",
       "      <td>10</td>\n",
       "      <td>0.934</td>\n",
       "      <td>0.936</td>\n",
       "    </tr>\n",
       "    <tr>\n",
       "      <td>8</td>\n",
       "      <td>11</td>\n",
       "      <td>0.943</td>\n",
       "      <td>0.936</td>\n",
       "    </tr>\n",
       "    <tr>\n",
       "      <td>9</td>\n",
       "      <td>12</td>\n",
       "      <td>0.930</td>\n",
       "      <td>0.942</td>\n",
       "    </tr>\n",
       "    <tr>\n",
       "      <td>10</td>\n",
       "      <td>13</td>\n",
       "      <td>0.930</td>\n",
       "      <td>0.942</td>\n",
       "    </tr>\n",
       "    <tr>\n",
       "      <td>11</td>\n",
       "      <td>14</td>\n",
       "      <td>0.925</td>\n",
       "      <td>0.942</td>\n",
       "    </tr>\n",
       "    <tr>\n",
       "      <td>12</td>\n",
       "      <td>15</td>\n",
       "      <td>0.921</td>\n",
       "      <td>0.942</td>\n",
       "    </tr>\n",
       "    <tr>\n",
       "      <td>13</td>\n",
       "      <td>16</td>\n",
       "      <td>0.921</td>\n",
       "      <td>0.942</td>\n",
       "    </tr>\n",
       "    <tr>\n",
       "      <td>14</td>\n",
       "      <td>17</td>\n",
       "      <td>0.921</td>\n",
       "      <td>0.942</td>\n",
       "    </tr>\n",
       "    <tr>\n",
       "      <td>15</td>\n",
       "      <td>18</td>\n",
       "      <td>0.921</td>\n",
       "      <td>0.942</td>\n",
       "    </tr>\n",
       "    <tr>\n",
       "      <td>16</td>\n",
       "      <td>19</td>\n",
       "      <td>0.921</td>\n",
       "      <td>0.936</td>\n",
       "    </tr>\n",
       "    <tr>\n",
       "      <td>17</td>\n",
       "      <td>20</td>\n",
       "      <td>0.916</td>\n",
       "      <td>0.936</td>\n",
       "    </tr>\n",
       "    <tr>\n",
       "      <td>18</td>\n",
       "      <td>21</td>\n",
       "      <td>0.916</td>\n",
       "      <td>0.936</td>\n",
       "    </tr>\n",
       "    <tr>\n",
       "      <td>19</td>\n",
       "      <td>22</td>\n",
       "      <td>0.907</td>\n",
       "      <td>0.924</td>\n",
       "    </tr>\n",
       "    <tr>\n",
       "      <td>20</td>\n",
       "      <td>23</td>\n",
       "      <td>0.916</td>\n",
       "      <td>0.942</td>\n",
       "    </tr>\n",
       "    <tr>\n",
       "      <td>21</td>\n",
       "      <td>24</td>\n",
       "      <td>0.912</td>\n",
       "      <td>0.924</td>\n",
       "    </tr>\n",
       "    <tr>\n",
       "      <td>22</td>\n",
       "      <td>25</td>\n",
       "      <td>0.916</td>\n",
       "      <td>0.924</td>\n",
       "    </tr>\n",
       "    <tr>\n",
       "      <td>23</td>\n",
       "      <td>26</td>\n",
       "      <td>0.912</td>\n",
       "      <td>0.924</td>\n",
       "    </tr>\n",
       "    <tr>\n",
       "      <td>24</td>\n",
       "      <td>27</td>\n",
       "      <td>0.921</td>\n",
       "      <td>0.924</td>\n",
       "    </tr>\n",
       "    <tr>\n",
       "      <td>25</td>\n",
       "      <td>28</td>\n",
       "      <td>0.916</td>\n",
       "      <td>0.918</td>\n",
       "    </tr>\n",
       "    <tr>\n",
       "      <td>26</td>\n",
       "      <td>29</td>\n",
       "      <td>0.921</td>\n",
       "      <td>0.924</td>\n",
       "    </tr>\n",
       "    <tr>\n",
       "      <td>27</td>\n",
       "      <td>30</td>\n",
       "      <td>0.916</td>\n",
       "      <td>0.924</td>\n",
       "    </tr>\n",
       "  </tbody>\n",
       "</table>\n",
       "</div>"
      ],
      "text/plain": [
       "    Neighbors  TrainAccuracy  ValidationAccuracy\n",
       "0           3          0.960               0.918\n",
       "1           4          0.947               0.901\n",
       "2           5          0.943               0.947\n",
       "3           6          0.947               0.930\n",
       "4           7          0.938               0.936\n",
       "5           8          0.943               0.942\n",
       "6           9          0.938               0.936\n",
       "7          10          0.934               0.936\n",
       "8          11          0.943               0.936\n",
       "9          12          0.930               0.942\n",
       "10         13          0.930               0.942\n",
       "11         14          0.925               0.942\n",
       "12         15          0.921               0.942\n",
       "13         16          0.921               0.942\n",
       "14         17          0.921               0.942\n",
       "15         18          0.921               0.942\n",
       "16         19          0.921               0.936\n",
       "17         20          0.916               0.936\n",
       "18         21          0.916               0.936\n",
       "19         22          0.907               0.924\n",
       "20         23          0.916               0.942\n",
       "21         24          0.912               0.924\n",
       "22         25          0.916               0.924\n",
       "23         26          0.912               0.924\n",
       "24         27          0.921               0.924\n",
       "25         28          0.916               0.918\n",
       "26         29          0.921               0.924\n",
       "27         30          0.916               0.924"
      ]
     },
     "execution_count": 33,
     "metadata": {},
     "output_type": "execute_result"
    }
   ],
   "source": [
    "train_accuracy=[]; validation_accuracy=[]\n",
    "para_n_neighbors=[i for i in range(3,31)]\n",
    "\n",
    "for v_n_neighbors in para_n_neighbors:\n",
    "    knn=KNeighborsClassifier(n_neighbors=v_n_neighbors)\n",
    "    knn.fit(df_train_x,df_train_y)\n",
    "    train_accuracy.append(knn.score(df_train_x,df_train_y))\n",
    "    validation_accuracy.append(knn.score(df_validation_x,df_validation_y))\n",
    "    \n",
    "df_accuracy_neighbors=pd.DataFrame()\n",
    "df_accuracy_neighbors['Neighbors']=para_n_neighbors\n",
    "df_accuracy_neighbors['TrainAccuracy']=train_accuracy\n",
    "df_accuracy_neighbors[\"ValidationAccuracy\"]=validation_accuracy\n",
    "df_accuracy_neighbors.round(3)"
   ]
  },
  {
   "cell_type": "code",
   "execution_count": 34,
   "metadata": {},
   "outputs": [
    {
     "data": {
      "text/plain": [
       "<matplotlib.legend.Legend at 0x7f0f5abc5490>"
      ]
     },
     "execution_count": 34,
     "metadata": {},
     "output_type": "execute_result"
    },
    {
     "data": {
      "image/png": "[encoded data removed]",
      "text/plain": [
       "<Figure size 432x288 with 1 Axes>"
      ]
     },
     "metadata": {
      "needs_background": "light"
     },
     "output_type": "display_data"
    }
   ],
   "source": [
    "plt.plot(para_n_neighbors, train_accuracy, linestyle='-', label=\"Train Accuracy\")\n",
    "plt.plot(para_n_neighbors, validation_accuracy, linestyle='--', label='Validation Accuracy')\n",
    "plt.ylabel('accuracy'); plt.xlabel('n_neighbors')\n",
    "plt.legend()"
   ]
  },
  {
   "cell_type": "code",
   "execution_count": 35,
   "metadata": {},
   "outputs": [],
   "source": [
    "n_neighbors=5\n",
    "#군집이 5 일때, validation set의 정확도가 가장 높으며 train set과의 차이도 작다."
   ]
  },
  {
   "cell_type": "code",
   "execution_count": 36,
   "metadata": {},
   "outputs": [
    {
     "data": {
      "text/html": [
       "<div>\n",
       "<style scoped>\n",
       "    .dataframe tbody tr th:only-of-type {\n",
       "        vertical-align: middle;\n",
       "    }\n",
       "\n",
       "    .dataframe tbody tr th {\n",
       "        vertical-align: top;\n",
       "    }\n",
       "\n",
       "    .dataframe thead th {\n",
       "        text-align: right;\n",
       "    }\n",
       "</style>\n",
       "<table border=\"1\" class=\"dataframe\">\n",
       "  <thead>\n",
       "    <tr style=\"text-align: right;\">\n",
       "      <th></th>\n",
       "      <th>Neighbors</th>\n",
       "      <th>Weights</th>\n",
       "      <th>TrainAccuracy</th>\n",
       "      <th>ValidationAccuracy</th>\n",
       "    </tr>\n",
       "  </thead>\n",
       "  <tbody>\n",
       "    <tr>\n",
       "      <td>0</td>\n",
       "      <td>3</td>\n",
       "      <td>uniform</td>\n",
       "      <td>0.960</td>\n",
       "      <td>0.918</td>\n",
       "    </tr>\n",
       "    <tr>\n",
       "      <td>1</td>\n",
       "      <td>4</td>\n",
       "      <td>uniform</td>\n",
       "      <td>0.947</td>\n",
       "      <td>0.901</td>\n",
       "    </tr>\n",
       "    <tr>\n",
       "      <td>2</td>\n",
       "      <td>5</td>\n",
       "      <td>uniform</td>\n",
       "      <td>0.943</td>\n",
       "      <td>0.947</td>\n",
       "    </tr>\n",
       "    <tr>\n",
       "      <td>3</td>\n",
       "      <td>6</td>\n",
       "      <td>uniform</td>\n",
       "      <td>0.947</td>\n",
       "      <td>0.930</td>\n",
       "    </tr>\n",
       "    <tr>\n",
       "      <td>4</td>\n",
       "      <td>7</td>\n",
       "      <td>uniform</td>\n",
       "      <td>0.938</td>\n",
       "      <td>0.936</td>\n",
       "    </tr>\n",
       "    <tr>\n",
       "      <td>5</td>\n",
       "      <td>8</td>\n",
       "      <td>uniform</td>\n",
       "      <td>0.943</td>\n",
       "      <td>0.942</td>\n",
       "    </tr>\n",
       "    <tr>\n",
       "      <td>6</td>\n",
       "      <td>9</td>\n",
       "      <td>uniform</td>\n",
       "      <td>0.938</td>\n",
       "      <td>0.936</td>\n",
       "    </tr>\n",
       "    <tr>\n",
       "      <td>7</td>\n",
       "      <td>10</td>\n",
       "      <td>uniform</td>\n",
       "      <td>0.934</td>\n",
       "      <td>0.936</td>\n",
       "    </tr>\n",
       "    <tr>\n",
       "      <td>8</td>\n",
       "      <td>11</td>\n",
       "      <td>uniform</td>\n",
       "      <td>0.943</td>\n",
       "      <td>0.936</td>\n",
       "    </tr>\n",
       "    <tr>\n",
       "      <td>9</td>\n",
       "      <td>12</td>\n",
       "      <td>uniform</td>\n",
       "      <td>0.930</td>\n",
       "      <td>0.942</td>\n",
       "    </tr>\n",
       "    <tr>\n",
       "      <td>10</td>\n",
       "      <td>13</td>\n",
       "      <td>uniform</td>\n",
       "      <td>0.930</td>\n",
       "      <td>0.942</td>\n",
       "    </tr>\n",
       "    <tr>\n",
       "      <td>11</td>\n",
       "      <td>14</td>\n",
       "      <td>uniform</td>\n",
       "      <td>0.925</td>\n",
       "      <td>0.942</td>\n",
       "    </tr>\n",
       "    <tr>\n",
       "      <td>12</td>\n",
       "      <td>15</td>\n",
       "      <td>uniform</td>\n",
       "      <td>0.921</td>\n",
       "      <td>0.942</td>\n",
       "    </tr>\n",
       "    <tr>\n",
       "      <td>13</td>\n",
       "      <td>16</td>\n",
       "      <td>uniform</td>\n",
       "      <td>0.921</td>\n",
       "      <td>0.942</td>\n",
       "    </tr>\n",
       "    <tr>\n",
       "      <td>14</td>\n",
       "      <td>17</td>\n",
       "      <td>uniform</td>\n",
       "      <td>0.921</td>\n",
       "      <td>0.942</td>\n",
       "    </tr>\n",
       "    <tr>\n",
       "      <td>15</td>\n",
       "      <td>18</td>\n",
       "      <td>uniform</td>\n",
       "      <td>0.921</td>\n",
       "      <td>0.942</td>\n",
       "    </tr>\n",
       "    <tr>\n",
       "      <td>16</td>\n",
       "      <td>19</td>\n",
       "      <td>uniform</td>\n",
       "      <td>0.921</td>\n",
       "      <td>0.936</td>\n",
       "    </tr>\n",
       "    <tr>\n",
       "      <td>17</td>\n",
       "      <td>20</td>\n",
       "      <td>uniform</td>\n",
       "      <td>0.916</td>\n",
       "      <td>0.936</td>\n",
       "    </tr>\n",
       "    <tr>\n",
       "      <td>18</td>\n",
       "      <td>21</td>\n",
       "      <td>uniform</td>\n",
       "      <td>0.916</td>\n",
       "      <td>0.936</td>\n",
       "    </tr>\n",
       "    <tr>\n",
       "      <td>19</td>\n",
       "      <td>22</td>\n",
       "      <td>uniform</td>\n",
       "      <td>0.907</td>\n",
       "      <td>0.924</td>\n",
       "    </tr>\n",
       "    <tr>\n",
       "      <td>20</td>\n",
       "      <td>23</td>\n",
       "      <td>uniform</td>\n",
       "      <td>0.916</td>\n",
       "      <td>0.942</td>\n",
       "    </tr>\n",
       "    <tr>\n",
       "      <td>21</td>\n",
       "      <td>24</td>\n",
       "      <td>uniform</td>\n",
       "      <td>0.912</td>\n",
       "      <td>0.924</td>\n",
       "    </tr>\n",
       "    <tr>\n",
       "      <td>22</td>\n",
       "      <td>25</td>\n",
       "      <td>uniform</td>\n",
       "      <td>0.916</td>\n",
       "      <td>0.924</td>\n",
       "    </tr>\n",
       "    <tr>\n",
       "      <td>23</td>\n",
       "      <td>26</td>\n",
       "      <td>uniform</td>\n",
       "      <td>0.912</td>\n",
       "      <td>0.924</td>\n",
       "    </tr>\n",
       "    <tr>\n",
       "      <td>24</td>\n",
       "      <td>27</td>\n",
       "      <td>uniform</td>\n",
       "      <td>0.921</td>\n",
       "      <td>0.924</td>\n",
       "    </tr>\n",
       "    <tr>\n",
       "      <td>25</td>\n",
       "      <td>28</td>\n",
       "      <td>uniform</td>\n",
       "      <td>0.916</td>\n",
       "      <td>0.918</td>\n",
       "    </tr>\n",
       "    <tr>\n",
       "      <td>26</td>\n",
       "      <td>29</td>\n",
       "      <td>uniform</td>\n",
       "      <td>0.921</td>\n",
       "      <td>0.924</td>\n",
       "    </tr>\n",
       "    <tr>\n",
       "      <td>27</td>\n",
       "      <td>30</td>\n",
       "      <td>uniform</td>\n",
       "      <td>0.916</td>\n",
       "      <td>0.924</td>\n",
       "    </tr>\n",
       "    <tr>\n",
       "      <td>28</td>\n",
       "      <td>3</td>\n",
       "      <td>distance</td>\n",
       "      <td>1.000</td>\n",
       "      <td>0.924</td>\n",
       "    </tr>\n",
       "    <tr>\n",
       "      <td>29</td>\n",
       "      <td>4</td>\n",
       "      <td>distance</td>\n",
       "      <td>1.000</td>\n",
       "      <td>0.912</td>\n",
       "    </tr>\n",
       "    <tr>\n",
       "      <td>30</td>\n",
       "      <td>5</td>\n",
       "      <td>distance</td>\n",
       "      <td>1.000</td>\n",
       "      <td>0.936</td>\n",
       "    </tr>\n",
       "    <tr>\n",
       "      <td>31</td>\n",
       "      <td>6</td>\n",
       "      <td>distance</td>\n",
       "      <td>1.000</td>\n",
       "      <td>0.930</td>\n",
       "    </tr>\n",
       "    <tr>\n",
       "      <td>32</td>\n",
       "      <td>7</td>\n",
       "      <td>distance</td>\n",
       "      <td>1.000</td>\n",
       "      <td>0.930</td>\n",
       "    </tr>\n",
       "    <tr>\n",
       "      <td>33</td>\n",
       "      <td>8</td>\n",
       "      <td>distance</td>\n",
       "      <td>1.000</td>\n",
       "      <td>0.942</td>\n",
       "    </tr>\n",
       "    <tr>\n",
       "      <td>34</td>\n",
       "      <td>9</td>\n",
       "      <td>distance</td>\n",
       "      <td>1.000</td>\n",
       "      <td>0.936</td>\n",
       "    </tr>\n",
       "    <tr>\n",
       "      <td>35</td>\n",
       "      <td>10</td>\n",
       "      <td>distance</td>\n",
       "      <td>1.000</td>\n",
       "      <td>0.942</td>\n",
       "    </tr>\n",
       "    <tr>\n",
       "      <td>36</td>\n",
       "      <td>11</td>\n",
       "      <td>distance</td>\n",
       "      <td>1.000</td>\n",
       "      <td>0.930</td>\n",
       "    </tr>\n",
       "    <tr>\n",
       "      <td>37</td>\n",
       "      <td>12</td>\n",
       "      <td>distance</td>\n",
       "      <td>1.000</td>\n",
       "      <td>0.930</td>\n",
       "    </tr>\n",
       "    <tr>\n",
       "      <td>38</td>\n",
       "      <td>13</td>\n",
       "      <td>distance</td>\n",
       "      <td>1.000</td>\n",
       "      <td>0.936</td>\n",
       "    </tr>\n",
       "    <tr>\n",
       "      <td>39</td>\n",
       "      <td>14</td>\n",
       "      <td>distance</td>\n",
       "      <td>1.000</td>\n",
       "      <td>0.942</td>\n",
       "    </tr>\n",
       "    <tr>\n",
       "      <td>40</td>\n",
       "      <td>15</td>\n",
       "      <td>distance</td>\n",
       "      <td>1.000</td>\n",
       "      <td>0.942</td>\n",
       "    </tr>\n",
       "    <tr>\n",
       "      <td>41</td>\n",
       "      <td>16</td>\n",
       "      <td>distance</td>\n",
       "      <td>1.000</td>\n",
       "      <td>0.942</td>\n",
       "    </tr>\n",
       "    <tr>\n",
       "      <td>42</td>\n",
       "      <td>17</td>\n",
       "      <td>distance</td>\n",
       "      <td>1.000</td>\n",
       "      <td>0.942</td>\n",
       "    </tr>\n",
       "    <tr>\n",
       "      <td>43</td>\n",
       "      <td>18</td>\n",
       "      <td>distance</td>\n",
       "      <td>1.000</td>\n",
       "      <td>0.936</td>\n",
       "    </tr>\n",
       "    <tr>\n",
       "      <td>44</td>\n",
       "      <td>19</td>\n",
       "      <td>distance</td>\n",
       "      <td>1.000</td>\n",
       "      <td>0.936</td>\n",
       "    </tr>\n",
       "    <tr>\n",
       "      <td>45</td>\n",
       "      <td>20</td>\n",
       "      <td>distance</td>\n",
       "      <td>1.000</td>\n",
       "      <td>0.936</td>\n",
       "    </tr>\n",
       "    <tr>\n",
       "      <td>46</td>\n",
       "      <td>21</td>\n",
       "      <td>distance</td>\n",
       "      <td>1.000</td>\n",
       "      <td>0.942</td>\n",
       "    </tr>\n",
       "    <tr>\n",
       "      <td>47</td>\n",
       "      <td>22</td>\n",
       "      <td>distance</td>\n",
       "      <td>1.000</td>\n",
       "      <td>0.942</td>\n",
       "    </tr>\n",
       "    <tr>\n",
       "      <td>48</td>\n",
       "      <td>23</td>\n",
       "      <td>distance</td>\n",
       "      <td>1.000</td>\n",
       "      <td>0.942</td>\n",
       "    </tr>\n",
       "    <tr>\n",
       "      <td>49</td>\n",
       "      <td>24</td>\n",
       "      <td>distance</td>\n",
       "      <td>1.000</td>\n",
       "      <td>0.936</td>\n",
       "    </tr>\n",
       "    <tr>\n",
       "      <td>50</td>\n",
       "      <td>25</td>\n",
       "      <td>distance</td>\n",
       "      <td>1.000</td>\n",
       "      <td>0.936</td>\n",
       "    </tr>\n",
       "    <tr>\n",
       "      <td>51</td>\n",
       "      <td>26</td>\n",
       "      <td>distance</td>\n",
       "      <td>1.000</td>\n",
       "      <td>0.930</td>\n",
       "    </tr>\n",
       "    <tr>\n",
       "      <td>52</td>\n",
       "      <td>27</td>\n",
       "      <td>distance</td>\n",
       "      <td>1.000</td>\n",
       "      <td>0.936</td>\n",
       "    </tr>\n",
       "    <tr>\n",
       "      <td>53</td>\n",
       "      <td>28</td>\n",
       "      <td>distance</td>\n",
       "      <td>1.000</td>\n",
       "      <td>0.930</td>\n",
       "    </tr>\n",
       "    <tr>\n",
       "      <td>54</td>\n",
       "      <td>29</td>\n",
       "      <td>distance</td>\n",
       "      <td>1.000</td>\n",
       "      <td>0.924</td>\n",
       "    </tr>\n",
       "    <tr>\n",
       "      <td>55</td>\n",
       "      <td>30</td>\n",
       "      <td>distance</td>\n",
       "      <td>1.000</td>\n",
       "      <td>0.930</td>\n",
       "    </tr>\n",
       "  </tbody>\n",
       "</table>\n",
       "</div>"
      ],
      "text/plain": [
       "    Neighbors   Weights  TrainAccuracy  ValidationAccuracy\n",
       "0           3   uniform          0.960               0.918\n",
       "1           4   uniform          0.947               0.901\n",
       "2           5   uniform          0.943               0.947\n",
       "3           6   uniform          0.947               0.930\n",
       "4           7   uniform          0.938               0.936\n",
       "5           8   uniform          0.943               0.942\n",
       "6           9   uniform          0.938               0.936\n",
       "7          10   uniform          0.934               0.936\n",
       "8          11   uniform          0.943               0.936\n",
       "9          12   uniform          0.930               0.942\n",
       "10         13   uniform          0.930               0.942\n",
       "11         14   uniform          0.925               0.942\n",
       "12         15   uniform          0.921               0.942\n",
       "13         16   uniform          0.921               0.942\n",
       "14         17   uniform          0.921               0.942\n",
       "15         18   uniform          0.921               0.942\n",
       "16         19   uniform          0.921               0.936\n",
       "17         20   uniform          0.916               0.936\n",
       "18         21   uniform          0.916               0.936\n",
       "19         22   uniform          0.907               0.924\n",
       "20         23   uniform          0.916               0.942\n",
       "21         24   uniform          0.912               0.924\n",
       "22         25   uniform          0.916               0.924\n",
       "23         26   uniform          0.912               0.924\n",
       "24         27   uniform          0.921               0.924\n",
       "25         28   uniform          0.916               0.918\n",
       "26         29   uniform          0.921               0.924\n",
       "27         30   uniform          0.916               0.924\n",
       "28          3  distance          1.000               0.924\n",
       "29          4  distance          1.000               0.912\n",
       "30          5  distance          1.000               0.936\n",
       "31          6  distance          1.000               0.930\n",
       "32          7  distance          1.000               0.930\n",
       "33          8  distance          1.000               0.942\n",
       "34          9  distance          1.000               0.936\n",
       "35         10  distance          1.000               0.942\n",
       "36         11  distance          1.000               0.930\n",
       "37         12  distance          1.000               0.930\n",
       "38         13  distance          1.000               0.936\n",
       "39         14  distance          1.000               0.942\n",
       "40         15  distance          1.000               0.942\n",
       "41         16  distance          1.000               0.942\n",
       "42         17  distance          1.000               0.942\n",
       "43         18  distance          1.000               0.936\n",
       "44         19  distance          1.000               0.936\n",
       "45         20  distance          1.000               0.936\n",
       "46         21  distance          1.000               0.942\n",
       "47         22  distance          1.000               0.942\n",
       "48         23  distance          1.000               0.942\n",
       "49         24  distance          1.000               0.936\n",
       "50         25  distance          1.000               0.936\n",
       "51         26  distance          1.000               0.930\n",
       "52         27  distance          1.000               0.936\n",
       "53         28  distance          1.000               0.930\n",
       "54         29  distance          1.000               0.924\n",
       "55         30  distance          1.000               0.930"
      ]
     },
     "execution_count": 36,
     "metadata": {},
     "output_type": "execute_result"
    }
   ],
   "source": [
    "train_accuracy=[]; validation_accuracy=[]\n",
    "para_n_neighbors=[i for i in range(3,31)]*2\n",
    "\n",
    "para_weights=(['uniform'])*28+(['distance']*28)\n",
    "\n",
    "for (v_n_neighbors, v_weights) in zip(para_n_neighbors, para_weights):\n",
    "    \n",
    "    knn=KNeighborsClassifier(n_neighbors=v_n_neighbors, weights=v_weights)\n",
    "    knn.fit(df_train_x,df_train_y)\n",
    "    train_accuracy.append(knn.score(df_train_x,df_train_y))\n",
    "    validation_accuracy.append(knn.score(df_validation_x,df_validation_y))\n",
    "    \n",
    "df_accuracy_weights=pd.DataFrame()\n",
    "df_accuracy_weights['Neighbors']=para_n_neighbors\n",
    "df_accuracy_weights['Weights']=para_weights\n",
    "df_accuracy_weights['TrainAccuracy']=train_accuracy\n",
    "df_accuracy_weights[\"ValidationAccuracy\"]=validation_accuracy\n",
    "df_accuracy_weights.round(3)"
   ]
  },
  {
   "cell_type": "code",
   "execution_count": 37,
   "metadata": {},
   "outputs": [
    {
     "data": {
      "text/html": [
       "<div>\n",
       "<style scoped>\n",
       "    .dataframe tbody tr th:only-of-type {\n",
       "        vertical-align: middle;\n",
       "    }\n",
       "\n",
       "    .dataframe tbody tr th {\n",
       "        vertical-align: top;\n",
       "    }\n",
       "\n",
       "    .dataframe thead tr th {\n",
       "        text-align: left;\n",
       "    }\n",
       "\n",
       "    .dataframe thead tr:last-of-type th {\n",
       "        text-align: right;\n",
       "    }\n",
       "</style>\n",
       "<table border=\"1\" class=\"dataframe\">\n",
       "  <thead>\n",
       "    <tr>\n",
       "      <th></th>\n",
       "      <th colspan=\"2\" halign=\"left\">TrainAccuracy</th>\n",
       "      <th colspan=\"2\" halign=\"left\">ValidationAccuracy</th>\n",
       "    </tr>\n",
       "    <tr>\n",
       "      <th>Weights</th>\n",
       "      <th>distance</th>\n",
       "      <th>uniform</th>\n",
       "      <th>distance</th>\n",
       "      <th>uniform</th>\n",
       "    </tr>\n",
       "    <tr>\n",
       "      <th>Neighbors</th>\n",
       "      <th></th>\n",
       "      <th></th>\n",
       "      <th></th>\n",
       "      <th></th>\n",
       "    </tr>\n",
       "  </thead>\n",
       "  <tbody>\n",
       "    <tr>\n",
       "      <td>3</td>\n",
       "      <td>1.0</td>\n",
       "      <td>0.960352</td>\n",
       "      <td>0.923977</td>\n",
       "      <td>0.918129</td>\n",
       "    </tr>\n",
       "    <tr>\n",
       "      <td>4</td>\n",
       "      <td>1.0</td>\n",
       "      <td>0.947137</td>\n",
       "      <td>0.912281</td>\n",
       "      <td>0.900585</td>\n",
       "    </tr>\n",
       "    <tr>\n",
       "      <td>5</td>\n",
       "      <td>1.0</td>\n",
       "      <td>0.942731</td>\n",
       "      <td>0.935673</td>\n",
       "      <td>0.947368</td>\n",
       "    </tr>\n",
       "    <tr>\n",
       "      <td>6</td>\n",
       "      <td>1.0</td>\n",
       "      <td>0.947137</td>\n",
       "      <td>0.929825</td>\n",
       "      <td>0.929825</td>\n",
       "    </tr>\n",
       "    <tr>\n",
       "      <td>7</td>\n",
       "      <td>1.0</td>\n",
       "      <td>0.938326</td>\n",
       "      <td>0.929825</td>\n",
       "      <td>0.935673</td>\n",
       "    </tr>\n",
       "    <tr>\n",
       "      <td>8</td>\n",
       "      <td>1.0</td>\n",
       "      <td>0.942731</td>\n",
       "      <td>0.941520</td>\n",
       "      <td>0.941520</td>\n",
       "    </tr>\n",
       "    <tr>\n",
       "      <td>9</td>\n",
       "      <td>1.0</td>\n",
       "      <td>0.938326</td>\n",
       "      <td>0.935673</td>\n",
       "      <td>0.935673</td>\n",
       "    </tr>\n",
       "    <tr>\n",
       "      <td>10</td>\n",
       "      <td>1.0</td>\n",
       "      <td>0.933921</td>\n",
       "      <td>0.941520</td>\n",
       "      <td>0.935673</td>\n",
       "    </tr>\n",
       "    <tr>\n",
       "      <td>11</td>\n",
       "      <td>1.0</td>\n",
       "      <td>0.942731</td>\n",
       "      <td>0.929825</td>\n",
       "      <td>0.935673</td>\n",
       "    </tr>\n",
       "    <tr>\n",
       "      <td>12</td>\n",
       "      <td>1.0</td>\n",
       "      <td>0.929515</td>\n",
       "      <td>0.929825</td>\n",
       "      <td>0.941520</td>\n",
       "    </tr>\n",
       "    <tr>\n",
       "      <td>13</td>\n",
       "      <td>1.0</td>\n",
       "      <td>0.929515</td>\n",
       "      <td>0.935673</td>\n",
       "      <td>0.941520</td>\n",
       "    </tr>\n",
       "    <tr>\n",
       "      <td>14</td>\n",
       "      <td>1.0</td>\n",
       "      <td>0.925110</td>\n",
       "      <td>0.941520</td>\n",
       "      <td>0.941520</td>\n",
       "    </tr>\n",
       "    <tr>\n",
       "      <td>15</td>\n",
       "      <td>1.0</td>\n",
       "      <td>0.920705</td>\n",
       "      <td>0.941520</td>\n",
       "      <td>0.941520</td>\n",
       "    </tr>\n",
       "    <tr>\n",
       "      <td>16</td>\n",
       "      <td>1.0</td>\n",
       "      <td>0.920705</td>\n",
       "      <td>0.941520</td>\n",
       "      <td>0.941520</td>\n",
       "    </tr>\n",
       "    <tr>\n",
       "      <td>17</td>\n",
       "      <td>1.0</td>\n",
       "      <td>0.920705</td>\n",
       "      <td>0.941520</td>\n",
       "      <td>0.941520</td>\n",
       "    </tr>\n",
       "    <tr>\n",
       "      <td>18</td>\n",
       "      <td>1.0</td>\n",
       "      <td>0.920705</td>\n",
       "      <td>0.935673</td>\n",
       "      <td>0.941520</td>\n",
       "    </tr>\n",
       "    <tr>\n",
       "      <td>19</td>\n",
       "      <td>1.0</td>\n",
       "      <td>0.920705</td>\n",
       "      <td>0.935673</td>\n",
       "      <td>0.935673</td>\n",
       "    </tr>\n",
       "    <tr>\n",
       "      <td>20</td>\n",
       "      <td>1.0</td>\n",
       "      <td>0.916300</td>\n",
       "      <td>0.935673</td>\n",
       "      <td>0.935673</td>\n",
       "    </tr>\n",
       "    <tr>\n",
       "      <td>21</td>\n",
       "      <td>1.0</td>\n",
       "      <td>0.916300</td>\n",
       "      <td>0.941520</td>\n",
       "      <td>0.935673</td>\n",
       "    </tr>\n",
       "    <tr>\n",
       "      <td>22</td>\n",
       "      <td>1.0</td>\n",
       "      <td>0.907489</td>\n",
       "      <td>0.941520</td>\n",
       "      <td>0.923977</td>\n",
       "    </tr>\n",
       "    <tr>\n",
       "      <td>23</td>\n",
       "      <td>1.0</td>\n",
       "      <td>0.916300</td>\n",
       "      <td>0.941520</td>\n",
       "      <td>0.941520</td>\n",
       "    </tr>\n",
       "    <tr>\n",
       "      <td>24</td>\n",
       "      <td>1.0</td>\n",
       "      <td>0.911894</td>\n",
       "      <td>0.935673</td>\n",
       "      <td>0.923977</td>\n",
       "    </tr>\n",
       "    <tr>\n",
       "      <td>25</td>\n",
       "      <td>1.0</td>\n",
       "      <td>0.916300</td>\n",
       "      <td>0.935673</td>\n",
       "      <td>0.923977</td>\n",
       "    </tr>\n",
       "    <tr>\n",
       "      <td>26</td>\n",
       "      <td>1.0</td>\n",
       "      <td>0.911894</td>\n",
       "      <td>0.929825</td>\n",
       "      <td>0.923977</td>\n",
       "    </tr>\n",
       "    <tr>\n",
       "      <td>27</td>\n",
       "      <td>1.0</td>\n",
       "      <td>0.920705</td>\n",
       "      <td>0.935673</td>\n",
       "      <td>0.923977</td>\n",
       "    </tr>\n",
       "    <tr>\n",
       "      <td>28</td>\n",
       "      <td>1.0</td>\n",
       "      <td>0.916300</td>\n",
       "      <td>0.929825</td>\n",
       "      <td>0.918129</td>\n",
       "    </tr>\n",
       "    <tr>\n",
       "      <td>29</td>\n",
       "      <td>1.0</td>\n",
       "      <td>0.920705</td>\n",
       "      <td>0.923977</td>\n",
       "      <td>0.923977</td>\n",
       "    </tr>\n",
       "    <tr>\n",
       "      <td>30</td>\n",
       "      <td>1.0</td>\n",
       "      <td>0.916300</td>\n",
       "      <td>0.929825</td>\n",
       "      <td>0.923977</td>\n",
       "    </tr>\n",
       "  </tbody>\n",
       "</table>\n",
       "</div>"
      ],
      "text/plain": [
       "          TrainAccuracy           ValidationAccuracy          \n",
       "Weights        distance   uniform           distance   uniform\n",
       "Neighbors                                                     \n",
       "3                   1.0  0.960352           0.923977  0.918129\n",
       "4                   1.0  0.947137           0.912281  0.900585\n",
       "5                   1.0  0.942731           0.935673  0.947368\n",
       "6                   1.0  0.947137           0.929825  0.929825\n",
       "7                   1.0  0.938326           0.929825  0.935673\n",
       "8                   1.0  0.942731           0.941520  0.941520\n",
       "9                   1.0  0.938326           0.935673  0.935673\n",
       "10                  1.0  0.933921           0.941520  0.935673\n",
       "11                  1.0  0.942731           0.929825  0.935673\n",
       "12                  1.0  0.929515           0.929825  0.941520\n",
       "13                  1.0  0.929515           0.935673  0.941520\n",
       "14                  1.0  0.925110           0.941520  0.941520\n",
       "15                  1.0  0.920705           0.941520  0.941520\n",
       "16                  1.0  0.920705           0.941520  0.941520\n",
       "17                  1.0  0.920705           0.941520  0.941520\n",
       "18                  1.0  0.920705           0.935673  0.941520\n",
       "19                  1.0  0.920705           0.935673  0.935673\n",
       "20                  1.0  0.916300           0.935673  0.935673\n",
       "21                  1.0  0.916300           0.941520  0.935673\n",
       "22                  1.0  0.907489           0.941520  0.923977\n",
       "23                  1.0  0.916300           0.941520  0.941520\n",
       "24                  1.0  0.911894           0.935673  0.923977\n",
       "25                  1.0  0.916300           0.935673  0.923977\n",
       "26                  1.0  0.911894           0.929825  0.923977\n",
       "27                  1.0  0.920705           0.935673  0.923977\n",
       "28                  1.0  0.916300           0.929825  0.918129\n",
       "29                  1.0  0.920705           0.923977  0.923977\n",
       "30                  1.0  0.916300           0.929825  0.923977"
      ]
     },
     "execution_count": 37,
     "metadata": {},
     "output_type": "execute_result"
    }
   ],
   "source": [
    "df_accuracy_weights_pivot=df_accuracy_weights.pivot(index='Neighbors',columns='Weights',\n",
    "                                                   values=['TrainAccuracy','ValidationAccuracy'])\n",
    "df_accuracy_weights_pivot\n"
   ]
  },
  {
   "cell_type": "code",
   "execution_count": 38,
   "metadata": {},
   "outputs": [
    {
     "data": {
      "text/html": [
       "<div>\n",
       "<style scoped>\n",
       "    .dataframe tbody tr th:only-of-type {\n",
       "        vertical-align: middle;\n",
       "    }\n",
       "\n",
       "    .dataframe tbody tr th {\n",
       "        vertical-align: top;\n",
       "    }\n",
       "\n",
       "    .dataframe thead th {\n",
       "        text-align: right;\n",
       "    }\n",
       "</style>\n",
       "<table border=\"1\" class=\"dataframe\">\n",
       "  <thead>\n",
       "    <tr style=\"text-align: right;\">\n",
       "      <th></th>\n",
       "      <th>TrainAccuracy_distance</th>\n",
       "      <th>TrainAccuracy_uniform</th>\n",
       "      <th>ValidationAccuracy_distance</th>\n",
       "      <th>ValidationAccuracy_uniform</th>\n",
       "    </tr>\n",
       "    <tr>\n",
       "      <th>Neighbors</th>\n",
       "      <th></th>\n",
       "      <th></th>\n",
       "      <th></th>\n",
       "      <th></th>\n",
       "    </tr>\n",
       "  </thead>\n",
       "  <tbody>\n",
       "    <tr>\n",
       "      <td>3</td>\n",
       "      <td>1.0</td>\n",
       "      <td>0.960352</td>\n",
       "      <td>0.923977</td>\n",
       "      <td>0.918129</td>\n",
       "    </tr>\n",
       "    <tr>\n",
       "      <td>4</td>\n",
       "      <td>1.0</td>\n",
       "      <td>0.947137</td>\n",
       "      <td>0.912281</td>\n",
       "      <td>0.900585</td>\n",
       "    </tr>\n",
       "    <tr>\n",
       "      <td>5</td>\n",
       "      <td>1.0</td>\n",
       "      <td>0.942731</td>\n",
       "      <td>0.935673</td>\n",
       "      <td>0.947368</td>\n",
       "    </tr>\n",
       "    <tr>\n",
       "      <td>6</td>\n",
       "      <td>1.0</td>\n",
       "      <td>0.947137</td>\n",
       "      <td>0.929825</td>\n",
       "      <td>0.929825</td>\n",
       "    </tr>\n",
       "    <tr>\n",
       "      <td>7</td>\n",
       "      <td>1.0</td>\n",
       "      <td>0.938326</td>\n",
       "      <td>0.929825</td>\n",
       "      <td>0.935673</td>\n",
       "    </tr>\n",
       "  </tbody>\n",
       "</table>\n",
       "</div>"
      ],
      "text/plain": [
       "           TrainAccuracy_distance  TrainAccuracy_uniform  \\\n",
       "Neighbors                                                  \n",
       "3                             1.0               0.960352   \n",
       "4                             1.0               0.947137   \n",
       "5                             1.0               0.942731   \n",
       "6                             1.0               0.947137   \n",
       "7                             1.0               0.938326   \n",
       "\n",
       "           ValidationAccuracy_distance  ValidationAccuracy_uniform  \n",
       "Neighbors                                                           \n",
       "3                             0.923977                    0.918129  \n",
       "4                             0.912281                    0.900585  \n",
       "5                             0.935673                    0.947368  \n",
       "6                             0.929825                    0.929825  \n",
       "7                             0.929825                    0.935673  "
      ]
     },
     "execution_count": 38,
     "metadata": {},
     "output_type": "execute_result"
    }
   ],
   "source": [
    "level0=df_accuracy_weights_pivot.columns.get_level_values(0)\n",
    "level1=df_accuracy_weights_pivot.columns.get_level_values(1)\n",
    "df_accuracy_weights_pivot.columns=level0+\"_\"+level1\n",
    "df_accuracy_weights_pivot.head()"
   ]
  },
  {
   "cell_type": "code",
   "execution_count": 39,
   "metadata": {},
   "outputs": [
    {
     "data": {
      "text/plain": [
       "<matplotlib.axes._subplots.AxesSubplot at 0x7f0f5aab41d0>"
      ]
     },
     "execution_count": 39,
     "metadata": {},
     "output_type": "execute_result"
    },
    {
     "data": {
      "image/png": "[encoded data removed]",
      "text/plain": [
       "<Figure size 432x288 with 1 Axes>"
      ]
     },
     "metadata": {
      "needs_background": "light"
     },
     "output_type": "display_data"
    }
   ],
   "source": [
    "sns.lineplot(data=df_accuracy_weights_pivot)"
   ]
  },
  {
   "cell_type": "code",
   "execution_count": 40,
   "metadata": {},
   "outputs": [],
   "source": [
    "#가중치가 distance일때 train 데이터의 모델 정확도가 1로 과대적합이므로 uniform 선택.\n",
    "weights='uniform'"
   ]
  },
  {
   "cell_type": "code",
   "execution_count": 41,
   "metadata": {},
   "outputs": [
    {
     "data": {
      "text/html": [
       "<div>\n",
       "<style scoped>\n",
       "    .dataframe tbody tr th:only-of-type {\n",
       "        vertical-align: middle;\n",
       "    }\n",
       "\n",
       "    .dataframe tbody tr th {\n",
       "        vertical-align: top;\n",
       "    }\n",
       "\n",
       "    .dataframe thead th {\n",
       "        text-align: right;\n",
       "    }\n",
       "</style>\n",
       "<table border=\"1\" class=\"dataframe\">\n",
       "  <thead>\n",
       "    <tr style=\"text-align: right;\">\n",
       "      <th></th>\n",
       "      <th>Neighbors</th>\n",
       "      <th>Metric</th>\n",
       "      <th>TrainAccuracy</th>\n",
       "      <th>ValidationAccuracy</th>\n",
       "    </tr>\n",
       "  </thead>\n",
       "  <tbody>\n",
       "    <tr>\n",
       "      <td>0</td>\n",
       "      <td>3</td>\n",
       "      <td>minkowski</td>\n",
       "      <td>0.960</td>\n",
       "      <td>0.918</td>\n",
       "    </tr>\n",
       "    <tr>\n",
       "      <td>1</td>\n",
       "      <td>4</td>\n",
       "      <td>minkowski</td>\n",
       "      <td>0.947</td>\n",
       "      <td>0.901</td>\n",
       "    </tr>\n",
       "    <tr>\n",
       "      <td>2</td>\n",
       "      <td>5</td>\n",
       "      <td>minkowski</td>\n",
       "      <td>0.943</td>\n",
       "      <td>0.947</td>\n",
       "    </tr>\n",
       "    <tr>\n",
       "      <td>3</td>\n",
       "      <td>6</td>\n",
       "      <td>minkowski</td>\n",
       "      <td>0.947</td>\n",
       "      <td>0.930</td>\n",
       "    </tr>\n",
       "    <tr>\n",
       "      <td>4</td>\n",
       "      <td>7</td>\n",
       "      <td>minkowski</td>\n",
       "      <td>0.938</td>\n",
       "      <td>0.936</td>\n",
       "    </tr>\n",
       "    <tr>\n",
       "      <td>...</td>\n",
       "      <td>...</td>\n",
       "      <td>...</td>\n",
       "      <td>...</td>\n",
       "      <td>...</td>\n",
       "    </tr>\n",
       "    <tr>\n",
       "      <td>79</td>\n",
       "      <td>26</td>\n",
       "      <td>manhattan</td>\n",
       "      <td>0.912</td>\n",
       "      <td>0.906</td>\n",
       "    </tr>\n",
       "    <tr>\n",
       "      <td>80</td>\n",
       "      <td>27</td>\n",
       "      <td>manhattan</td>\n",
       "      <td>0.916</td>\n",
       "      <td>0.906</td>\n",
       "    </tr>\n",
       "    <tr>\n",
       "      <td>81</td>\n",
       "      <td>28</td>\n",
       "      <td>manhattan</td>\n",
       "      <td>0.921</td>\n",
       "      <td>0.901</td>\n",
       "    </tr>\n",
       "    <tr>\n",
       "      <td>82</td>\n",
       "      <td>29</td>\n",
       "      <td>manhattan</td>\n",
       "      <td>0.916</td>\n",
       "      <td>0.924</td>\n",
       "    </tr>\n",
       "    <tr>\n",
       "      <td>83</td>\n",
       "      <td>30</td>\n",
       "      <td>manhattan</td>\n",
       "      <td>0.916</td>\n",
       "      <td>0.918</td>\n",
       "    </tr>\n",
       "  </tbody>\n",
       "</table>\n",
       "<p>84 rows × 4 columns</p>\n",
       "</div>"
      ],
      "text/plain": [
       "    Neighbors     Metric  TrainAccuracy  ValidationAccuracy\n",
       "0           3  minkowski          0.960               0.918\n",
       "1           4  minkowski          0.947               0.901\n",
       "2           5  minkowski          0.943               0.947\n",
       "3           6  minkowski          0.947               0.930\n",
       "4           7  minkowski          0.938               0.936\n",
       "..        ...        ...            ...                 ...\n",
       "79         26  manhattan          0.912               0.906\n",
       "80         27  manhattan          0.916               0.906\n",
       "81         28  manhattan          0.921               0.901\n",
       "82         29  manhattan          0.916               0.924\n",
       "83         30  manhattan          0.916               0.918\n",
       "\n",
       "[84 rows x 4 columns]"
      ]
     },
     "execution_count": 41,
     "metadata": {},
     "output_type": "execute_result"
    }
   ],
   "source": [
    "train_accuracy=[]; validation_accuracy=[]\n",
    "para_n_neighbors=[i for i in range(3,31)]*3\n",
    "\n",
    "para_metric=['minkowski']*28+['euclidean']*28+['manhattan']*28\n",
    "\n",
    "for (v_n_neighbors, v_metric) in zip(para_n_neighbors, para_metric):\n",
    "    \n",
    "    knn=KNeighborsClassifier(n_neighbors=v_n_neighbors, metric=v_metric, weights='uniform')\n",
    "    knn.fit(df_train_x,df_train_y)\n",
    "    train_accuracy.append(knn.score(df_train_x,df_train_y))\n",
    "    validation_accuracy.append(knn.score(df_validation_x,df_validation_y))\n",
    "    \n",
    "df_accuracy_metric=pd.DataFrame()\n",
    "df_accuracy_metric['Neighbors']=para_n_neighbors\n",
    "df_accuracy_metric['Metric']=para_metric\n",
    "df_accuracy_metric['TrainAccuracy']=train_accuracy\n",
    "df_accuracy_metric[\"ValidationAccuracy\"]=validation_accuracy\n",
    "df_accuracy_metric.round(3)"
   ]
  },
  {
   "cell_type": "code",
   "execution_count": 42,
   "metadata": {},
   "outputs": [
    {
     "data": {
      "text/plain": [
       "<matplotlib.axes._subplots.AxesSubplot at 0x7f0f5824d290>"
      ]
     },
     "execution_count": 42,
     "metadata": {},
     "output_type": "execute_result"
    },
    {
     "data": {
      "image/png": "[encoded data removed]",
      "text/plain": [
       "<Figure size 432x288 with 1 Axes>"
      ]
     },
     "metadata": {
      "needs_background": "light"
     },
     "output_type": "display_data"
    }
   ],
   "source": [
    "df_accuracy_metric_pivot=df_accuracy_metric.pivot(index='Neighbors',columns='Metric',\n",
    "                                                   values=['TrainAccuracy','ValidationAccuracy'])\n",
    "\n",
    "level0=df_accuracy_metric_pivot.columns.get_level_values(0)\n",
    "level1=df_accuracy_metric_pivot.columns.get_level_values(1)\n",
    "df_accuracy_metric_pivot.columns=level0+\"_\"+level1\n",
    "sns.lineplot(data=df_accuracy_metric_pivot)"
   ]
  },
  {
   "cell_type": "code",
   "execution_count": 43,
   "metadata": {},
   "outputs": [],
   "source": [
    "metric='manhattan'\n",
    "#거리 계산 방법이 manhattan 일때 validation 정확도가 euclidian 과 minkowski 보다 상위에 위치함을 볼 수 있다.\n"
   ]
  },
  {
   "cell_type": "code",
   "execution_count": 44,
   "metadata": {},
   "outputs": [
    {
     "name": "stdout",
     "output_type": "stream",
     "text": [
      "train data accuracy:0.956\n",
      "\n",
      "validation data accuracy:0.953\n",
      "\n",
      "Confusion matrix:\n",
      "[[98  4]\n",
      " [10 59]]\n"
     ]
    }
   ],
   "source": [
    "knn_model=KNeighborsClassifier(n_neighbors=5, weights='uniform', metric='manhattan')\n",
    "                    \n",
    "knn_model.fit(df_train_x, df_train_y)\n",
    "y_pred=knn_model.predict(df_test_x)\n",
    "\n",
    "print('train data accuracy:{0:.3f}\\n'.format(knn_model.score(df_train_x,df_train_y)))\n",
    "\n",
    "print('validation data accuracy:{0:.3f}\\n'.format(knn_model.score(df_validation_x,df_validation_y)))\n",
    "\n",
    "print(\"Confusion matrix:\\n{}\".format(confusion_matrix(df_test_y,y_pred)))"
   ]
  },
  {
   "cell_type": "code",
   "execution_count": 45,
   "metadata": {},
   "outputs": [
    {
     "name": "stdout",
     "output_type": "stream",
     "text": [
      "Accuracy on test set:0.918\n",
      "\n",
      "Confusion matrix:\n",
      "[[98  4]\n",
      " [10 59]]\n"
     ]
    }
   ],
   "source": [
    "y_pred=knn_model.predict(df_test_x)\n",
    "print('Accuracy on test set:{0:.3f}\\n'.format(knn_model.score(df_test_x,df_test_y)))\n",
    "print(\"Confusion matrix:\\n{}\".format(confusion_matrix(df_test_y,y_pred)))"
   ]
  },
  {
   "cell_type": "code",
   "execution_count": 46,
   "metadata": {},
   "outputs": [
    {
     "data": {
      "text/plain": [
       "'\\nAccuracy on training set:0.956\\nAccuracy on validation set:0.953\\nAccuracy on test set:0.918\\nConfusion matrix:\\n[[98  4]\\n [10 59]]\\n \\n최종적으로 n_neighbors=5, weights=uniform, metric=manhattan로 parameter를 선택하였으며 \\ntest set의 정확도는 0.918로 서포트벡터머신보다는 약간 낮게 나왔다.\\n\\nconfusion matrix를 살펴보면, 악성인데 양성으로 예측한개수는 4이고, 양성인데 악성으로 잘못 예측한 것은 10이다.\\n유방암인데 유방암이 아니라고 예측한 경우가 4건이 생겼다.\\n'"
      ]
     },
     "execution_count": 46,
     "metadata": {},
     "output_type": "execute_result"
    }
   ],
   "source": [
    "'''\n",
    "Accuracy on training set:0.956\n",
    "Accuracy on validation set:0.953\n",
    "Accuracy on test set:0.918\n",
    "Confusion matrix:\n",
    "[[98  4]\n",
    " [10 59]]\n",
    " \n",
    "최종적으로 n_neighbors=5, weights=uniform, metric=manhattan로 parameter를 선택하였으며 \n",
    "test set의 정확도는 0.918로 서포트벡터머신보다는 약간 낮게 나왔다.\n",
    "\n",
    "confusion matrix를 살펴보면, 악성인데 양성으로 예측한개수는 4이고, 양성인데 악성으로 잘못 예측한 것은 10이다.\n",
    "유방암인데 유방암이 아니라고 예측한 경우가 4건이 생겼다.\n",
    "'''"
   ]
  },
  {
   "cell_type": "markdown",
   "metadata": {},
   "source": [
    "# 인공신경망"
   ]
  },
  {
   "cell_type": "code",
   "execution_count": 47,
   "metadata": {},
   "outputs": [],
   "source": [
    "import pandas as pd\n",
    "\n",
    "import matplotlib.pyplot as plt\n",
    "import matplotlib\n",
    "\n",
    "from sklearn.preprocessing import StandardScaler\n",
    "from sklearn.model_selection import train_test_split\n",
    "\n",
    "from sklearn.neural_network import MLPClassifier\n",
    "from sklearn.model_selection import GridSearchCV\n",
    "from sklearn.metrics import confusion_matrix"
   ]
  },
  {
   "cell_type": "code",
   "execution_count": 48,
   "metadata": {},
   "outputs": [],
   "source": [
    "df_raw=pd.read_csv('/home/pirl/test/4 weeks/유방암.csv')"
   ]
  },
  {
   "cell_type": "code",
   "execution_count": 49,
   "metadata": {},
   "outputs": [
    {
     "data": {
      "text/plain": [
       "diagnosis                  0\n",
       "mean radius                0\n",
       "mean texture               0\n",
       "mean perimeter             0\n",
       "mean area                  0\n",
       "mean smoothness            0\n",
       "mean compactness           0\n",
       "mean concavity             0\n",
       "mean concave points        0\n",
       "mean symmetry              0\n",
       "mean fractal dimension     0\n",
       "radius error               0\n",
       "texture error              0\n",
       "perimeter error            0\n",
       "area error                 0\n",
       "smoothness error           0\n",
       "compactness error          0\n",
       "concavity error            0\n",
       "concave points error       0\n",
       "symmetry error             0\n",
       "fractal dimension error    0\n",
       "worst radius               0\n",
       "worst texture              0\n",
       "worst perimeter            0\n",
       "worst area                 0\n",
       "worst smoothness           0\n",
       "worst compactness          0\n",
       "worst concavity            0\n",
       "worst concave points       0\n",
       "worst symmetry             0\n",
       "worst fractal dimension    0\n",
       "dtype: int64"
      ]
     },
     "execution_count": 49,
     "metadata": {},
     "output_type": "execute_result"
    }
   ],
   "source": [
    "df_raw.isnull().sum()"
   ]
  },
  {
   "cell_type": "code",
   "execution_count": 50,
   "metadata": {},
   "outputs": [
    {
     "name": "stdout",
     "output_type": "stream",
     "text": [
      "train data X size:(227, 30)\n",
      "train data Y size:(227,)\n",
      "validation data X size:(171, 30)\n",
      "validation data Y size:(171,)\n",
      "test data X size:(171, 30)\n",
      "test data Y size:(171,)\n"
     ]
    }
   ],
   "source": [
    "df_raw_y=df_raw['diagnosis']\n",
    "df_raw_x=df_raw.drop('diagnosis', axis=1, inplace=False)\n",
    "\n",
    "df_train_x,df_test_x,df_train_y,df_test_y=train_test_split(df_raw_x,df_raw_y,test_size=0.6, random_state=1234)\n",
    "df_validation_x,df_test_x,df_validation_y,df_test_y=train_test_split(df_test_x,df_test_y,test_size=0.5, random_state=1234)\n",
    "print(\"train data X size:{}\".format(df_train_x.shape))\n",
    "print(\"train data Y size:{}\".format(df_train_y.shape))\n",
    "print(\"validation data X size:{}\".format(df_validation_x.shape))\n",
    "print(\"validation data Y size:{}\".format(df_validation_y.shape))\n",
    "print(\"test data X size:{}\".format(df_test_x.shape))\n",
    "print(\"test data Y size:{}\".format(df_test_y.shape))"
   ]
  },
  {
   "cell_type": "code",
   "execution_count": 51,
   "metadata": {},
   "outputs": [
    {
     "name": "stdout",
     "output_type": "stream",
     "text": [
      "Accuracy on training set:0.947\n",
      "Accuracy on validation set:0.901\n"
     ]
    }
   ],
   "source": [
    "nn_uncustomized=MLPClassifier(random_state=1234)\n",
    "nn_uncustomized.fit(df_train_x,df_train_y)\n",
    "print('Accuracy on training set:{:.3f}'.format(nn_uncustomized.score(df_train_x,df_train_y)))\n",
    "\n",
    "print('Accuracy on validation set:{:.3f}'.format(nn_uncustomized.score(df_validation_x,df_validation_y)))\n",
    "\n"
   ]
  },
  {
   "cell_type": "code",
   "execution_count": 52,
   "metadata": {},
   "outputs": [
    {
     "data": {
      "text/plain": [
       "MLPClassifier(activation='relu', alpha=0.0001, batch_size='auto', beta_1=0.9,\n",
       "              beta_2=0.999, early_stopping=False, epsilon=1e-08,\n",
       "              hidden_layer_sizes=(100,), learning_rate='constant',\n",
       "              learning_rate_init=0.001, max_iter=200, momentum=0.9,\n",
       "              n_iter_no_change=10, nesterovs_momentum=True, power_t=0.5,\n",
       "              random_state=1234, shuffle=True, solver='adam', tol=0.0001,\n",
       "              validation_fraction=0.1, verbose=False, warm_start=False)"
      ]
     },
     "execution_count": 52,
     "metadata": {},
     "output_type": "execute_result"
    }
   ],
   "source": [
    "nn_uncustomized"
   ]
  },
  {
   "cell_type": "code",
   "execution_count": 53,
   "metadata": {},
   "outputs": [
    {
     "name": "stderr",
     "output_type": "stream",
     "text": [
      "/home/pirl/anaconda3/lib/python3.7/site-packages/sklearn/neural_network/multilayer_perceptron.py:566: ConvergenceWarning: Stochastic Optimizer: Maximum iterations (200) reached and the optimization hasn't converged yet.\n",
      "  % self.max_iter, ConvergenceWarning)\n"
     ]
    },
    {
     "data": {
      "text/html": [
       "<div>\n",
       "<style scoped>\n",
       "    .dataframe tbody tr th:only-of-type {\n",
       "        vertical-align: middle;\n",
       "    }\n",
       "\n",
       "    .dataframe tbody tr th {\n",
       "        vertical-align: top;\n",
       "    }\n",
       "\n",
       "    .dataframe thead th {\n",
       "        text-align: right;\n",
       "    }\n",
       "</style>\n",
       "<table border=\"1\" class=\"dataframe\">\n",
       "  <thead>\n",
       "    <tr style=\"text-align: right;\">\n",
       "      <th></th>\n",
       "      <th>HiddenLayer</th>\n",
       "      <th>TrainAccuracy</th>\n",
       "      <th>ValidationAccuracy</th>\n",
       "    </tr>\n",
       "  </thead>\n",
       "  <tbody>\n",
       "    <tr>\n",
       "      <td>0</td>\n",
       "      <td>20</td>\n",
       "      <td>0.881</td>\n",
       "      <td>0.895</td>\n",
       "    </tr>\n",
       "    <tr>\n",
       "      <td>1</td>\n",
       "      <td>40</td>\n",
       "      <td>0.930</td>\n",
       "      <td>0.895</td>\n",
       "    </tr>\n",
       "    <tr>\n",
       "      <td>2</td>\n",
       "      <td>60</td>\n",
       "      <td>0.938</td>\n",
       "      <td>0.924</td>\n",
       "    </tr>\n",
       "    <tr>\n",
       "      <td>3</td>\n",
       "      <td>80</td>\n",
       "      <td>0.943</td>\n",
       "      <td>0.924</td>\n",
       "    </tr>\n",
       "    <tr>\n",
       "      <td>4</td>\n",
       "      <td>100</td>\n",
       "      <td>0.947</td>\n",
       "      <td>0.901</td>\n",
       "    </tr>\n",
       "    <tr>\n",
       "      <td>5</td>\n",
       "      <td>120</td>\n",
       "      <td>0.925</td>\n",
       "      <td>0.906</td>\n",
       "    </tr>\n",
       "    <tr>\n",
       "      <td>6</td>\n",
       "      <td>140</td>\n",
       "      <td>0.934</td>\n",
       "      <td>0.895</td>\n",
       "    </tr>\n",
       "    <tr>\n",
       "      <td>7</td>\n",
       "      <td>160</td>\n",
       "      <td>0.912</td>\n",
       "      <td>0.860</td>\n",
       "    </tr>\n",
       "  </tbody>\n",
       "</table>\n",
       "</div>"
      ],
      "text/plain": [
       "   HiddenLayer  TrainAccuracy  ValidationAccuracy\n",
       "0           20          0.881               0.895\n",
       "1           40          0.930               0.895\n",
       "2           60          0.938               0.924\n",
       "3           80          0.943               0.924\n",
       "4          100          0.947               0.901\n",
       "5          120          0.925               0.906\n",
       "6          140          0.934               0.895\n",
       "7          160          0.912               0.860"
      ]
     },
     "execution_count": 53,
     "metadata": {},
     "output_type": "execute_result"
    }
   ],
   "source": [
    "train_accuracy=[]; validation_accuracy=[]\n",
    "para_hidden=[20*hidden for hidden in range(1,9)]\n",
    "\n",
    "for v_hidden in para_hidden:\n",
    "    nn=MLPClassifier(hidden_layer_sizes=v_hidden, random_state=1234)\n",
    "    nn.fit(df_train_x,df_train_y)\n",
    "    train_accuracy.append(nn.score(df_train_x,df_train_y))\n",
    "    validation_accuracy.append(nn.score(df_validation_x,df_validation_y))\n",
    "    \n",
    "df_accuracy_hidden=pd.DataFrame()\n",
    "df_accuracy_hidden['HiddenLayer']=para_hidden\n",
    "df_accuracy_hidden['TrainAccuracy']=train_accuracy\n",
    "df_accuracy_hidden['ValidationAccuracy']=validation_accuracy\n",
    "df_accuracy_hidden.round(3)"
   ]
  },
  {
   "cell_type": "code",
   "execution_count": 54,
   "metadata": {},
   "outputs": [
    {
     "data": {
      "text/plain": [
       "<matplotlib.legend.Legend at 0x7f0f581217d0>"
      ]
     },
     "execution_count": 54,
     "metadata": {},
     "output_type": "execute_result"
    },
    {
     "data": {
      "image/png": "[encoded data removed]",
      "text/plain": [
       "<Figure size 432x288 with 1 Axes>"
      ]
     },
     "metadata": {
      "needs_background": "light"
     },
     "output_type": "display_data"
    }
   ],
   "source": [
    "plt.plot(para_hidden, train_accuracy, linestyle='-', label='Train Accuracy')\n",
    "plt.plot(para_hidden, validation_accuracy, linestyle='--', label='Validation Accuracy')\n",
    "plt.ylabel('accuracy'); plt.xlabel('Hidden Layer')\n",
    "plt.legend()"
   ]
  },
  {
   "cell_type": "code",
   "execution_count": 55,
   "metadata": {},
   "outputs": [
    {
     "data": {
      "text/html": [
       "<div>\n",
       "<style scoped>\n",
       "    .dataframe tbody tr th:only-of-type {\n",
       "        vertical-align: middle;\n",
       "    }\n",
       "\n",
       "    .dataframe tbody tr th {\n",
       "        vertical-align: top;\n",
       "    }\n",
       "\n",
       "    .dataframe thead th {\n",
       "        text-align: right;\n",
       "    }\n",
       "</style>\n",
       "<table border=\"1\" class=\"dataframe\">\n",
       "  <thead>\n",
       "    <tr style=\"text-align: right;\">\n",
       "      <th></th>\n",
       "      <th>HiddenLayer</th>\n",
       "      <th>TrainAccuracy</th>\n",
       "      <th>ValidationAccuracy</th>\n",
       "    </tr>\n",
       "  </thead>\n",
       "  <tbody>\n",
       "    <tr>\n",
       "      <td>0</td>\n",
       "      <td>20</td>\n",
       "      <td>0.894</td>\n",
       "      <td>0.842</td>\n",
       "    </tr>\n",
       "    <tr>\n",
       "      <td>1</td>\n",
       "      <td>40</td>\n",
       "      <td>0.938</td>\n",
       "      <td>0.930</td>\n",
       "    </tr>\n",
       "    <tr>\n",
       "      <td>2</td>\n",
       "      <td>60</td>\n",
       "      <td>0.952</td>\n",
       "      <td>0.912</td>\n",
       "    </tr>\n",
       "    <tr>\n",
       "      <td>3</td>\n",
       "      <td>80</td>\n",
       "      <td>0.921</td>\n",
       "      <td>0.860</td>\n",
       "    </tr>\n",
       "    <tr>\n",
       "      <td>4</td>\n",
       "      <td>100</td>\n",
       "      <td>0.938</td>\n",
       "      <td>0.883</td>\n",
       "    </tr>\n",
       "    <tr>\n",
       "      <td>5</td>\n",
       "      <td>120</td>\n",
       "      <td>0.916</td>\n",
       "      <td>0.877</td>\n",
       "    </tr>\n",
       "    <tr>\n",
       "      <td>6</td>\n",
       "      <td>140</td>\n",
       "      <td>0.925</td>\n",
       "      <td>0.883</td>\n",
       "    </tr>\n",
       "    <tr>\n",
       "      <td>7</td>\n",
       "      <td>160</td>\n",
       "      <td>0.916</td>\n",
       "      <td>0.912</td>\n",
       "    </tr>\n",
       "  </tbody>\n",
       "</table>\n",
       "</div>"
      ],
      "text/plain": [
       "   HiddenLayer  TrainAccuracy  ValidationAccuracy\n",
       "0           20          0.894               0.842\n",
       "1           40          0.938               0.930\n",
       "2           60          0.952               0.912\n",
       "3           80          0.921               0.860\n",
       "4          100          0.938               0.883\n",
       "5          120          0.916               0.877\n",
       "6          140          0.925               0.883\n",
       "7          160          0.916               0.912"
      ]
     },
     "execution_count": 55,
     "metadata": {},
     "output_type": "execute_result"
    }
   ],
   "source": [
    "#은닉층 2개일때\n",
    "train_accuracy=[]; validation_accuracy=[]\n",
    "para_hidden=[20*hidden for hidden in range(1,9)]\n",
    "\n",
    "for v_hidden in para_hidden:\n",
    "    nn=MLPClassifier(hidden_layer_sizes=(v_hidden,v_hidden), random_state=1234)\n",
    "    nn.fit(df_train_x,df_train_y)\n",
    "    train_accuracy.append(nn.score(df_train_x,df_train_y))\n",
    "    validation_accuracy.append(nn.score(df_validation_x,df_validation_y))\n",
    "    \n",
    "df_accuracy_hidden=pd.DataFrame()\n",
    "df_accuracy_hidden['HiddenLayer']=para_hidden\n",
    "df_accuracy_hidden['TrainAccuracy']=train_accuracy\n",
    "df_accuracy_hidden['ValidationAccuracy']=validation_accuracy\n",
    "df_accuracy_hidden.round(3)"
   ]
  },
  {
   "cell_type": "code",
   "execution_count": 56,
   "metadata": {},
   "outputs": [
    {
     "data": {
      "text/plain": [
       "<matplotlib.legend.Legend at 0x7f0f5809b910>"
      ]
     },
     "execution_count": 56,
     "metadata": {},
     "output_type": "execute_result"
    },
    {
     "data": {
      "image/png": "[encoded data removed]",
      "text/plain": [
       "<Figure size 432x288 with 1 Axes>"
      ]
     },
     "metadata": {
      "needs_background": "light"
     },
     "output_type": "display_data"
    }
   ],
   "source": [
    "plt.plot(para_hidden, train_accuracy, linestyle='-', label='Train Accuracy')\n",
    "plt.plot(para_hidden, validation_accuracy, linestyle='--', label='Validation Accuracy')\n",
    "plt.ylabel('accuracy'); plt.xlabel('Hidden Layer')\n",
    "plt.legend()"
   ]
  },
  {
   "cell_type": "code",
   "execution_count": 57,
   "metadata": {},
   "outputs": [],
   "source": [
    "\n",
    "#은닉층이 두개일때, hidden layer 가 40일때 train 정확도가 0.938이고 validation 정확도가 0.930으로\n",
    "#가장 정확도가 높다."
   ]
  },
  {
   "cell_type": "code",
   "execution_count": 58,
   "metadata": {},
   "outputs": [
    {
     "name": "stderr",
     "output_type": "stream",
     "text": [
      "/home/pirl/anaconda3/lib/python3.7/site-packages/sklearn/neural_network/multilayer_perceptron.py:566: ConvergenceWarning: Stochastic Optimizer: Maximum iterations (200) reached and the optimization hasn't converged yet.\n",
      "  % self.max_iter, ConvergenceWarning)\n"
     ]
    },
    {
     "data": {
      "text/html": [
       "<div>\n",
       "<style scoped>\n",
       "    .dataframe tbody tr th:only-of-type {\n",
       "        vertical-align: middle;\n",
       "    }\n",
       "\n",
       "    .dataframe tbody tr th {\n",
       "        vertical-align: top;\n",
       "    }\n",
       "\n",
       "    .dataframe thead th {\n",
       "        text-align: right;\n",
       "    }\n",
       "</style>\n",
       "<table border=\"1\" class=\"dataframe\">\n",
       "  <thead>\n",
       "    <tr style=\"text-align: right;\">\n",
       "      <th></th>\n",
       "      <th>ActivationFuction</th>\n",
       "      <th>TrainAccuracy</th>\n",
       "      <th>ValidationAccuracy</th>\n",
       "    </tr>\n",
       "  </thead>\n",
       "  <tbody>\n",
       "    <tr>\n",
       "      <td>0</td>\n",
       "      <td>logistic</td>\n",
       "      <td>0.947</td>\n",
       "      <td>0.906</td>\n",
       "    </tr>\n",
       "    <tr>\n",
       "      <td>1</td>\n",
       "      <td>tanh</td>\n",
       "      <td>0.934</td>\n",
       "      <td>0.889</td>\n",
       "    </tr>\n",
       "    <tr>\n",
       "      <td>2</td>\n",
       "      <td>relu</td>\n",
       "      <td>0.947</td>\n",
       "      <td>0.901</td>\n",
       "    </tr>\n",
       "  </tbody>\n",
       "</table>\n",
       "</div>"
      ],
      "text/plain": [
       "  ActivationFuction  TrainAccuracy  ValidationAccuracy\n",
       "0          logistic          0.947               0.906\n",
       "1              tanh          0.934               0.889\n",
       "2              relu          0.947               0.901"
      ]
     },
     "execution_count": 58,
     "metadata": {},
     "output_type": "execute_result"
    }
   ],
   "source": [
    "train_accuracy=[]; validation_accuracy=[]\n",
    "\n",
    "para_function=['logistic', 'tanh','relu']\n",
    "for v_function in para_function:\n",
    "    nn=MLPClassifier(activation=v_function,random_state=1234)\n",
    "    nn.fit(df_train_x,df_train_y)\n",
    "    train_accuracy.append(nn.score(df_train_x,df_train_y))\n",
    "    validation_accuracy.append(nn.score(df_validation_x,df_validation_y))\n",
    "    \n",
    "df_accuracy_function=pd.DataFrame()\n",
    "df_accuracy_function['ActivationFuction']=para_function\n",
    "df_accuracy_function['TrainAccuracy']=train_accuracy\n",
    "df_accuracy_function['ValidationAccuracy']=validation_accuracy\n",
    "df_accuracy_function.round(3)"
   ]
  },
  {
   "cell_type": "code",
   "execution_count": 59,
   "metadata": {},
   "outputs": [
    {
     "data": {
      "text/plain": [
       "<matplotlib.legend.Legend at 0x7f0f50ba0310>"
      ]
     },
     "execution_count": 59,
     "metadata": {},
     "output_type": "execute_result"
    },
    {
     "data": {
      "image/png": "[encoded data removed]",
      "text/plain": [
       "<Figure size 432x288 with 1 Axes>"
      ]
     },
     "metadata": {
      "needs_background": "light"
     },
     "output_type": "display_data"
    }
   ],
   "source": [
    "plt.plot(para_function, train_accuracy, linestyle='-', label='Train Accuracy')\n",
    "plt.plot(para_function, validation_accuracy, linestyle='--', label='validation Accuracy')\n",
    "plt.ylabel('accuracy'); plt.xlabel('Activation Function')\n",
    "plt.legend()"
   ]
  },
  {
   "cell_type": "code",
   "execution_count": 60,
   "metadata": {},
   "outputs": [],
   "source": [
    "#logistic 함수 적용시 모델의 정확도가 제일 높음. 그러나 scale변환 후 모델의 성능 비교 필요"
   ]
  },
  {
   "cell_type": "code",
   "execution_count": 61,
   "metadata": {},
   "outputs": [
    {
     "data": {
      "text/html": [
       "<div>\n",
       "<style scoped>\n",
       "    .dataframe tbody tr th:only-of-type {\n",
       "        vertical-align: middle;\n",
       "    }\n",
       "\n",
       "    .dataframe tbody tr th {\n",
       "        vertical-align: top;\n",
       "    }\n",
       "\n",
       "    .dataframe thead th {\n",
       "        text-align: right;\n",
       "    }\n",
       "</style>\n",
       "<table border=\"1\" class=\"dataframe\">\n",
       "  <thead>\n",
       "    <tr style=\"text-align: right;\">\n",
       "      <th></th>\n",
       "      <th>mean radius</th>\n",
       "      <th>mean texture</th>\n",
       "      <th>mean perimeter</th>\n",
       "      <th>mean area</th>\n",
       "      <th>mean smoothness</th>\n",
       "      <th>mean compactness</th>\n",
       "      <th>mean concavity</th>\n",
       "      <th>mean concave points</th>\n",
       "      <th>mean symmetry</th>\n",
       "      <th>mean fractal dimension</th>\n",
       "      <th>...</th>\n",
       "      <th>worst radius</th>\n",
       "      <th>worst texture</th>\n",
       "      <th>worst perimeter</th>\n",
       "      <th>worst area</th>\n",
       "      <th>worst smoothness</th>\n",
       "      <th>worst compactness</th>\n",
       "      <th>worst concavity</th>\n",
       "      <th>worst concave points</th>\n",
       "      <th>worst symmetry</th>\n",
       "      <th>worst fractal dimension</th>\n",
       "    </tr>\n",
       "  </thead>\n",
       "  <tbody>\n",
       "    <tr>\n",
       "      <td>0</td>\n",
       "      <td>1.097064</td>\n",
       "      <td>-2.073335</td>\n",
       "      <td>1.269934</td>\n",
       "      <td>0.984375</td>\n",
       "      <td>1.568466</td>\n",
       "      <td>3.283515</td>\n",
       "      <td>2.652874</td>\n",
       "      <td>2.532475</td>\n",
       "      <td>2.217515</td>\n",
       "      <td>2.255747</td>\n",
       "      <td>...</td>\n",
       "      <td>1.886690</td>\n",
       "      <td>-1.359293</td>\n",
       "      <td>2.303601</td>\n",
       "      <td>2.001237</td>\n",
       "      <td>1.307686</td>\n",
       "      <td>2.616665</td>\n",
       "      <td>2.109526</td>\n",
       "      <td>2.296076</td>\n",
       "      <td>2.750622</td>\n",
       "      <td>1.937015</td>\n",
       "    </tr>\n",
       "    <tr>\n",
       "      <td>1</td>\n",
       "      <td>1.829821</td>\n",
       "      <td>-0.353632</td>\n",
       "      <td>1.685955</td>\n",
       "      <td>1.908708</td>\n",
       "      <td>-0.826962</td>\n",
       "      <td>-0.487072</td>\n",
       "      <td>-0.023846</td>\n",
       "      <td>0.548144</td>\n",
       "      <td>0.001392</td>\n",
       "      <td>-0.868652</td>\n",
       "      <td>...</td>\n",
       "      <td>1.805927</td>\n",
       "      <td>-0.369203</td>\n",
       "      <td>1.535126</td>\n",
       "      <td>1.890489</td>\n",
       "      <td>-0.375612</td>\n",
       "      <td>-0.430444</td>\n",
       "      <td>-0.146749</td>\n",
       "      <td>1.087084</td>\n",
       "      <td>-0.243890</td>\n",
       "      <td>0.281190</td>\n",
       "    </tr>\n",
       "    <tr>\n",
       "      <td>2</td>\n",
       "      <td>1.579888</td>\n",
       "      <td>0.456187</td>\n",
       "      <td>1.566503</td>\n",
       "      <td>1.558884</td>\n",
       "      <td>0.942210</td>\n",
       "      <td>1.052926</td>\n",
       "      <td>1.363478</td>\n",
       "      <td>2.037231</td>\n",
       "      <td>0.939685</td>\n",
       "      <td>-0.398008</td>\n",
       "      <td>...</td>\n",
       "      <td>1.511870</td>\n",
       "      <td>-0.023974</td>\n",
       "      <td>1.347475</td>\n",
       "      <td>1.456285</td>\n",
       "      <td>0.527407</td>\n",
       "      <td>1.082932</td>\n",
       "      <td>0.854974</td>\n",
       "      <td>1.955000</td>\n",
       "      <td>1.152255</td>\n",
       "      <td>0.201391</td>\n",
       "    </tr>\n",
       "    <tr>\n",
       "      <td>3</td>\n",
       "      <td>-0.768909</td>\n",
       "      <td>0.253732</td>\n",
       "      <td>-0.592687</td>\n",
       "      <td>-0.764464</td>\n",
       "      <td>3.283553</td>\n",
       "      <td>3.402909</td>\n",
       "      <td>1.915897</td>\n",
       "      <td>1.451707</td>\n",
       "      <td>2.867383</td>\n",
       "      <td>4.910919</td>\n",
       "      <td>...</td>\n",
       "      <td>-0.281464</td>\n",
       "      <td>0.133984</td>\n",
       "      <td>-0.249939</td>\n",
       "      <td>-0.550021</td>\n",
       "      <td>3.394275</td>\n",
       "      <td>3.893397</td>\n",
       "      <td>1.989588</td>\n",
       "      <td>2.175786</td>\n",
       "      <td>6.046041</td>\n",
       "      <td>4.935010</td>\n",
       "    </tr>\n",
       "    <tr>\n",
       "      <td>4</td>\n",
       "      <td>1.750297</td>\n",
       "      <td>-1.151816</td>\n",
       "      <td>1.776573</td>\n",
       "      <td>1.826229</td>\n",
       "      <td>0.280372</td>\n",
       "      <td>0.539340</td>\n",
       "      <td>1.371011</td>\n",
       "      <td>1.428493</td>\n",
       "      <td>-0.009560</td>\n",
       "      <td>-0.562450</td>\n",
       "      <td>...</td>\n",
       "      <td>1.298575</td>\n",
       "      <td>-1.466770</td>\n",
       "      <td>1.338539</td>\n",
       "      <td>1.220724</td>\n",
       "      <td>0.220556</td>\n",
       "      <td>-0.313395</td>\n",
       "      <td>0.613179</td>\n",
       "      <td>0.729259</td>\n",
       "      <td>-0.868353</td>\n",
       "      <td>-0.397100</td>\n",
       "    </tr>\n",
       "  </tbody>\n",
       "</table>\n",
       "<p>5 rows × 30 columns</p>\n",
       "</div>"
      ],
      "text/plain": [
       "   mean radius  mean texture  mean perimeter  mean area  mean smoothness  \\\n",
       "0     1.097064     -2.073335        1.269934   0.984375         1.568466   \n",
       "1     1.829821     -0.353632        1.685955   1.908708        -0.826962   \n",
       "2     1.579888      0.456187        1.566503   1.558884         0.942210   \n",
       "3    -0.768909      0.253732       -0.592687  -0.764464         3.283553   \n",
       "4     1.750297     -1.151816        1.776573   1.826229         0.280372   \n",
       "\n",
       "   mean compactness  mean concavity  mean concave points  mean symmetry  \\\n",
       "0          3.283515        2.652874             2.532475       2.217515   \n",
       "1         -0.487072       -0.023846             0.548144       0.001392   \n",
       "2          1.052926        1.363478             2.037231       0.939685   \n",
       "3          3.402909        1.915897             1.451707       2.867383   \n",
       "4          0.539340        1.371011             1.428493      -0.009560   \n",
       "\n",
       "   mean fractal dimension  ...  worst radius  worst texture  worst perimeter  \\\n",
       "0                2.255747  ...      1.886690      -1.359293         2.303601   \n",
       "1               -0.868652  ...      1.805927      -0.369203         1.535126   \n",
       "2               -0.398008  ...      1.511870      -0.023974         1.347475   \n",
       "3                4.910919  ...     -0.281464       0.133984        -0.249939   \n",
       "4               -0.562450  ...      1.298575      -1.466770         1.338539   \n",
       "\n",
       "   worst area  worst smoothness  worst compactness  worst concavity  \\\n",
       "0    2.001237          1.307686           2.616665         2.109526   \n",
       "1    1.890489         -0.375612          -0.430444        -0.146749   \n",
       "2    1.456285          0.527407           1.082932         0.854974   \n",
       "3   -0.550021          3.394275           3.893397         1.989588   \n",
       "4    1.220724          0.220556          -0.313395         0.613179   \n",
       "\n",
       "   worst concave points  worst symmetry  worst fractal dimension  \n",
       "0              2.296076        2.750622                 1.937015  \n",
       "1              1.087084       -0.243890                 0.281190  \n",
       "2              1.955000        1.152255                 0.201391  \n",
       "3              2.175786        6.046041                 4.935010  \n",
       "4              0.729259       -0.868353                -0.397100  \n",
       "\n",
       "[5 rows x 30 columns]"
      ]
     },
     "execution_count": 61,
     "metadata": {},
     "output_type": "execute_result"
    }
   ],
   "source": [
    "v_feature_name=df_train_x.columns\n",
    "scaler=StandardScaler()\n",
    "df_scaled=scaler.fit_transform(df_raw_x)\n",
    "df_scaled=pd.DataFrame(df_scaled, columns=v_feature_name)\n",
    "df_scaled.head()"
   ]
  },
  {
   "cell_type": "code",
   "execution_count": 62,
   "metadata": {},
   "outputs": [
    {
     "name": "stdout",
     "output_type": "stream",
     "text": [
      "train data X size:(227, 30)\n",
      "validation data X size:(171, 30)\n",
      "test data X size:(171, 30)\n"
     ]
    }
   ],
   "source": [
    "df_scaled_train_x,df_scaled_test_x=train_test_split(df_scaled,test_size=0.6,random_state=1234)\n",
    "df_scaled_validation_x,df_scaled_test_x=train_test_split(df_scaled_test_x, test_size=0.5, random_state=1234)\n",
    "print('train data X size:{}'.format(df_scaled_train_x.shape))\n",
    "print(\"validation data X size:{}\".format(df_scaled_validation_x.shape))\n",
    "print('test data X size:{}'.format(df_scaled_test_x.shape))\n",
    "\n",
    "\n"
   ]
  },
  {
   "cell_type": "code",
   "execution_count": 63,
   "metadata": {},
   "outputs": [
    {
     "name": "stdout",
     "output_type": "stream",
     "text": [
      "Accuracy on training set:0.996\n",
      "Accuracy on validation set:0.971\n"
     ]
    },
    {
     "name": "stderr",
     "output_type": "stream",
     "text": [
      "/home/pirl/anaconda3/lib/python3.7/site-packages/sklearn/neural_network/multilayer_perceptron.py:566: ConvergenceWarning: Stochastic Optimizer: Maximum iterations (200) reached and the optimization hasn't converged yet.\n",
      "  % self.max_iter, ConvergenceWarning)\n"
     ]
    }
   ],
   "source": [
    "nn_scaled=MLPClassifier(random_state=1234)\n",
    "nn_scaled.fit(df_scaled_train_x,df_train_y)\n",
    "\n",
    "print('Accuracy on training set:{:.3f}'.format(nn_scaled.score(df_scaled_train_x,df_train_y)))\n",
    "\n",
    "print('Accuracy on validation set:{:.3f}'.format(nn_scaled.score(df_scaled_validation_x,df_validation_y)))\n",
    "\n"
   ]
  },
  {
   "cell_type": "code",
   "execution_count": 64,
   "metadata": {},
   "outputs": [],
   "source": [
    "#scale 변환을 했을때, training set과 validation set 모두 정확도가 더 높아진 것을 확인 할 수 있다.\n",
    "#변환 전 정확도\n",
    "#Accuracy on training set:0.947\n",
    "#Accuracy on validation set:0.901"
   ]
  },
  {
   "cell_type": "code",
   "execution_count": 65,
   "metadata": {},
   "outputs": [
    {
     "name": "stderr",
     "output_type": "stream",
     "text": [
      "/home/pirl/anaconda3/lib/python3.7/site-packages/sklearn/neural_network/multilayer_perceptron.py:566: ConvergenceWarning: Stochastic Optimizer: Maximum iterations (200) reached and the optimization hasn't converged yet.\n",
      "  % self.max_iter, ConvergenceWarning)\n",
      "/home/pirl/anaconda3/lib/python3.7/site-packages/sklearn/neural_network/multilayer_perceptron.py:566: ConvergenceWarning: Stochastic Optimizer: Maximum iterations (200) reached and the optimization hasn't converged yet.\n",
      "  % self.max_iter, ConvergenceWarning)\n"
     ]
    },
    {
     "data": {
      "text/html": [
       "<div>\n",
       "<style scoped>\n",
       "    .dataframe tbody tr th:only-of-type {\n",
       "        vertical-align: middle;\n",
       "    }\n",
       "\n",
       "    .dataframe tbody tr th {\n",
       "        vertical-align: top;\n",
       "    }\n",
       "\n",
       "    .dataframe thead th {\n",
       "        text-align: right;\n",
       "    }\n",
       "</style>\n",
       "<table border=\"1\" class=\"dataframe\">\n",
       "  <thead>\n",
       "    <tr style=\"text-align: right;\">\n",
       "      <th></th>\n",
       "      <th>HiddenLayer</th>\n",
       "      <th>TrainAccuracy</th>\n",
       "      <th>ValidationAccuracy</th>\n",
       "    </tr>\n",
       "  </thead>\n",
       "  <tbody>\n",
       "    <tr>\n",
       "      <td>0</td>\n",
       "      <td>20</td>\n",
       "      <td>0.996</td>\n",
       "      <td>0.965</td>\n",
       "    </tr>\n",
       "    <tr>\n",
       "      <td>1</td>\n",
       "      <td>40</td>\n",
       "      <td>0.996</td>\n",
       "      <td>0.971</td>\n",
       "    </tr>\n",
       "    <tr>\n",
       "      <td>2</td>\n",
       "      <td>60</td>\n",
       "      <td>1.000</td>\n",
       "      <td>0.971</td>\n",
       "    </tr>\n",
       "    <tr>\n",
       "      <td>3</td>\n",
       "      <td>80</td>\n",
       "      <td>1.000</td>\n",
       "      <td>0.971</td>\n",
       "    </tr>\n",
       "    <tr>\n",
       "      <td>4</td>\n",
       "      <td>100</td>\n",
       "      <td>1.000</td>\n",
       "      <td>0.971</td>\n",
       "    </tr>\n",
       "    <tr>\n",
       "      <td>5</td>\n",
       "      <td>120</td>\n",
       "      <td>1.000</td>\n",
       "      <td>0.965</td>\n",
       "    </tr>\n",
       "    <tr>\n",
       "      <td>6</td>\n",
       "      <td>140</td>\n",
       "      <td>1.000</td>\n",
       "      <td>0.971</td>\n",
       "    </tr>\n",
       "    <tr>\n",
       "      <td>7</td>\n",
       "      <td>160</td>\n",
       "      <td>1.000</td>\n",
       "      <td>0.965</td>\n",
       "    </tr>\n",
       "    <tr>\n",
       "      <td>8</td>\n",
       "      <td>180</td>\n",
       "      <td>1.000</td>\n",
       "      <td>0.965</td>\n",
       "    </tr>\n",
       "    <tr>\n",
       "      <td>9</td>\n",
       "      <td>200</td>\n",
       "      <td>1.000</td>\n",
       "      <td>0.971</td>\n",
       "    </tr>\n",
       "  </tbody>\n",
       "</table>\n",
       "</div>"
      ],
      "text/plain": [
       "   HiddenLayer  TrainAccuracy  ValidationAccuracy\n",
       "0           20          0.996               0.965\n",
       "1           40          0.996               0.971\n",
       "2           60          1.000               0.971\n",
       "3           80          1.000               0.971\n",
       "4          100          1.000               0.971\n",
       "5          120          1.000               0.965\n",
       "6          140          1.000               0.971\n",
       "7          160          1.000               0.965\n",
       "8          180          1.000               0.965\n",
       "9          200          1.000               0.971"
      ]
     },
     "execution_count": 65,
     "metadata": {},
     "output_type": "execute_result"
    }
   ],
   "source": [
    "train_accuracy=[]; validation_accuracy=[]\n",
    "para_hidden=[20*hidden for hidden in range(1,11)]\n",
    "\n",
    "for v_hidden in para_hidden:\n",
    "    nn=MLPClassifier(hidden_layer_sizes=(v_hidden,v_hidden), random_state=1234)\n",
    "    \n",
    "    nn.fit(df_scaled_train_x, df_train_y)\n",
    "    train_accuracy.append(nn.score(df_scaled_train_x,df_train_y))\n",
    "    validation_accuracy.append(nn.score(df_scaled_validation_x, df_validation_y))\n",
    "\n",
    "df_accuracy_hidden=pd.DataFrame()\n",
    "df_accuracy_hidden['HiddenLayer']=para_hidden\n",
    "df_accuracy_hidden['TrainAccuracy']=train_accuracy\n",
    "df_accuracy_hidden['ValidationAccuracy']=validation_accuracy\n",
    "df_accuracy_hidden.round(3)"
   ]
  },
  {
   "cell_type": "code",
   "execution_count": 66,
   "metadata": {},
   "outputs": [
    {
     "data": {
      "text/plain": [
       "<matplotlib.legend.Legend at 0x7f0f50b19fd0>"
      ]
     },
     "execution_count": 66,
     "metadata": {},
     "output_type": "execute_result"
    },
    {
     "data": {
      "image/png": "[encoded data removed]",
      "text/plain": [
       "<Figure size 432x288 with 1 Axes>"
      ]
     },
     "metadata": {
      "needs_background": "light"
     },
     "output_type": "display_data"
    }
   ],
   "source": [
    "plt.plot(para_hidden, train_accuracy, linestyle='-', label='Train Accuracy')\n",
    "plt.plot(para_hidden, validation_accuracy, linestyle='--', label='Validation Accuracy')\n",
    "plt.ylabel('accuracy'); plt.xlabel('Hidden Layer')\n",
    "plt.legend()"
   ]
  },
  {
   "cell_type": "code",
   "execution_count": 67,
   "metadata": {},
   "outputs": [],
   "source": [
    "hidden_layer_sizes=40\n",
    "# 40일때 validation 의 정확도가 높아지고 train 정확도와의 차이도 가장 작으므로 40 선택"
   ]
  },
  {
   "cell_type": "code",
   "execution_count": 68,
   "metadata": {},
   "outputs": [
    {
     "name": "stderr",
     "output_type": "stream",
     "text": [
      "/home/pirl/anaconda3/lib/python3.7/site-packages/sklearn/neural_network/multilayer_perceptron.py:566: ConvergenceWarning: Stochastic Optimizer: Maximum iterations (200) reached and the optimization hasn't converged yet.\n",
      "  % self.max_iter, ConvergenceWarning)\n",
      "/home/pirl/anaconda3/lib/python3.7/site-packages/sklearn/neural_network/multilayer_perceptron.py:566: ConvergenceWarning: Stochastic Optimizer: Maximum iterations (200) reached and the optimization hasn't converged yet.\n",
      "  % self.max_iter, ConvergenceWarning)\n",
      "/home/pirl/anaconda3/lib/python3.7/site-packages/sklearn/neural_network/multilayer_perceptron.py:566: ConvergenceWarning: Stochastic Optimizer: Maximum iterations (200) reached and the optimization hasn't converged yet.\n",
      "  % self.max_iter, ConvergenceWarning)\n"
     ]
    },
    {
     "data": {
      "text/html": [
       "<div>\n",
       "<style scoped>\n",
       "    .dataframe tbody tr th:only-of-type {\n",
       "        vertical-align: middle;\n",
       "    }\n",
       "\n",
       "    .dataframe tbody tr th {\n",
       "        vertical-align: top;\n",
       "    }\n",
       "\n",
       "    .dataframe thead th {\n",
       "        text-align: right;\n",
       "    }\n",
       "</style>\n",
       "<table border=\"1\" class=\"dataframe\">\n",
       "  <thead>\n",
       "    <tr style=\"text-align: right;\">\n",
       "      <th></th>\n",
       "      <th>ActivationFuction</th>\n",
       "      <th>TrainAccuracy</th>\n",
       "      <th>ValidationAccuracy</th>\n",
       "    </tr>\n",
       "  </thead>\n",
       "  <tbody>\n",
       "    <tr>\n",
       "      <td>0</td>\n",
       "      <td>logistic</td>\n",
       "      <td>0.996</td>\n",
       "      <td>0.965</td>\n",
       "    </tr>\n",
       "    <tr>\n",
       "      <td>1</td>\n",
       "      <td>tanh</td>\n",
       "      <td>0.996</td>\n",
       "      <td>0.965</td>\n",
       "    </tr>\n",
       "    <tr>\n",
       "      <td>2</td>\n",
       "      <td>relu</td>\n",
       "      <td>0.996</td>\n",
       "      <td>0.971</td>\n",
       "    </tr>\n",
       "  </tbody>\n",
       "</table>\n",
       "</div>"
      ],
      "text/plain": [
       "  ActivationFuction  TrainAccuracy  ValidationAccuracy\n",
       "0          logistic          0.996               0.965\n",
       "1              tanh          0.996               0.965\n",
       "2              relu          0.996               0.971"
      ]
     },
     "execution_count": 68,
     "metadata": {},
     "output_type": "execute_result"
    }
   ],
   "source": [
    "train_accuracy=[]; validation_accuracy=[]\n",
    "\n",
    "para_function=['logistic', 'tanh','relu']\n",
    "for v_function in para_function:\n",
    "    nn=MLPClassifier(activation=v_function,hidden_layer_sizes=(40,40),random_state=1234)\n",
    "    nn.fit(df_scaled_train_x,df_train_y)\n",
    "    train_accuracy.append(nn.score(df_scaled_train_x,df_train_y))\n",
    "    validation_accuracy.append(nn.score(df_scaled_validation_x,df_validation_y))\n",
    "    \n",
    "df_accuracy_function=pd.DataFrame()\n",
    "df_accuracy_function['ActivationFuction']=para_function\n",
    "df_accuracy_function['TrainAccuracy']=train_accuracy\n",
    "df_accuracy_function['ValidationAccuracy']=validation_accuracy\n",
    "df_accuracy_function.round(3)"
   ]
  },
  {
   "cell_type": "code",
   "execution_count": 69,
   "metadata": {},
   "outputs": [
    {
     "data": {
      "text/plain": [
       "<matplotlib.legend.Legend at 0x7f0f50f90d90>"
      ]
     },
     "execution_count": 69,
     "metadata": {},
     "output_type": "execute_result"
    },
    {
     "data": {
      "image/png": "[encoded data removed]",
      "text/plain": [
       "<Figure size 432x288 with 1 Axes>"
      ]
     },
     "metadata": {
      "needs_background": "light"
     },
     "output_type": "display_data"
    }
   ],
   "source": [
    "plt.plot(para_function, train_accuracy, linestyle='-', label='Train Accuracy')\n",
    "plt.plot(para_function, validation_accuracy, linestyle='--', label='Validation Accuracy')\n",
    "plt.ylabel('accuracy'); plt.xlabel('Activation Function')\n",
    "plt.legend()"
   ]
  },
  {
   "cell_type": "code",
   "execution_count": 70,
   "metadata": {},
   "outputs": [],
   "source": [
    "# relu일 때 validation의 정확도가 가장 높다. 따라서 relu 선택.\n",
    "activation='relu'"
   ]
  },
  {
   "cell_type": "code",
   "execution_count": 71,
   "metadata": {},
   "outputs": [
    {
     "name": "stderr",
     "output_type": "stream",
     "text": [
      "/home/pirl/anaconda3/lib/python3.7/site-packages/sklearn/neural_network/multilayer_perceptron.py:566: ConvergenceWarning: Stochastic Optimizer: Maximum iterations (200) reached and the optimization hasn't converged yet.\n",
      "  % self.max_iter, ConvergenceWarning)\n",
      "/home/pirl/anaconda3/lib/python3.7/site-packages/sklearn/neural_network/multilayer_perceptron.py:566: ConvergenceWarning: Stochastic Optimizer: Maximum iterations (200) reached and the optimization hasn't converged yet.\n",
      "  % self.max_iter, ConvergenceWarning)\n"
     ]
    },
    {
     "data": {
      "text/html": [
       "<div>\n",
       "<style scoped>\n",
       "    .dataframe tbody tr th:only-of-type {\n",
       "        vertical-align: middle;\n",
       "    }\n",
       "\n",
       "    .dataframe tbody tr th {\n",
       "        vertical-align: top;\n",
       "    }\n",
       "\n",
       "    .dataframe thead th {\n",
       "        text-align: right;\n",
       "    }\n",
       "</style>\n",
       "<table border=\"1\" class=\"dataframe\">\n",
       "  <thead>\n",
       "    <tr style=\"text-align: right;\">\n",
       "      <th></th>\n",
       "      <th>Solver</th>\n",
       "      <th>TrainAccuracy</th>\n",
       "      <th>ValidationAccuracy</th>\n",
       "    </tr>\n",
       "  </thead>\n",
       "  <tbody>\n",
       "    <tr>\n",
       "      <td>0</td>\n",
       "      <td>lbfgs</td>\n",
       "      <td>1.000</td>\n",
       "      <td>0.953</td>\n",
       "    </tr>\n",
       "    <tr>\n",
       "      <td>1</td>\n",
       "      <td>sgd</td>\n",
       "      <td>0.974</td>\n",
       "      <td>0.959</td>\n",
       "    </tr>\n",
       "    <tr>\n",
       "      <td>2</td>\n",
       "      <td>adam</td>\n",
       "      <td>0.996</td>\n",
       "      <td>0.971</td>\n",
       "    </tr>\n",
       "  </tbody>\n",
       "</table>\n",
       "</div>"
      ],
      "text/plain": [
       "  Solver  TrainAccuracy  ValidationAccuracy\n",
       "0  lbfgs          1.000               0.953\n",
       "1    sgd          0.974               0.959\n",
       "2   adam          0.996               0.971"
      ]
     },
     "execution_count": 71,
     "metadata": {},
     "output_type": "execute_result"
    }
   ],
   "source": [
    "train_accuracy=[]; validation_accuracy=[]\n",
    "\n",
    "para_solver=['lbfgs','sgd','adam']\n",
    "for v_solver in para_solver:\n",
    "    nn=MLPClassifier(solver=v_solver, activation='relu',hidden_layer_sizes=(40,40),random_state=1234)\n",
    "    nn.fit(df_scaled_train_x,df_train_y)\n",
    "    train_accuracy.append(nn.score(df_scaled_train_x,df_train_y))\n",
    "    validation_accuracy.append(nn.score(df_scaled_validation_x,df_validation_y))\n",
    "    \n",
    "df_accuracy_solver=pd.DataFrame()\n",
    "df_accuracy_solver['Solver']=para_solver\n",
    "df_accuracy_solver['TrainAccuracy']=train_accuracy\n",
    "df_accuracy_solver['ValidationAccuracy']=validation_accuracy\n",
    "df_accuracy_solver.round(3)"
   ]
  },
  {
   "cell_type": "code",
   "execution_count": 72,
   "metadata": {},
   "outputs": [
    {
     "data": {
      "text/plain": [
       "<matplotlib.legend.Legend at 0x7f0f5abff1d0>"
      ]
     },
     "execution_count": 72,
     "metadata": {},
     "output_type": "execute_result"
    },
    {
     "data": {
      "image/png": "[encoded data removed]",
      "text/plain": [
       "<Figure size 432x288 with 1 Axes>"
      ]
     },
     "metadata": {
      "needs_background": "light"
     },
     "output_type": "display_data"
    }
   ],
   "source": [
    "plt.plot(para_solver, train_accuracy, linestyle='-', label='Train Accuracy')\n",
    "plt.plot(para_solver, validation_accuracy, linestyle='--', label='Validation Accuracy')\n",
    "plt.ylabel('accuracy'); plt.xlabel('Solver')\n",
    "plt.legend()"
   ]
  },
  {
   "cell_type": "code",
   "execution_count": 73,
   "metadata": {},
   "outputs": [],
   "source": [
    "solver='adam'\n",
    "#adam이 최적화모델이 가장 높은 정확도를 보임. adam 선택"
   ]
  },
  {
   "cell_type": "code",
   "execution_count": 74,
   "metadata": {},
   "outputs": [
    {
     "data": {
      "text/html": [
       "<div>\n",
       "<style scoped>\n",
       "    .dataframe tbody tr th:only-of-type {\n",
       "        vertical-align: middle;\n",
       "    }\n",
       "\n",
       "    .dataframe tbody tr th {\n",
       "        vertical-align: top;\n",
       "    }\n",
       "\n",
       "    .dataframe thead th {\n",
       "        text-align: right;\n",
       "    }\n",
       "</style>\n",
       "<table border=\"1\" class=\"dataframe\">\n",
       "  <thead>\n",
       "    <tr style=\"text-align: right;\">\n",
       "      <th></th>\n",
       "      <th>Mini Batch</th>\n",
       "      <th>TrainAccuracy</th>\n",
       "      <th>ValidationAccuracy</th>\n",
       "    </tr>\n",
       "  </thead>\n",
       "  <tbody>\n",
       "    <tr>\n",
       "      <td>0</td>\n",
       "      <td>20</td>\n",
       "      <td>1.000</td>\n",
       "      <td>0.971</td>\n",
       "    </tr>\n",
       "    <tr>\n",
       "      <td>1</td>\n",
       "      <td>40</td>\n",
       "      <td>1.000</td>\n",
       "      <td>0.965</td>\n",
       "    </tr>\n",
       "    <tr>\n",
       "      <td>2</td>\n",
       "      <td>60</td>\n",
       "      <td>1.000</td>\n",
       "      <td>0.965</td>\n",
       "    </tr>\n",
       "    <tr>\n",
       "      <td>3</td>\n",
       "      <td>80</td>\n",
       "      <td>1.000</td>\n",
       "      <td>0.965</td>\n",
       "    </tr>\n",
       "    <tr>\n",
       "      <td>4</td>\n",
       "      <td>100</td>\n",
       "      <td>1.000</td>\n",
       "      <td>0.965</td>\n",
       "    </tr>\n",
       "    <tr>\n",
       "      <td>5</td>\n",
       "      <td>120</td>\n",
       "      <td>1.000</td>\n",
       "      <td>0.965</td>\n",
       "    </tr>\n",
       "    <tr>\n",
       "      <td>6</td>\n",
       "      <td>140</td>\n",
       "      <td>1.000</td>\n",
       "      <td>0.965</td>\n",
       "    </tr>\n",
       "    <tr>\n",
       "      <td>7</td>\n",
       "      <td>160</td>\n",
       "      <td>1.000</td>\n",
       "      <td>0.965</td>\n",
       "    </tr>\n",
       "    <tr>\n",
       "      <td>8</td>\n",
       "      <td>180</td>\n",
       "      <td>0.996</td>\n",
       "      <td>0.965</td>\n",
       "    </tr>\n",
       "  </tbody>\n",
       "</table>\n",
       "</div>"
      ],
      "text/plain": [
       "   Mini Batch  TrainAccuracy  ValidationAccuracy\n",
       "0          20          1.000               0.971\n",
       "1          40          1.000               0.965\n",
       "2          60          1.000               0.965\n",
       "3          80          1.000               0.965\n",
       "4         100          1.000               0.965\n",
       "5         120          1.000               0.965\n",
       "6         140          1.000               0.965\n",
       "7         160          1.000               0.965\n",
       "8         180          0.996               0.965"
      ]
     },
     "execution_count": 74,
     "metadata": {},
     "output_type": "execute_result"
    }
   ],
   "source": [
    "train_accuracy=[]; validation_accuracy=[]\n",
    "para_batch=[20*batch for batch in range(1,10)]\n",
    "\n",
    "for v_batch in para_batch:\n",
    "    nn=MLPClassifier(batch_size=v_batch, solver='adam', activation='relu', \n",
    "                     hidden_layer_sizes=(40,40), random_state=1234)\n",
    "    nn.fit(df_scaled_train_x,df_train_y)\n",
    "    train_accuracy.append(nn.score(df_scaled_train_x,df_train_y))\n",
    "    validation_accuracy.append(nn.score(df_scaled_validation_x,df_validation_y))\n",
    "    \n",
    "df_accuracy_batch=pd.DataFrame()\n",
    "df_accuracy_batch['Mini Batch']=para_batch\n",
    "df_accuracy_batch['TrainAccuracy']=train_accuracy\n",
    "df_accuracy_batch[\"ValidationAccuracy\"]=validation_accuracy\n",
    "df_accuracy_batch.round(3)"
   ]
  },
  {
   "cell_type": "code",
   "execution_count": 75,
   "metadata": {},
   "outputs": [
    {
     "data": {
      "text/plain": [
       "<matplotlib.legend.Legend at 0x7f0f50ef2f90>"
      ]
     },
     "execution_count": 75,
     "metadata": {},
     "output_type": "execute_result"
    },
    {
     "data": {
      "image/png": "[encoded data removed]",
      "text/plain": [
       "<Figure size 432x288 with 1 Axes>"
      ]
     },
     "metadata": {
      "needs_background": "light"
     },
     "output_type": "display_data"
    }
   ],
   "source": [
    "plt.plot(para_batch, train_accuracy, linestyle='-', label='Train Accuracy')\n",
    "plt.plot(para_batch, validation_accuracy, linestyle='--', label='Validation Accuracy')\n",
    "plt.ylabel('accuracy'); plt.xlabel('Mini Batch Size')\n",
    "plt.legend()"
   ]
  },
  {
   "cell_type": "code",
   "execution_count": 76,
   "metadata": {},
   "outputs": [],
   "source": [
    "batch_size=20\n",
    "#mini batch 사이즈가 커질수록 validation 정확성이 낮아지는 것을 확인할 수 있다.\n",
    "#따라서 mini batch 20 선택"
   ]
  },
  {
   "cell_type": "code",
   "execution_count": 77,
   "metadata": {},
   "outputs": [
    {
     "name": "stdout",
     "output_type": "stream",
     "text": [
      "Accuracy on training set:1.000\n",
      "\n",
      "Accuracy on validation set:0.971\n",
      "\n",
      "Confusion matrix:\n",
      "[[114   0]\n",
      " [  5  52]]\n"
     ]
    }
   ],
   "source": [
    "nn_final=MLPClassifier(hidden_layer_sizes=(40,40),activation='relu',solver='adam',batch_size=20,   \n",
    "                     random_state=1234)\n",
    "\n",
    "nn_final.fit(df_scaled_train_x, df_train_y)\n",
    "y_pred=nn_final.predict(df_scaled_validation_x)\n",
    "\n",
    "print('Accuracy on training set:{0:.3f}\\n'.format(nn_final.score(df_scaled_train_x,df_train_y)))\n",
    "\n",
    "print('Accuracy on validation set:{0:.3f}\\n'.format(nn_final.score(df_scaled_validation_x,df_validation_y)))\n",
    "\n",
    "print(\"Confusion matrix:\\n{}\".format(confusion_matrix(df_validation_y,y_pred)))"
   ]
  },
  {
   "cell_type": "code",
   "execution_count": 78,
   "metadata": {},
   "outputs": [
    {
     "name": "stdout",
     "output_type": "stream",
     "text": [
      "Accuracy on test set:0.959\n",
      "\n",
      "Confusion matrix:\n",
      "[[101   1]\n",
      " [  6  63]]\n"
     ]
    }
   ],
   "source": [
    "y_pred=nn_final.predict(df_scaled_test_x)\n",
    "print('Accuracy on test set:{0:.3f}\\n'.format(nn_final.score(df_scaled_test_x,df_test_y)))\n",
    "print(\"Confusion matrix:\\n{}\".format(confusion_matrix(df_test_y,y_pred)))"
   ]
  },
  {
   "cell_type": "code",
   "execution_count": 80,
   "metadata": {},
   "outputs": [
    {
     "data": {
      "text/plain": [
       "\"\\nAccuracy on training set:1.000\\nAccuracy on validation set:0.971\\nAccuracy on test set:0.959\\nConfusion matrix:\\n[[101   1]\\n [  6  63]]\\n \\n최종적으로 hidden_layer_sizes=(40,40),activation='relu',solver='adam',batch_size=20로 parameter를 선택하였으며 \\ntest set의 정확도는 0.959이다.\\n\\nconfusion matrix를 살펴보면, 악성인데 양성으로 예측한개수는 1이고, 양성인데 악성으로 잘못 예측한 것은 6이다.\\n유방암인데 유방암이 아니라고 예측한 경우가 6건이 생겼다.\\n\""
      ]
     },
     "execution_count": 80,
     "metadata": {},
     "output_type": "execute_result"
    }
   ],
   "source": [
    "'''\n",
    "Accuracy on training set:1.000\n",
    "Accuracy on validation set:0.971\n",
    "Accuracy on test set:0.959\n",
    "Confusion matrix:\n",
    "[[101   1]\n",
    " [  6  63]]\n",
    " \n",
    "최종적으로 hidden_layer_sizes=(40,40),activation='relu',solver='adam',batch_size=20로 parameter를 선택하였으며 \n",
    "test set의 정확도는 0.959이다.\n",
    "\n",
    "confusion matrix를 살펴보면, 악성인데 양성으로 예측한개수는 1이고, 양성인데 악성으로 잘못 예측한 것은 6이다.\n",
    "유방암인데 유방암이 아니라고 예측한 경우가 6건이 생겼다.\n",
    "'''"
   ]
  },
  {
   "cell_type": "markdown",
   "metadata": {},
   "source": [
    "# SVM,  KNN, 인공신경망"
   ]
  },
  {
   "cell_type": "code",
   "execution_count": 81,
   "metadata": {},
   "outputs": [
    {
     "data": {
      "text/plain": [
       "'\\nSVM\\nAccuracy on training set:0.996\\nAccuracy on validation set:0.959\\nAccuracy on test set:0.947\\nConfusion matrix:\\n[[102   0]\\n [  9  60]]\\n \\n\\nKNN\\nAccuracy on training set:0.956\\nAccuracy on validation set:0.953\\nAccuracy on test set:0.918\\nConfusion matrix:\\n[[98  4]\\n [10 59]]\\n \\n\\n인공신경망\\nAccuracy on training set:1.000\\nAccuracy on validation set:0.971\\nAccuracy on test set:0.959\\nConfusion matrix:\\n[[101   1]\\n [  6  63]]\\n \\n\\nKNN<SVM<인공신경망 순으로 TEST SET의 정확도가 높아졌다.\\n유방암 데이터의 경우, 유방암인데 유방암이 아니라고 오분류하는게 가장 위험할 것이다. \\nFN의 갯수가 인공신경망이 6으로 가장 낮고, 정확도도 가장 높으므로 이 경우에는 인공신경망 모델을 사용하는것이\\n가장 좋을것으로 생각된다.\\n'"
      ]
     },
     "execution_count": 81,
     "metadata": {},
     "output_type": "execute_result"
    }
   ],
   "source": [
    "'''\n",
    "SVM\n",
    "Accuracy on training set:0.996\n",
    "Accuracy on validation set:0.959\n",
    "Accuracy on test set:0.947\n",
    "Confusion matrix:\n",
    "[[102   0]\n",
    " [  9  60]]\n",
    " \n",
    "\n",
    "KNN\n",
    "Accuracy on training set:0.956\n",
    "Accuracy on validation set:0.953\n",
    "Accuracy on test set:0.918\n",
    "Confusion matrix:\n",
    "[[98  4]\n",
    " [10 59]]\n",
    " \n",
    "\n",
    "인공신경망\n",
    "Accuracy on training set:1.000\n",
    "Accuracy on validation set:0.971\n",
    "Accuracy on test set:0.959\n",
    "Confusion matrix:\n",
    "[[101   1]\n",
    " [  6  63]]\n",
    " \n",
    "\n",
    "KNN<SVM<인공신경망 순으로 TEST SET의 정확도가 높아졌다.\n",
    "유방암 데이터의 경우, 유방암인데 유방암이 아니라고 오분류하는게 가장 위험할 것이다. \n",
    "FN의 갯수가 인공신경망이 6으로 가장 낮고, 정확도도 가장 높으므로 이 경우에는 인공신경망 모델을 사용하는것이\n",
    "가장 좋을것으로 생각된다.\n",
    "'''"
   ]
  }
 ],
 "metadata": {
  "kernelspec": {
   "display_name": "Python 3",
   "language": "python",
   "name": "python3"
  },
  "language_info": {
   "codemirror_mode": {
    "name": "ipython",
    "version": 3
   },
   "file_extension": ".py",
   "mimetype": "text/x-python",
   "name": "python",
   "nbconvert_exporter": "python",
   "pygments_lexer": "ipython3",
   "version": "3.7.4"
  }
 },
 "nbformat": 4,
 "nbformat_minor": 2
}
