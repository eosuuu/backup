{
 "cells": [
  {
   "cell_type": "code",
   "execution_count": 1,
   "metadata": {},
   "outputs": [],
   "source": [
    "import pandas as pd\n",
    "import numpy as np\n",
    "\n",
    "import matplotlib.pyplot as plt\n",
    "import matplotlib\n",
    "\n",
    "from sklearn.model_selection import train_test_split \n",
    "from sklearn.preprocessing import StandardScaler\n",
    "\n",
    "from sklearn.tree import DecisionTreeClassifier\n",
    "from sklearn.ensemble import RandomForestClassifier\n",
    "from sklearn.ensemble import GradientBoostingClassifier\n",
    "from sklearn.neural_network import MLPClassifier\n",
    "\n",
    "from statsmodels.api import Logit\n",
    "from sklearn.metrics import accuracy_score\n",
    "from sklearn.metrics import confusion_matrix\n",
    "\n",
    "\n",
    "from sklearn.metrics import f1_score, roc_curve, auc\n",
    "import matplotlib.pyplot as plt\n",
    "\n",
    "import seaborn as sns\n",
    "\n",
    "from statsmodels.api import qqplot, add_constant\n",
    "from statsmodels.stats.outliers_influence import variance_inflation_factor\n",
    "\n",
    "from sklearn.tree import export_graphviz\n",
    "\n",
    "import graphviz\n",
    "\n",
    "\n",
    "from sklearn.model_selection import GridSearchCV"
   ]
  },
  {
   "cell_type": "code",
   "execution_count": 3,
   "metadata": {},
   "outputs": [
    {
     "data": {
      "text/plain": [
       "'\\ndf_raw[\"STEEL_C\"] = 0\\nfor i in range(len(df_raw)):\\n    df_raw[\"STEEL_C\"].iloc[i] = np.where(df_raw[\"STEEL_KIND\"][i][0] == \"C\", 1, 0)\\ndf_raw.head()\\n'"
      ]
     },
     "execution_count": 3,
     "metadata": {},
     "output_type": "execute_result"
    }
   ],
   "source": [
    "df=pd.read_csv('SCALE불량.csv', engine='python', encoding='euc-kr')\n",
    "\n",
    "#제거\n",
    "df.drop(['PLATE_NO','ROLLING_DATE'], axis=1, inplace=True)\n",
    "\n",
    "#SCALE, HSB 0,1F로 변경\n",
    "df['SCALE'].replace('양품',0,inplace=True)\n",
    "df['SCALE'].replace('불량',1,inplace=True)\n",
    "df.head()\n",
    "\n",
    "df['HSB'].replace('미적용',0,inplace=True)\n",
    "df['HSB'].replace('적용',1,inplace=True)\n",
    "df.head()\n",
    "\n",
    "df_raw=df\n",
    "\n",
    "#이상치 변경.\n",
    "df_raw.loc[df_raw['ROLLING_TEMP_T5']==0, \"ROLLING_TEMP_T5\"]=np.nan\n",
    "#압연온도가 0도인 것은 이상치인것으로 볼 수 있다. 0인 데이터 6개. 723도는 박스를 벗어나있지만 큰 차이 없어 바꾸지 않겠음.\n",
    "df_raw[\"ROLLING_TEMP_T5\"].fillna(df_raw['ROLLING_TEMP_T5'].mean(), inplace=True)\n",
    "\n",
    "#값이 동일. 제외\n",
    "df_raw.drop(['FUR_EXTEMP'], axis=1, inplace=True)\n",
    "\n",
    "'''\n",
    "df_raw[\"STEEL_C\"] = 0\n",
    "for i in range(len(df_raw)):\n",
    "    df_raw[\"STEEL_C\"].iloc[i] = np.where(df_raw[\"STEEL_KIND\"][i][0] == \"C\", 1, 0)\n",
    "df_raw.head()\n",
    "'''"
   ]
  },
  {
   "cell_type": "code",
   "execution_count": null,
   "metadata": {},
   "outputs": [],
   "source": []
  }
 ],
 "metadata": {
  "kernelspec": {
   "display_name": "Python 3",
   "language": "python",
   "name": "python3"
  },
  "language_info": {
   "codemirror_mode": {
    "name": "ipython",
    "version": 3
   },
   "file_extension": ".py",
   "mimetype": "text/x-python",
   "name": "python",
   "nbconvert_exporter": "python",
   "pygments_lexer": "ipython3",
   "version": "3.7.4"
  }
 },
 "nbformat": 4,
 "nbformat_minor": 2
}
