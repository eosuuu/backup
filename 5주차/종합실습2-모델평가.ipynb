{
 "cells": [
  {
   "cell_type": "code",
   "execution_count": 1,
   "metadata": {},
   "outputs": [],
   "source": [
    "import pandas as pd\n",
    "import numpy as np\n",
    "\n",
    "import matplotlib.pyplot as plt\n",
    "import matplotlib\n",
    "\n",
    "from sklearn.model_selection import train_test_split \n",
    "from sklearn.preprocessing import StandardScaler\n",
    "\n",
    "from sklearn.tree import DecisionTreeClassifier\n",
    "from sklearn.ensemble import RandomForestClassifier\n",
    "from sklearn.ensemble import GradientBoostingClassifier\n",
    "from sklearn.neural_network import MLPClassifier\n",
    "\n",
    "from statsmodels.api import Logit\n",
    "from sklearn.metrics import accuracy_score\n",
    "from sklearn.metrics import confusion_matrix\n",
    "\n",
    "\n",
    "from sklearn.metrics import f1_score, roc_curve, auc\n",
    "import matplotlib.pyplot as plt\n",
    "\n",
    "import seaborn as sns\n",
    "\n",
    "from statsmodels.api import qqplot, add_constant\n",
    "from statsmodels.stats.outliers_influence import variance_inflation_factor\n",
    "\n",
    "from sklearn.tree import export_graphviz\n",
    "\n",
    "import graphviz\n",
    "\n",
    "\n",
    "from sklearn.model_selection import GridSearchCV\n",
    "\n",
    "from sklearn.svm import SVC\n",
    "from sklearn.neural_network import MLPClassifier\n",
    "from sklearn.neighbors import KNeighborsClassifier"
   ]
  },
  {
   "cell_type": "code",
   "execution_count": 2,
   "metadata": {},
   "outputs": [],
   "source": [
    "import pandas as pd\n",
    "\n",
    "import matplotlib.pyplot as plt\n",
    "import matplotlib\n",
    "\n",
    "from sklearn.model_selection import train_test_split \n",
    "from sklearn.preprocessing import StandardScaler\n",
    "\n",
    "from sklearn.tree import DecisionTreeClassifier\n",
    "from sklearn.ensemble import RandomForestClassifier\n",
    "from sklearn.ensemble import GradientBoostingClassifier\n",
    "from sklearn.neural_network import MLPClassifier\n",
    "\n",
    "\n",
    "from sklearn.metrics import f1_score, roc_curve, auc\n",
    "import matplotlib.pyplot as plt\n",
    "\n"
   ]
  },
  {
   "cell_type": "code",
   "execution_count": 3,
   "metadata": {},
   "outputs": [
    {
     "name": "stderr",
     "output_type": "stream",
     "text": [
      "/home/pirl/anaconda3/lib/python3.7/site-packages/pandas/core/indexing.py:205: SettingWithCopyWarning: \n",
      "A value is trying to be set on a copy of a slice from a DataFrame\n",
      "\n",
      "See the caveats in the documentation: http://pandas.pydata.org/pandas-docs/stable/user_guide/indexing.html#returning-a-view-versus-a-copy\n",
      "  self._setitem_with_indexer(indexer, value)\n"
     ]
    },
    {
     "data": {
      "text/html": [
       "<div>\n",
       "<style scoped>\n",
       "    .dataframe tbody tr th:only-of-type {\n",
       "        vertical-align: middle;\n",
       "    }\n",
       "\n",
       "    .dataframe tbody tr th {\n",
       "        vertical-align: top;\n",
       "    }\n",
       "\n",
       "    .dataframe thead th {\n",
       "        text-align: right;\n",
       "    }\n",
       "</style>\n",
       "<table border=\"1\" class=\"dataframe\">\n",
       "  <thead>\n",
       "    <tr style=\"text-align: right;\">\n",
       "      <th></th>\n",
       "      <th>SCALE</th>\n",
       "      <th>SPEC</th>\n",
       "      <th>STEEL_KIND</th>\n",
       "      <th>PT_THK</th>\n",
       "      <th>PT_WDTH</th>\n",
       "      <th>PT_LTH</th>\n",
       "      <th>PT_WGT</th>\n",
       "      <th>FUR_NO</th>\n",
       "      <th>FUR_NO_ROW</th>\n",
       "      <th>FUR_HZ_TEMP</th>\n",
       "      <th>FUR_HZ_TIME</th>\n",
       "      <th>FUR_SZ_TEMP</th>\n",
       "      <th>FUR_SZ_TIME</th>\n",
       "      <th>FUR_TIME</th>\n",
       "      <th>ROLLING_TEMP_T5</th>\n",
       "      <th>HSB</th>\n",
       "      <th>ROLLING_DESCALING</th>\n",
       "      <th>WORK_GR</th>\n",
       "      <th>STEEL_C</th>\n",
       "    </tr>\n",
       "  </thead>\n",
       "  <tbody>\n",
       "    <tr>\n",
       "      <td>0</td>\n",
       "      <td>0</td>\n",
       "      <td>AB/EH32-TM</td>\n",
       "      <td>T1</td>\n",
       "      <td>32.25</td>\n",
       "      <td>3707</td>\n",
       "      <td>15109</td>\n",
       "      <td>14180</td>\n",
       "      <td>1호기</td>\n",
       "      <td>1</td>\n",
       "      <td>1144</td>\n",
       "      <td>116</td>\n",
       "      <td>1133</td>\n",
       "      <td>59</td>\n",
       "      <td>282</td>\n",
       "      <td>934.0</td>\n",
       "      <td>1</td>\n",
       "      <td>8</td>\n",
       "      <td>2조</td>\n",
       "      <td>0</td>\n",
       "    </tr>\n",
       "    <tr>\n",
       "      <td>1</td>\n",
       "      <td>0</td>\n",
       "      <td>AB/EH32-TM</td>\n",
       "      <td>T1</td>\n",
       "      <td>32.25</td>\n",
       "      <td>3707</td>\n",
       "      <td>15109</td>\n",
       "      <td>14180</td>\n",
       "      <td>1호기</td>\n",
       "      <td>2</td>\n",
       "      <td>1144</td>\n",
       "      <td>122</td>\n",
       "      <td>1135</td>\n",
       "      <td>53</td>\n",
       "      <td>283</td>\n",
       "      <td>937.0</td>\n",
       "      <td>1</td>\n",
       "      <td>8</td>\n",
       "      <td>2조</td>\n",
       "      <td>0</td>\n",
       "    </tr>\n",
       "    <tr>\n",
       "      <td>2</td>\n",
       "      <td>0</td>\n",
       "      <td>NV-E36-TM</td>\n",
       "      <td>T8</td>\n",
       "      <td>33.27</td>\n",
       "      <td>3619</td>\n",
       "      <td>19181</td>\n",
       "      <td>18130</td>\n",
       "      <td>2호기</td>\n",
       "      <td>1</td>\n",
       "      <td>1129</td>\n",
       "      <td>116</td>\n",
       "      <td>1121</td>\n",
       "      <td>55</td>\n",
       "      <td>282</td>\n",
       "      <td>889.0</td>\n",
       "      <td>1</td>\n",
       "      <td>8</td>\n",
       "      <td>3조</td>\n",
       "      <td>0</td>\n",
       "    </tr>\n",
       "    <tr>\n",
       "      <td>3</td>\n",
       "      <td>0</td>\n",
       "      <td>NV-E36-TM</td>\n",
       "      <td>T8</td>\n",
       "      <td>33.27</td>\n",
       "      <td>3619</td>\n",
       "      <td>19181</td>\n",
       "      <td>18130</td>\n",
       "      <td>2호기</td>\n",
       "      <td>2</td>\n",
       "      <td>1152</td>\n",
       "      <td>125</td>\n",
       "      <td>1127</td>\n",
       "      <td>68</td>\n",
       "      <td>316</td>\n",
       "      <td>885.0</td>\n",
       "      <td>1</td>\n",
       "      <td>8</td>\n",
       "      <td>3조</td>\n",
       "      <td>0</td>\n",
       "    </tr>\n",
       "    <tr>\n",
       "      <td>4</td>\n",
       "      <td>0</td>\n",
       "      <td>BV-EH36-TM</td>\n",
       "      <td>T8</td>\n",
       "      <td>38.33</td>\n",
       "      <td>3098</td>\n",
       "      <td>13334</td>\n",
       "      <td>12430</td>\n",
       "      <td>3호기</td>\n",
       "      <td>1</td>\n",
       "      <td>1140</td>\n",
       "      <td>134</td>\n",
       "      <td>1128</td>\n",
       "      <td>48</td>\n",
       "      <td>314</td>\n",
       "      <td>873.0</td>\n",
       "      <td>1</td>\n",
       "      <td>8</td>\n",
       "      <td>1조</td>\n",
       "      <td>0</td>\n",
       "    </tr>\n",
       "  </tbody>\n",
       "</table>\n",
       "</div>"
      ],
      "text/plain": [
       "   SCALE        SPEC STEEL_KIND  PT_THK  PT_WDTH  PT_LTH  PT_WGT FUR_NO  \\\n",
       "0      0  AB/EH32-TM         T1   32.25     3707   15109   14180    1호기   \n",
       "1      0  AB/EH32-TM         T1   32.25     3707   15109   14180    1호기   \n",
       "2      0   NV-E36-TM         T8   33.27     3619   19181   18130    2호기   \n",
       "3      0   NV-E36-TM         T8   33.27     3619   19181   18130    2호기   \n",
       "4      0  BV-EH36-TM         T8   38.33     3098   13334   12430    3호기   \n",
       "\n",
       "   FUR_NO_ROW  FUR_HZ_TEMP  FUR_HZ_TIME  FUR_SZ_TEMP  FUR_SZ_TIME  FUR_TIME  \\\n",
       "0           1         1144          116         1133           59       282   \n",
       "1           2         1144          122         1135           53       283   \n",
       "2           1         1129          116         1121           55       282   \n",
       "3           2         1152          125         1127           68       316   \n",
       "4           1         1140          134         1128           48       314   \n",
       "\n",
       "   ROLLING_TEMP_T5  HSB  ROLLING_DESCALING WORK_GR  STEEL_C  \n",
       "0            934.0    1                  8      2조        0  \n",
       "1            937.0    1                  8      2조        0  \n",
       "2            889.0    1                  8      3조        0  \n",
       "3            885.0    1                  8      3조        0  \n",
       "4            873.0    1                  8      1조        0  "
      ]
     },
     "execution_count": 3,
     "metadata": {},
     "output_type": "execute_result"
    }
   ],
   "source": [
    "df=pd.read_csv('SCALE불량.csv', engine='python', encoding='euc-kr')\n",
    "df.drop(['PLATE_NO','ROLLING_DATE'], axis=1, inplace=True)\n",
    "\n",
    "df['SCALE'].replace('양품',0,inplace=True)\n",
    "df['SCALE'].replace('불량',1,inplace=True)\n",
    "df.head()\n",
    "\n",
    "df['HSB'].replace('미적용',0,inplace=True)\n",
    "df['HSB'].replace('적용',1,inplace=True)\n",
    "df.head()\n",
    "\n",
    "df_raw=df\n",
    "\n",
    "\n",
    "df_raw.loc[df_raw['ROLLING_TEMP_T5']==0, \"ROLLING_TEMP_T5\"]=np.nan\n",
    "#압연온도가 0도인 것은 이상치인것으로 볼 수 있다. 0인 데이터 6개. 723도는 박스를 벗어나있지만 큰 차이 없어 바꾸지 않겠음.\n",
    "df_raw[\"ROLLING_TEMP_T5\"].fillna(df_raw['ROLLING_TEMP_T5'].mean(), inplace=True)\n",
    "\n",
    "\n",
    "df_raw.drop(['FUR_EXTEMP'], axis=1, inplace=True)\n",
    "\n",
    "df_raw[\"STEEL_C\"] = 0\n",
    "for i in range(len(df_raw)):\n",
    "    df_raw[\"STEEL_C\"].iloc[i] = np.where(df_raw[\"STEEL_KIND\"][i][0] == \"C\", 1, 0)\n",
    "df_raw.head()\n",
    "\n"
   ]
  },
  {
   "cell_type": "code",
   "execution_count": 4,
   "metadata": {},
   "outputs": [
    {
     "name": "stdout",
     "output_type": "stream",
     "text": [
      "train data X size:(504, 96)\n",
      "train data Y size:(504,)\n",
      "test data X size:(216, 96)\n",
      "test data X size:(216,)\n"
     ]
    }
   ],
   "source": [
    "df_raw_dummy=pd.get_dummies(df_raw)\n",
    "df_raw_dummy.head()\n",
    "\n",
    "df_raw_y=df_raw_dummy['SCALE']\n",
    "df_raw_x=df_raw_dummy.drop('SCALE', axis=1, inplace=False)\n",
    "df_train_x,df_test_x,df_train_y,df_test_y=train_test_split(df_raw_x,df_raw_y,test_size=0.3,random_state=1234)\n",
    "print(\"train data X size:{}\".format(df_train_x.shape))\n",
    "print(\"train data Y size:{}\".format(df_train_y.shape))\n",
    "print(\"test data X size:{}\".format(df_test_x.shape))\n",
    "print(\"test data X size:{}\".format(df_test_y.shape))"
   ]
  },
  {
   "cell_type": "code",
   "execution_count": 5,
   "metadata": {},
   "outputs": [],
   "source": [
    "model=['DT','RF','GB','SVM','KNN','NeuralNet']\n",
    "\n",
    "train_accuracy=[]; test_accuracy=[]\n",
    "model_f1_score=[]\n",
    "model_auc=[]"
   ]
  },
  {
   "cell_type": "code",
   "execution_count": 42,
   "metadata": {},
   "outputs": [
    {
     "name": "stdout",
     "output_type": "stream",
     "text": [
      "Warning: Maximum number of iterations has been exceeded.\n",
      "         Current function value: 0.574192\n",
      "         Iterations: 35\n"
     ]
    },
    {
     "name": "stderr",
     "output_type": "stream",
     "text": [
      "/home/pirl/anaconda3/lib/python3.7/site-packages/statsmodels/base/model.py:512: ConvergenceWarning: Maximum Likelihood optimization failed to converge. Check mle_retvals\n",
      "  \"Check mle_retvals\", ConvergenceWarning)\n"
     ]
    },
    {
     "ename": "ValueError",
     "evalue": "Found input variables with inconsistent numbers of samples: [576, 144]",
     "output_type": "error",
     "traceback": [
      "\u001b[0;31m---------------------------------------------------------------------------\u001b[0m",
      "\u001b[0;31mValueError\u001b[0m                                Traceback (most recent call last)",
      "\u001b[0;32m<ipython-input-42-7d13fba564d5>\u001b[0m in \u001b[0;36m<module>\u001b[0;34m\u001b[0m\n\u001b[1;32m      9\u001b[0m \u001b[0;34m\u001b[0m\u001b[0m\n\u001b[1;32m     10\u001b[0m \u001b[0;34m\u001b[0m\u001b[0m\n\u001b[0;32m---> 11\u001b[0;31m \u001b[0mtrain_accuracy\u001b[0m\u001b[0;34m.\u001b[0m\u001b[0mappend\u001b[0m\u001b[0;34m(\u001b[0m\u001b[0maccuracy_score\u001b[0m\u001b[0;34m(\u001b[0m\u001b[0mdf_train\u001b[0m\u001b[0;34m[\u001b[0m\u001b[0;34m'SCALE'\u001b[0m\u001b[0;34m]\u001b[0m\u001b[0;34m,\u001b[0m\u001b[0my_pred_train_class\u001b[0m\u001b[0;34m)\u001b[0m\u001b[0;34m)\u001b[0m\u001b[0;34m\u001b[0m\u001b[0;34m\u001b[0m\u001b[0m\n\u001b[0m\u001b[1;32m     12\u001b[0m \u001b[0mtest_accuracy\u001b[0m\u001b[0;34m.\u001b[0m\u001b[0mappend\u001b[0m\u001b[0;34m(\u001b[0m\u001b[0maccuracy_score\u001b[0m\u001b[0;34m(\u001b[0m\u001b[0mdf_test\u001b[0m\u001b[0;34m[\u001b[0m\u001b[0;34m'SCALE'\u001b[0m\u001b[0;34m]\u001b[0m\u001b[0;34m,\u001b[0m\u001b[0my_pred_test_class\u001b[0m\u001b[0;34m)\u001b[0m\u001b[0;34m)\u001b[0m\u001b[0;34m\u001b[0m\u001b[0;34m\u001b[0m\u001b[0m\n\u001b[1;32m     13\u001b[0m \u001b[0;34m\u001b[0m\u001b[0m\n",
      "\u001b[0;32m~/anaconda3/lib/python3.7/site-packages/sklearn/metrics/classification.py\u001b[0m in \u001b[0;36maccuracy_score\u001b[0;34m(y_true, y_pred, normalize, sample_weight)\u001b[0m\n\u001b[1;32m    174\u001b[0m \u001b[0;34m\u001b[0m\u001b[0m\n\u001b[1;32m    175\u001b[0m     \u001b[0;31m# Compute accuracy for each possible representation\u001b[0m\u001b[0;34m\u001b[0m\u001b[0;34m\u001b[0m\u001b[0;34m\u001b[0m\u001b[0m\n\u001b[0;32m--> 176\u001b[0;31m     \u001b[0my_type\u001b[0m\u001b[0;34m,\u001b[0m \u001b[0my_true\u001b[0m\u001b[0;34m,\u001b[0m \u001b[0my_pred\u001b[0m \u001b[0;34m=\u001b[0m \u001b[0m_check_targets\u001b[0m\u001b[0;34m(\u001b[0m\u001b[0my_true\u001b[0m\u001b[0;34m,\u001b[0m \u001b[0my_pred\u001b[0m\u001b[0;34m)\u001b[0m\u001b[0;34m\u001b[0m\u001b[0;34m\u001b[0m\u001b[0m\n\u001b[0m\u001b[1;32m    177\u001b[0m     \u001b[0mcheck_consistent_length\u001b[0m\u001b[0;34m(\u001b[0m\u001b[0my_true\u001b[0m\u001b[0;34m,\u001b[0m \u001b[0my_pred\u001b[0m\u001b[0;34m,\u001b[0m \u001b[0msample_weight\u001b[0m\u001b[0;34m)\u001b[0m\u001b[0;34m\u001b[0m\u001b[0;34m\u001b[0m\u001b[0m\n\u001b[1;32m    178\u001b[0m     \u001b[0;32mif\u001b[0m \u001b[0my_type\u001b[0m\u001b[0;34m.\u001b[0m\u001b[0mstartswith\u001b[0m\u001b[0;34m(\u001b[0m\u001b[0;34m'multilabel'\u001b[0m\u001b[0;34m)\u001b[0m\u001b[0;34m:\u001b[0m\u001b[0;34m\u001b[0m\u001b[0;34m\u001b[0m\u001b[0m\n",
      "\u001b[0;32m~/anaconda3/lib/python3.7/site-packages/sklearn/metrics/classification.py\u001b[0m in \u001b[0;36m_check_targets\u001b[0;34m(y_true, y_pred)\u001b[0m\n\u001b[1;32m     69\u001b[0m     \u001b[0my_pred\u001b[0m \u001b[0;34m:\u001b[0m \u001b[0marray\u001b[0m \u001b[0;32mor\u001b[0m \u001b[0mindicator\u001b[0m \u001b[0mmatrix\u001b[0m\u001b[0;34m\u001b[0m\u001b[0;34m\u001b[0m\u001b[0m\n\u001b[1;32m     70\u001b[0m     \"\"\"\n\u001b[0;32m---> 71\u001b[0;31m     \u001b[0mcheck_consistent_length\u001b[0m\u001b[0;34m(\u001b[0m\u001b[0my_true\u001b[0m\u001b[0;34m,\u001b[0m \u001b[0my_pred\u001b[0m\u001b[0;34m)\u001b[0m\u001b[0;34m\u001b[0m\u001b[0;34m\u001b[0m\u001b[0m\n\u001b[0m\u001b[1;32m     72\u001b[0m     \u001b[0mtype_true\u001b[0m \u001b[0;34m=\u001b[0m \u001b[0mtype_of_target\u001b[0m\u001b[0;34m(\u001b[0m\u001b[0my_true\u001b[0m\u001b[0;34m)\u001b[0m\u001b[0;34m\u001b[0m\u001b[0;34m\u001b[0m\u001b[0m\n\u001b[1;32m     73\u001b[0m     \u001b[0mtype_pred\u001b[0m \u001b[0;34m=\u001b[0m \u001b[0mtype_of_target\u001b[0m\u001b[0;34m(\u001b[0m\u001b[0my_pred\u001b[0m\u001b[0;34m)\u001b[0m\u001b[0;34m\u001b[0m\u001b[0;34m\u001b[0m\u001b[0m\n",
      "\u001b[0;32m~/anaconda3/lib/python3.7/site-packages/sklearn/utils/validation.py\u001b[0m in \u001b[0;36mcheck_consistent_length\u001b[0;34m(*arrays)\u001b[0m\n\u001b[1;32m    203\u001b[0m     \u001b[0;32mif\u001b[0m \u001b[0mlen\u001b[0m\u001b[0;34m(\u001b[0m\u001b[0muniques\u001b[0m\u001b[0;34m)\u001b[0m \u001b[0;34m>\u001b[0m \u001b[0;36m1\u001b[0m\u001b[0;34m:\u001b[0m\u001b[0;34m\u001b[0m\u001b[0;34m\u001b[0m\u001b[0m\n\u001b[1;32m    204\u001b[0m         raise ValueError(\"Found input variables with inconsistent numbers of\"\n\u001b[0;32m--> 205\u001b[0;31m                          \" samples: %r\" % [int(l) for l in lengths])\n\u001b[0m\u001b[1;32m    206\u001b[0m \u001b[0;34m\u001b[0m\u001b[0m\n\u001b[1;32m    207\u001b[0m \u001b[0;34m\u001b[0m\u001b[0m\n",
      "\u001b[0;31mValueError\u001b[0m: Found input variables with inconsistent numbers of samples: [576, 144]"
     ]
    }
   ],
   "source": [
    "'''\n",
    "log_model=Logit.from_formula('''SCALE~HSB''', data=df_train)\n",
    "log_result=log_model.fit()\n",
    "\n",
    "y_pred_train=log_result.predict(df_test)\n",
    "y_pred_train_class=(y_pred_train>0.5).astype(int)\n",
    " \n",
    "y_pred_test=log_result.predict(df_test)\n",
    "y_pred_test_class=(y_pred>0.5).astype(int)\n",
    "    \n",
    "    \n",
    "train_accuracy.append(accuracy_score(df_train['SCALE'],y_pred_train_class))\n",
    "test_accuracy.append(accuracy_score(df_test['SCALE'],y_pred_test_class))\n",
    "\n",
    "                     \n",
    "fpr,tpr,thresholds=roc_curve(df_test,y_pred)\n",
    "roc_auc=auc(fpr,tpr)\n",
    "\n",
    "model_auc.append(roc_auc)\n",
    "'''"
   ]
  },
  {
   "cell_type": "code",
   "execution_count": null,
   "metadata": {},
   "outputs": [],
   "source": [
    "'''\n",
    "plt.plot(fpr,tpr,label='AUC=%0.2f' %roc_auc)\n",
    "plt.legend(loc='lower right')\n",
    "plt.ylabel('TPR'); plt.xlabel('FPR')\n",
    "plt.show()\n",
    "'''"
   ]
  },
  {
   "cell_type": "code",
   "execution_count": null,
   "metadata": {},
   "outputs": [],
   "source": [
    "'''\n",
    "model_f1_score.append(f1_score(df_test_y,y_pred))\n",
    "'''"
   ]
  },
  {
   "cell_type": "markdown",
   "metadata": {},
   "source": [
    "# 의사결정나무"
   ]
  },
  {
   "cell_type": "code",
   "execution_count": 6,
   "metadata": {},
   "outputs": [],
   "source": [
    "dt_model=DecisionTreeClassifier(criterion='gini',min_samples_leaf=11,max_depth=8,random_state=1234)\n",
    "dt_model.fit(df_train_x,df_train_y)\n",
    "\n",
    "train_accuracy.append(dt_model.score(df_train_x,df_train_y))\n",
    "test_accuracy.append(dt_model.score(df_test_x,df_test_y))\n",
    "\n",
    "y_pred=dt_model.predict(df_test_x)\n",
    "\n",
    "fpr,tpr,thresholds=roc_curve(df_test_y,y_pred)\n",
    "roc_auc=auc(fpr,tpr)\n",
    "\n",
    "model_auc.append(roc_auc)"
   ]
  },
  {
   "cell_type": "code",
   "execution_count": 7,
   "metadata": {},
   "outputs": [
    {
     "data": {
      "image/png": "[encoded data removed]",
      "text/plain": [
       "<Figure size 432x288 with 1 Axes>"
      ]
     },
     "metadata": {
      "needs_background": "light"
     },
     "output_type": "display_data"
    }
   ],
   "source": [
    "plt.plot(fpr,tpr,label='AUC=%0.2f' %roc_auc)\n",
    "plt.legend(loc='lower right')\n",
    "plt.ylabel('TPR'); plt.xlabel('FPR')\n",
    "plt.show()"
   ]
  },
  {
   "cell_type": "code",
   "execution_count": 8,
   "metadata": {},
   "outputs": [],
   "source": [
    "model_f1_score.append(f1_score(df_test_y,y_pred))"
   ]
  },
  {
   "cell_type": "markdown",
   "metadata": {},
   "source": [
    "# 렌덤 포래스트"
   ]
  },
  {
   "cell_type": "code",
   "execution_count": 9,
   "metadata": {},
   "outputs": [],
   "source": [
    "rf_model=RandomForestClassifier(min_samples_leaf=10,min_samples_split=50, max_depth=7,n_estimators=40,random_state=1234)\n",
    "rf_model.fit(df_train_x,df_train_y)\n",
    "\n",
    "train_accuracy.append(rf_model.score(df_train_x,df_train_y))\n",
    "test_accuracy.append(rf_model.score(df_test_x,df_test_y))\n",
    "\n",
    "y_pred=rf_model.predict(df_test_x)\n",
    "\n",
    "fpr,tpr,thresholds=roc_curve(df_test_y,y_pred)\n",
    "roc_auc=auc(fpr,tpr)\n",
    "\n",
    "model_auc.append(roc_auc)"
   ]
  },
  {
   "cell_type": "code",
   "execution_count": 10,
   "metadata": {},
   "outputs": [
    {
     "data": {
      "image/png": "[encoded data removed]",
      "text/plain": [
       "<Figure size 432x288 with 1 Axes>"
      ]
     },
     "metadata": {
      "needs_background": "light"
     },
     "output_type": "display_data"
    }
   ],
   "source": [
    "plt.plot(fpr,tpr,label='AUC=%0.2f' %roc_auc)\n",
    "plt.legend(loc='lower right')\n",
    "plt.ylabel('TPR'); plt.xlabel('FPR')\n",
    "plt.show()"
   ]
  },
  {
   "cell_type": "code",
   "execution_count": 11,
   "metadata": {},
   "outputs": [],
   "source": [
    "model_f1_score.append(f1_score(df_test_y,y_pred))"
   ]
  },
  {
   "cell_type": "markdown",
   "metadata": {},
   "source": [
    "# 그래디언트 부스팅"
   ]
  },
  {
   "cell_type": "code",
   "execution_count": 12,
   "metadata": {},
   "outputs": [],
   "source": [
    "gb_model=GradientBoostingClassifier(min_samples_leaf=10,min_samples_split=30,max_depth=5,n_estimators=60,learning_rate=0.3,random_state=1234)\n",
    "gb_model.fit(df_train_x,df_train_y)\n",
    "\n",
    "train_accuracy.append(gb_model.score(df_train_x,df_train_y))\n",
    "test_accuracy.append(gb_model.score(df_test_x,df_test_y))\n",
    "\n",
    "y_pred=gb_model.predict(df_test_x)\n",
    "\n",
    "fpr,tpr,thresholds=roc_curve(df_test_y,y_pred)\n",
    "roc_auc=auc(fpr,tpr)\n",
    "\n",
    "model_auc.append(roc_auc)"
   ]
  },
  {
   "cell_type": "code",
   "execution_count": 13,
   "metadata": {},
   "outputs": [
    {
     "data": {
      "image/png": "[encoded data removed]",
      "text/plain": [
       "<Figure size 432x288 with 1 Axes>"
      ]
     },
     "metadata": {
      "needs_background": "light"
     },
     "output_type": "display_data"
    }
   ],
   "source": [
    "plt.plot(fpr,tpr,label='AUC=%0.2f' %roc_auc)\n",
    "plt.legend(loc='lower right')\n",
    "plt.ylabel('TPR'); plt.xlabel('FPR')\n",
    "plt.show()"
   ]
  },
  {
   "cell_type": "code",
   "execution_count": 14,
   "metadata": {},
   "outputs": [],
   "source": [
    "model_f1_score.append(f1_score(df_test_y,y_pred))"
   ]
  },
  {
   "cell_type": "markdown",
   "metadata": {},
   "source": [
    "# svm"
   ]
  },
  {
   "cell_type": "code",
   "execution_count": 15,
   "metadata": {},
   "outputs": [],
   "source": [
    "v_feature_names=df_train_x.columns\n",
    "\n",
    "scaler=StandardScaler()\n",
    "df_scaled=scaler.fit_transform(df_raw_x)\n",
    "df_scaled=pd.DataFrame(df_scaled,columns=v_feature_names)\n"
   ]
  },
  {
   "cell_type": "code",
   "execution_count": 16,
   "metadata": {},
   "outputs": [
    {
     "name": "stdout",
     "output_type": "stream",
     "text": [
      "train data X size:(504, 96)\n",
      "test data X size:(216, 96)\n"
     ]
    }
   ],
   "source": [
    "df_scaled_train_x,df_scaled_test_x=train_test_split(df_scaled,test_size=0.3, random_state=1234)\n",
    "print('train data X size:{}'.format(df_scaled_train_x.shape))\n",
    "print('test data X size:{}'.format(df_scaled_test_x.shape))"
   ]
  },
  {
   "cell_type": "code",
   "execution_count": 17,
   "metadata": {},
   "outputs": [],
   "source": [
    "svc_model=SVC(gamma=0.01,C=1, random_state=1234)\n",
    "\n",
    "svc_model.fit(df_scaled_train_x, df_train_y)\n",
    "\n",
    "train_accuracy.append(svc_model.score(df_scaled_train_x,df_train_y))\n",
    "test_accuracy.append(svc_model.score(df_scaled_test_x,df_test_y))\n",
    "\n",
    "y_pred=svc_model.predict(df_scaled_test_x)\n",
    "\n",
    "fpr,tpr,thresholds=roc_curve(df_test_y, y_pred)\n",
    "roc_auc=auc(fpr,tpr)\n",
    "\n",
    "model_auc.append(roc_auc)"
   ]
  },
  {
   "cell_type": "code",
   "execution_count": 18,
   "metadata": {},
   "outputs": [
    {
     "data": {
      "image/png": "[encoded data removed]",
      "text/plain": [
       "<Figure size 432x288 with 1 Axes>"
      ]
     },
     "metadata": {
      "needs_background": "light"
     },
     "output_type": "display_data"
    }
   ],
   "source": [
    "plt.plot(fpr,tpr,label='AUC=%0.2f' %roc_auc)\n",
    "plt.legend(loc='lower right')\n",
    "plt.ylabel('TPR'); plt.xlabel('FPR')\n",
    "plt.show()"
   ]
  },
  {
   "cell_type": "code",
   "execution_count": 19,
   "metadata": {},
   "outputs": [],
   "source": [
    "model_f1_score.append(f1_score(df_test_y,y_pred))"
   ]
  },
  {
   "cell_type": "markdown",
   "metadata": {},
   "source": [
    "# knn"
   ]
  },
  {
   "cell_type": "code",
   "execution_count": 20,
   "metadata": {},
   "outputs": [],
   "source": [
    "knn_model=KNeighborsClassifier(n_neighbors=5, weights='uniform', metric='manhattan')\n",
    "knn_model.fit(df_train_x, df_train_y)\n",
    "\n",
    "train_accuracy.append(knn_model.score(df_train_x,df_train_y))\n",
    "test_accuracy.append(knn_model.score(df_test_x,df_test_y))\n",
    "\n",
    "y_pred=knn_model.predict(df_test_x)\n",
    "\n",
    "fpr,tpr,thresholds=roc_curve(df_test_y,y_pred)\n",
    "roc_auc=auc(fpr,tpr)\n",
    "\n",
    "model_auc.append(roc_auc)"
   ]
  },
  {
   "cell_type": "code",
   "execution_count": 21,
   "metadata": {},
   "outputs": [
    {
     "data": {
      "image/png": "[encoded data removed]",
      "text/plain": [
       "<Figure size 432x288 with 1 Axes>"
      ]
     },
     "metadata": {
      "needs_background": "light"
     },
     "output_type": "display_data"
    }
   ],
   "source": [
    "plt.plot(fpr,tpr,label='AUC=%0.2f' %roc_auc)\n",
    "plt.legend(loc='lower right')\n",
    "plt.ylabel('TPR'); plt.xlabel('FPR')\n",
    "plt.show()"
   ]
  },
  {
   "cell_type": "code",
   "execution_count": 22,
   "metadata": {},
   "outputs": [],
   "source": [
    "model_f1_score.append(f1_score(df_test_y,y_pred))"
   ]
  },
  {
   "cell_type": "markdown",
   "metadata": {},
   "source": [
    "# 인공신경망"
   ]
  },
  {
   "cell_type": "code",
   "execution_count": 23,
   "metadata": {},
   "outputs": [],
   "source": [
    "v_feature_names=df_train_x.columns\n",
    "\n",
    "scaler=StandardScaler()\n",
    "df_scaled=scaler.fit_transform(df_raw_x)\n",
    "df_scaled=pd.DataFrame(df_scaled,columns=v_feature_names)\n"
   ]
  },
  {
   "cell_type": "code",
   "execution_count": 24,
   "metadata": {},
   "outputs": [
    {
     "name": "stdout",
     "output_type": "stream",
     "text": [
      "train data X size:(504, 96)\n",
      "test data X size:(216, 96)\n"
     ]
    }
   ],
   "source": [
    "df_scaled_train_x,df_scaled_test_x=train_test_split(df_scaled,test_size=0.3, random_state=1234)\n",
    "print('train data X size:{}'.format(df_scaled_train_x.shape))\n",
    "print('test data X size:{}'.format(df_scaled_test_x.shape))"
   ]
  },
  {
   "cell_type": "code",
   "execution_count": 25,
   "metadata": {},
   "outputs": [
    {
     "name": "stderr",
     "output_type": "stream",
     "text": [
      "/home/pirl/anaconda3/lib/python3.7/site-packages/sklearn/neural_network/multilayer_perceptron.py:566: ConvergenceWarning: Stochastic Optimizer: Maximum iterations (200) reached and the optimization hasn't converged yet.\n",
      "  % self.max_iter, ConvergenceWarning)\n"
     ]
    }
   ],
   "source": [
    "nn_model=MLPClassifier(hidden_layer_sizes=(140,140),activation='logistic',solver='adam',batch_size=40,   \n",
    "                     random_state=1234)\n",
    "nn_model.fit(df_scaled_train_x,df_train_y)\n",
    "\n",
    "train_accuracy.append(nn_model.score(df_scaled_train_x,df_train_y))\n",
    "test_accuracy.append(nn_model.score(df_scaled_test_x,df_test_y))\n",
    "\n",
    "y_pred=nn_model.predict(df_scaled_test_x)\n",
    "\n",
    "fpr,tpr,thresholds=roc_curve(df_test_y, y_pred)\n",
    "roc_auc=auc(fpr,tpr)\n",
    "\n",
    "model_auc.append(roc_auc)"
   ]
  },
  {
   "cell_type": "code",
   "execution_count": 26,
   "metadata": {},
   "outputs": [
    {
     "data": {
      "image/png": "[encoded data removed]",
      "text/plain": [
       "<Figure size 432x288 with 1 Axes>"
      ]
     },
     "metadata": {
      "needs_background": "light"
     },
     "output_type": "display_data"
    }
   ],
   "source": [
    "plt.plot(fpr,tpr,label='AUC=%0.2f' %roc_auc)\n",
    "plt.legend(loc='lower right')\n",
    "plt.ylabel('TPR'); plt.xlabel('FPR')\n",
    "plt.show()"
   ]
  },
  {
   "cell_type": "code",
   "execution_count": 27,
   "metadata": {},
   "outputs": [],
   "source": [
    "model_f1_score.append(f1_score(df_test_y,y_pred))"
   ]
  },
  {
   "cell_type": "markdown",
   "metadata": {},
   "source": [
    "# 회귀"
   ]
  },
  {
   "cell_type": "code",
   "execution_count": null,
   "metadata": {},
   "outputs": [],
   "source": []
  },
  {
   "cell_type": "code",
   "execution_count": null,
   "metadata": {},
   "outputs": [],
   "source": []
  },
  {
   "cell_type": "code",
   "execution_count": null,
   "metadata": {},
   "outputs": [],
   "source": []
  },
  {
   "cell_type": "markdown",
   "metadata": {},
   "source": [
    "# 모델평가"
   ]
  },
  {
   "cell_type": "code",
   "execution_count": 28,
   "metadata": {},
   "outputs": [
    {
     "data": {
      "text/html": [
       "<div>\n",
       "<style scoped>\n",
       "    .dataframe tbody tr th:only-of-type {\n",
       "        vertical-align: middle;\n",
       "    }\n",
       "\n",
       "    .dataframe tbody tr th {\n",
       "        vertical-align: top;\n",
       "    }\n",
       "\n",
       "    .dataframe thead th {\n",
       "        text-align: right;\n",
       "    }\n",
       "</style>\n",
       "<table border=\"1\" class=\"dataframe\">\n",
       "  <thead>\n",
       "    <tr style=\"text-align: right;\">\n",
       "      <th></th>\n",
       "      <th>TrainAccuracy</th>\n",
       "      <th>TestAccuracy</th>\n",
       "      <th>F1Score</th>\n",
       "      <th>AUC</th>\n",
       "    </tr>\n",
       "  </thead>\n",
       "  <tbody>\n",
       "    <tr>\n",
       "      <td>DT</td>\n",
       "      <td>0.980</td>\n",
       "      <td>0.991</td>\n",
       "      <td>0.986</td>\n",
       "      <td>0.986</td>\n",
       "    </tr>\n",
       "    <tr>\n",
       "      <td>RF</td>\n",
       "      <td>0.897</td>\n",
       "      <td>0.894</td>\n",
       "      <td>0.807</td>\n",
       "      <td>0.838</td>\n",
       "    </tr>\n",
       "    <tr>\n",
       "      <td>GB</td>\n",
       "      <td>1.000</td>\n",
       "      <td>0.995</td>\n",
       "      <td>0.993</td>\n",
       "      <td>0.993</td>\n",
       "    </tr>\n",
       "    <tr>\n",
       "      <td>SVM</td>\n",
       "      <td>0.885</td>\n",
       "      <td>0.792</td>\n",
       "      <td>0.609</td>\n",
       "      <td>0.715</td>\n",
       "    </tr>\n",
       "    <tr>\n",
       "      <td>KNN</td>\n",
       "      <td>0.813</td>\n",
       "      <td>0.787</td>\n",
       "      <td>0.617</td>\n",
       "      <td>0.719</td>\n",
       "    </tr>\n",
       "    <tr>\n",
       "      <td>NeuralNet</td>\n",
       "      <td>0.980</td>\n",
       "      <td>0.801</td>\n",
       "      <td>0.677</td>\n",
       "      <td>0.758</td>\n",
       "    </tr>\n",
       "  </tbody>\n",
       "</table>\n",
       "</div>"
      ],
      "text/plain": [
       "           TrainAccuracy  TestAccuracy  F1Score    AUC\n",
       "DT                 0.980         0.991    0.986  0.986\n",
       "RF                 0.897         0.894    0.807  0.838\n",
       "GB                 1.000         0.995    0.993  0.993\n",
       "SVM                0.885         0.792    0.609  0.715\n",
       "KNN                0.813         0.787    0.617  0.719\n",
       "NeuralNet          0.980         0.801    0.677  0.758"
      ]
     },
     "execution_count": 28,
     "metadata": {},
     "output_type": "execute_result"
    }
   ],
   "source": [
    "df_eval=pd.DataFrame(index=model)\n",
    "df_eval['TrainAccuracy']=train_accuracy\n",
    "df_eval['TestAccuracy']=test_accuracy\n",
    "df_eval['F1Score']=model_f1_score\n",
    "df_eval['AUC']=model_auc\n",
    "df_eval.round(3)"
   ]
  },
  {
   "cell_type": "code",
   "execution_count": 29,
   "metadata": {},
   "outputs": [
    {
     "data": {
      "text/plain": [
       "<Figure size 7200x5760 with 0 Axes>"
      ]
     },
     "execution_count": 29,
     "metadata": {},
     "output_type": "execute_result"
    },
    {
     "data": {
      "image/png": "[encoded data removed]",
      "text/plain": [
       "<Figure size 432x288 with 1 Axes>"
      ]
     },
     "metadata": {
      "needs_background": "light"
     },
     "output_type": "display_data"
    },
    {
     "data": {
      "text/plain": [
       "<Figure size 7200x5760 with 0 Axes>"
      ]
     },
     "metadata": {},
     "output_type": "display_data"
    }
   ],
   "source": [
    "df_eval.plot.bar(rot=0)\n",
    "plt.legend(loc='lower right')\n",
    "plt.grid(axis='y')\n",
    "plt.figure(figsize=(100,80))"
   ]
  },
  {
   "cell_type": "code",
   "execution_count": null,
   "metadata": {},
   "outputs": [],
   "source": []
  }
 ],
 "metadata": {
  "kernelspec": {
   "display_name": "Python 3",
   "language": "python",
   "name": "python3"
  },
  "language_info": {
   "codemirror_mode": {
    "name": "ipython",
    "version": 3
   },
   "file_extension": ".py",
   "mimetype": "text/x-python",
   "name": "python",
   "nbconvert_exporter": "python",
   "pygments_lexer": "ipython3",
   "version": "3.7.4"
  }
 },
 "nbformat": 4,
 "nbformat_minor": 2
}
